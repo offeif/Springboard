{
 "cells": [
  {
   "cell_type": "markdown",
   "metadata": {},
   "source": [
    "# 4 Pre-Processing and Training Data<a id='4_Pre-Processing_and_Training_Data'></a>"
   ]
  },
  {
   "cell_type": "markdown",
   "metadata": {},
   "source": [
    "## 4.1 Introduction<a id='4.1_Introduction'></a>"
   ]
  },
  {
   "cell_type": "markdown",
   "metadata": {},
   "source": [
    "In the preceeding notebooks we performed assessment on the data. Rows with high missing percentage values were eliminated.<br>\n",
    "\n",
    "In this notebook we continue with analysis by building machine learning models. We will perform a final check on the columns and rows with missing values before building our models."
   ]
  },
  {
   "cell_type": "markdown",
   "metadata": {},
   "source": [
    "## 4.2 Imports<a id='4.2_Imports'></a>"
   ]
  },
  {
   "cell_type": "code",
   "execution_count": 2,
   "metadata": {},
   "outputs": [],
   "source": [
    "import pandas as pd\n",
    "import numpy as np\n",
    "import os\n",
    "import pickle\n",
    "import matplotlib.pyplot as plt\n",
    "import seaborn as sns\n",
    "from sklearn import __version__ as sklearn_version\n",
    "from sklearn.decomposition import PCA\n",
    "from sklearn.preprocessing import scale\n",
    "from sklearn.model_selection import train_test_split, cross_validate, GridSearchCV, learning_curve, RandomizedSearchCV\n",
    "from sklearn.preprocessing import StandardScaler, MinMaxScaler\n",
    "from sklearn.dummy import DummyClassifier\n",
    "from sklearn.linear_model import LogisticRegression\n",
    "from sklearn.ensemble import RandomForestClassifier, GradientBoostingClassifier\n",
    "from xgboost import XGBClassifier\n",
    "from sklearn.metrics import precision_recall_curve\n",
    "from sklearn.metrics import f1_score\n",
    "from sklearn.metrics import auc\n",
    "from sklearn.metrics import classification_report,confusion_matrix,roc_curve,roc_auc_score\n",
    "from sklearn.metrics import accuracy_score,log_loss\n",
    "from sklearn.pipeline import Pipeline\n",
    "from sklearn.impute import SimpleImputer\n",
    "import datetime\n",
    "\n",
    "from library.sb_utils import save_file\n",
    "\n",
    "# import warnings filter\n",
    "from warnings import simplefilter\n",
    "# ignore all future warnings\n",
    "simplefilter(action='ignore', category=FutureWarning)"
   ]
  },
  {
   "cell_type": "markdown",
   "metadata": {},
   "source": [
    "## 4.3 Load Data<a id='4.3_Load_Data'></a>"
   ]
  },
  {
   "cell_type": "code",
   "execution_count": 3,
   "metadata": {},
   "outputs": [],
   "source": [
    "def reduce_mem_usage(df, verbose=True):\n",
    "    numerics = ['int16', 'int32', 'int64', 'float16', 'float32', 'float64']\n",
    "    start_mem = df.memory_usage().sum() / 1024**2    \n",
    "    for col in df.columns:\n",
    "        col_type = df[col].dtypes\n",
    "        if col_type in numerics:\n",
    "            c_min = df[col].min()\n",
    "            c_max = df[col].max()\n",
    "            if str(col_type)[:3] == 'int':\n",
    "                if c_min > np.iinfo(np.int8).min and c_max < np.iinfo(np.int8).max:\n",
    "                    df[col] = df[col].astype(np.int8)\n",
    "                elif c_min > np.iinfo(np.int16).min and c_max < np.iinfo(np.int16).max:\n",
    "                    df[col] = df[col].astype(np.int16)\n",
    "                elif c_min > np.iinfo(np.int32).min and c_max < np.iinfo(np.int32).max:\n",
    "                    df[col] = df[col].astype(np.int32)\n",
    "                elif c_min > np.iinfo(np.int64).min and c_max < np.iinfo(np.int64).max:\n",
    "                    df[col] = df[col].astype(np.int64)  \n",
    "            else:\n",
    "                if c_min > np.finfo(np.float16).min and c_max < np.finfo(np.float16).max:\n",
    "                    df[col] = df[col].astype(np.float16)\n",
    "                elif c_min > np.finfo(np.float32).min and c_max < np.finfo(np.float32).max:\n",
    "                    df[col] = df[col].astype(np.float32)\n",
    "                else:\n",
    "                    df[col] = df[col].astype(np.float64)    \n",
    "    end_mem = df.memory_usage().sum() / 1024**2\n",
    "    if verbose: print('Mem. usage decreased to {:5.2f} Mb ({:.1f}% reduction)'.format(end_mem, 100 * (start_mem - end_mem) / start_mem))\n",
    "    return df"
   ]
  },
  {
   "cell_type": "code",
   "execution_count": 4,
   "metadata": {},
   "outputs": [],
   "source": [
    "dtypes = {\n",
    "        'ProductName':                                          'category',\n",
    "        'EngineVersion':                                        'category',\n",
    "        'AppVersion':                                           'category',\n",
    "        'AvSigVersion':                                         'category',\n",
    "        'IsBeta':                                               'int8',\n",
    "        'RtpStateBitfield':                                     'float16',\n",
    "        'IsSxsPassiveMode':                                     'int8',\n",
    "        'AVProductStatesIdentifier':                            'float32',\n",
    "        'AVProductsInstalled':                                  'float16',\n",
    "        'AVProductsEnabled':                                    'float16',\n",
    "        'HasTpm':                                               'int8',\n",
    "        'CountryIdentifier':                                    'int16',\n",
    "        'CityIdentifier':                                       'float32',\n",
    "        'OrganizationIdentifier':                               'float16',\n",
    "        'GeoNameIdentifier':                                    'float16',\n",
    "        'LocaleEnglishNameIdentifier':                          'int8',\n",
    "        'Platform':                                             'category',\n",
    "        'Processor':                                            'category',\n",
    "        'OsVer':                                                'category',\n",
    "        'OsBuild':                                              'int16',\n",
    "        'OsSuite':                                              'int16',\n",
    "        'OsPlatformSubRelease':                                 'category',\n",
    "        'OsBuildLab':                                           'category',\n",
    "        'SkuEdition':                                           'category',\n",
    "        'IsProtected':                                          'float16',\n",
    "        'AutoSampleOptIn':                                      'int8',\n",
    "        'SMode':                                                'float16',\n",
    "        'IeVerIdentifier':                                      'float16',\n",
    "        'SmartScreen':                                          'category',\n",
    "        'Firewall':                                             'float16',\n",
    "        'UacLuaenable':                                         'float32',\n",
    "        'Census_MDC2FormFactor':                                'category',\n",
    "        'Census_DeviceFamily':                                  'category',\n",
    "        'Census_OEMNameIdentifier':                             'float16',\n",
    "        'Census_OEMModelIdentifier':                            'float32',\n",
    "        'Census_ProcessorCoreCount':                            'float16',\n",
    "        'Census_ProcessorManufacturerIdentifier':               'float16',\n",
    "        'Census_ProcessorModelIdentifier':                      'float16',\n",
    "        'Census_PrimaryDiskTotalCapacity':                      'float32',\n",
    "        'Census_PrimaryDiskTypeName':                           'category',\n",
    "        'Census_SystemVolumeTotalCapacity':                     'float32',\n",
    "        'Census_HasOpticalDiskDrive':                           'int8',\n",
    "        'Census_TotalPhysicalRAM':                              'float32',\n",
    "        'Census_ChassisTypeName':                               'category',\n",
    "        'Census_InternalPrimaryDiagonalDisplaySizeInInches':    'float16',\n",
    "        'Census_InternalPrimaryDisplayResolutionHorizontal':    'float16',\n",
    "        'Census_InternalPrimaryDisplayResolutionVertical':      'float16',\n",
    "        'Census_PowerPlatformRoleName':                         'category',\n",
    "        'Census_InternalBatteryType':                           'category',\n",
    "        'Census_InternalBatteryNumberOfCharges':                'float32',\n",
    "        'Census_OSVersion':                                     'category',\n",
    "        'Census_OSArchitecture':                                'category',\n",
    "        'Census_OSBranch':                                      'category',\n",
    "        'Census_OSBuildNumber':                                 'int16',\n",
    "        'Census_OSBuildRevision':                               'int32',\n",
    "        'Census_OSEdition':                                     'category',\n",
    "        'Census_OSSkuName':                                     'category',\n",
    "        'Census_OSInstallTypeName':                             'category',\n",
    "        'Census_OSInstallLanguageIdentifier':                   'float16',\n",
    "        'Census_OSUILocaleIdentifier':                          'int16',\n",
    "        'Census_OSWUAutoUpdateOptionsName':                     'category',\n",
    "        'Census_IsPortableOperatingSystem':                     'int8',\n",
    "        'Census_GenuineStateName':                              'category',\n",
    "        'Census_ActivationChannel':                             'category',\n",
    "        'Census_IsFlightingInternal':                           'float16',\n",
    "        'Census_IsFlightsDisabled':                             'float16',\n",
    "        'Census_FlightRing':                                    'category',\n",
    "        'Census_ThresholdOptIn':                                'float16',\n",
    "        'Census_FirmwareManufacturerIdentifier':                'float16',\n",
    "        'Census_FirmwareVersionIdentifier':                     'float32',\n",
    "        'Census_IsSecureBootEnabled':                           'int8',\n",
    "        'Census_IsWIMBootEnabled':                              'float16',\n",
    "        'Census_IsVirtualDevice':                               'float16',\n",
    "        'Census_IsTouchEnabled':                                'int8',\n",
    "        'Census_IsPenCapable':                                  'int8',\n",
    "        'Census_IsAlwaysOnAlwaysConnectedCapable':              'float16',\n",
    "        'Wdft_IsGamer':                                         'float16',\n",
    "        'Wdft_RegionIdentifier':                                'float16',\n",
    "        'HasDetections':                                        'int8'\n",
    "        }"
   ]
  },
  {
   "cell_type": "code",
   "execution_count": 5,
   "metadata": {},
   "outputs": [
    {
     "name": "stdout",
     "output_type": "stream",
     "text": [
      "CPU times: user 40.1 s, sys: 2.06 s, total: 42.1 s\n",
      "Wall time: 45.1 s\n"
     ]
    }
   ],
   "source": [
    "%%time\n",
    "# Read the cleaned malware data\n",
    "df = pd.read_csv('/Users/felixoffei/Desktop/Springboard/Capstone/Capstone Project2/malware_step3.csv',\n",
    "                    dtype = dtypes)"
   ]
  },
  {
   "cell_type": "code",
   "execution_count": 6,
   "metadata": {},
   "outputs": [
    {
     "name": "stdout",
     "output_type": "stream",
     "text": [
      "Mem. usage decreased to 545.94 Mb (0.0% reduction)\n"
     ]
    }
   ],
   "source": [
    "df = reduce_mem_usage(df)"
   ]
  },
  {
   "cell_type": "code",
   "execution_count": 7,
   "metadata": {
    "scrolled": true
   },
   "outputs": [
    {
     "data": {
      "text/html": [
       "<div>\n",
       "<style scoped>\n",
       "    .dataframe tbody tr th:only-of-type {\n",
       "        vertical-align: middle;\n",
       "    }\n",
       "\n",
       "    .dataframe tbody tr th {\n",
       "        vertical-align: top;\n",
       "    }\n",
       "\n",
       "    .dataframe thead th {\n",
       "        text-align: right;\n",
       "    }\n",
       "</style>\n",
       "<table border=\"1\" class=\"dataframe\">\n",
       "  <thead>\n",
       "    <tr style=\"text-align: right;\">\n",
       "      <th></th>\n",
       "      <th>ProductName</th>\n",
       "      <th>EngineVersion</th>\n",
       "      <th>AppVersion</th>\n",
       "      <th>AvSigVersion</th>\n",
       "      <th>IsBeta</th>\n",
       "      <th>RtpStateBitfield</th>\n",
       "      <th>IsSxsPassiveMode</th>\n",
       "      <th>AVProductStatesIdentifier</th>\n",
       "      <th>AVProductsInstalled</th>\n",
       "      <th>AVProductsEnabled</th>\n",
       "      <th>...</th>\n",
       "      <th>Census_FirmwareVersionIdentifier</th>\n",
       "      <th>Census_IsSecureBootEnabled</th>\n",
       "      <th>Census_IsWIMBootEnabled</th>\n",
       "      <th>Census_IsVirtualDevice</th>\n",
       "      <th>Census_IsTouchEnabled</th>\n",
       "      <th>Census_IsPenCapable</th>\n",
       "      <th>Census_IsAlwaysOnAlwaysConnectedCapable</th>\n",
       "      <th>Wdft_IsGamer</th>\n",
       "      <th>Wdft_RegionIdentifier</th>\n",
       "      <th>HasDetections</th>\n",
       "    </tr>\n",
       "  </thead>\n",
       "  <tbody>\n",
       "    <tr>\n",
       "      <th>0</th>\n",
       "      <td>win8defender</td>\n",
       "      <td>1.1.15100.1</td>\n",
       "      <td>4.18.1807.18075</td>\n",
       "      <td>1.273.1735.0</td>\n",
       "      <td>0</td>\n",
       "      <td>7.0</td>\n",
       "      <td>0</td>\n",
       "      <td>53447.0</td>\n",
       "      <td>1.0</td>\n",
       "      <td>1.0</td>\n",
       "      <td>...</td>\n",
       "      <td>36144.0</td>\n",
       "      <td>0</td>\n",
       "      <td>NaN</td>\n",
       "      <td>0.0</td>\n",
       "      <td>0</td>\n",
       "      <td>0</td>\n",
       "      <td>0.0</td>\n",
       "      <td>0.0</td>\n",
       "      <td>10.0</td>\n",
       "      <td>0</td>\n",
       "    </tr>\n",
       "    <tr>\n",
       "      <th>1</th>\n",
       "      <td>win8defender</td>\n",
       "      <td>1.1.14600.4</td>\n",
       "      <td>4.13.17134.1</td>\n",
       "      <td>1.263.48.0</td>\n",
       "      <td>0</td>\n",
       "      <td>7.0</td>\n",
       "      <td>0</td>\n",
       "      <td>53447.0</td>\n",
       "      <td>1.0</td>\n",
       "      <td>1.0</td>\n",
       "      <td>...</td>\n",
       "      <td>57858.0</td>\n",
       "      <td>0</td>\n",
       "      <td>NaN</td>\n",
       "      <td>0.0</td>\n",
       "      <td>0</td>\n",
       "      <td>0</td>\n",
       "      <td>0.0</td>\n",
       "      <td>0.0</td>\n",
       "      <td>8.0</td>\n",
       "      <td>0</td>\n",
       "    </tr>\n",
       "    <tr>\n",
       "      <th>2</th>\n",
       "      <td>win8defender</td>\n",
       "      <td>1.1.15100.1</td>\n",
       "      <td>4.18.1807.18075</td>\n",
       "      <td>1.273.1341.0</td>\n",
       "      <td>0</td>\n",
       "      <td>7.0</td>\n",
       "      <td>0</td>\n",
       "      <td>53447.0</td>\n",
       "      <td>1.0</td>\n",
       "      <td>1.0</td>\n",
       "      <td>...</td>\n",
       "      <td>52682.0</td>\n",
       "      <td>0</td>\n",
       "      <td>NaN</td>\n",
       "      <td>0.0</td>\n",
       "      <td>0</td>\n",
       "      <td>0</td>\n",
       "      <td>0.0</td>\n",
       "      <td>0.0</td>\n",
       "      <td>3.0</td>\n",
       "      <td>0</td>\n",
       "    </tr>\n",
       "    <tr>\n",
       "      <th>3</th>\n",
       "      <td>win8defender</td>\n",
       "      <td>1.1.15100.1</td>\n",
       "      <td>4.18.1807.18075</td>\n",
       "      <td>1.273.1527.0</td>\n",
       "      <td>0</td>\n",
       "      <td>7.0</td>\n",
       "      <td>0</td>\n",
       "      <td>53447.0</td>\n",
       "      <td>1.0</td>\n",
       "      <td>1.0</td>\n",
       "      <td>...</td>\n",
       "      <td>20050.0</td>\n",
       "      <td>0</td>\n",
       "      <td>NaN</td>\n",
       "      <td>0.0</td>\n",
       "      <td>0</td>\n",
       "      <td>0</td>\n",
       "      <td>0.0</td>\n",
       "      <td>0.0</td>\n",
       "      <td>3.0</td>\n",
       "      <td>1</td>\n",
       "    </tr>\n",
       "    <tr>\n",
       "      <th>4</th>\n",
       "      <td>win8defender</td>\n",
       "      <td>1.1.15100.1</td>\n",
       "      <td>4.18.1807.18075</td>\n",
       "      <td>1.273.1379.0</td>\n",
       "      <td>0</td>\n",
       "      <td>7.0</td>\n",
       "      <td>0</td>\n",
       "      <td>53447.0</td>\n",
       "      <td>1.0</td>\n",
       "      <td>1.0</td>\n",
       "      <td>...</td>\n",
       "      <td>19844.0</td>\n",
       "      <td>0</td>\n",
       "      <td>0.0</td>\n",
       "      <td>0.0</td>\n",
       "      <td>0</td>\n",
       "      <td>0</td>\n",
       "      <td>0.0</td>\n",
       "      <td>0.0</td>\n",
       "      <td>1.0</td>\n",
       "      <td>1</td>\n",
       "    </tr>\n",
       "  </tbody>\n",
       "</table>\n",
       "<p>5 rows × 79 columns</p>\n",
       "</div>"
      ],
      "text/plain": [
       "    ProductName EngineVersion       AppVersion  AvSigVersion  IsBeta  \\\n",
       "0  win8defender   1.1.15100.1  4.18.1807.18075  1.273.1735.0       0   \n",
       "1  win8defender   1.1.14600.4     4.13.17134.1    1.263.48.0       0   \n",
       "2  win8defender   1.1.15100.1  4.18.1807.18075  1.273.1341.0       0   \n",
       "3  win8defender   1.1.15100.1  4.18.1807.18075  1.273.1527.0       0   \n",
       "4  win8defender   1.1.15100.1  4.18.1807.18075  1.273.1379.0       0   \n",
       "\n",
       "   RtpStateBitfield  IsSxsPassiveMode  AVProductStatesIdentifier  \\\n",
       "0               7.0                 0                    53447.0   \n",
       "1               7.0                 0                    53447.0   \n",
       "2               7.0                 0                    53447.0   \n",
       "3               7.0                 0                    53447.0   \n",
       "4               7.0                 0                    53447.0   \n",
       "\n",
       "   AVProductsInstalled  AVProductsEnabled  ...  \\\n",
       "0                  1.0                1.0  ...   \n",
       "1                  1.0                1.0  ...   \n",
       "2                  1.0                1.0  ...   \n",
       "3                  1.0                1.0  ...   \n",
       "4                  1.0                1.0  ...   \n",
       "\n",
       "   Census_FirmwareVersionIdentifier  Census_IsSecureBootEnabled  \\\n",
       "0                           36144.0                           0   \n",
       "1                           57858.0                           0   \n",
       "2                           52682.0                           0   \n",
       "3                           20050.0                           0   \n",
       "4                           19844.0                           0   \n",
       "\n",
       "   Census_IsWIMBootEnabled  Census_IsVirtualDevice  Census_IsTouchEnabled  \\\n",
       "0                      NaN                     0.0                      0   \n",
       "1                      NaN                     0.0                      0   \n",
       "2                      NaN                     0.0                      0   \n",
       "3                      NaN                     0.0                      0   \n",
       "4                      0.0                     0.0                      0   \n",
       "\n",
       "   Census_IsPenCapable Census_IsAlwaysOnAlwaysConnectedCapable Wdft_IsGamer  \\\n",
       "0                    0                                     0.0          0.0   \n",
       "1                    0                                     0.0          0.0   \n",
       "2                    0                                     0.0          0.0   \n",
       "3                    0                                     0.0          0.0   \n",
       "4                    0                                     0.0          0.0   \n",
       "\n",
       "  Wdft_RegionIdentifier  HasDetections  \n",
       "0                  10.0              0  \n",
       "1                   8.0              0  \n",
       "2                   3.0              0  \n",
       "3                   3.0              1  \n",
       "4                   1.0              1  \n",
       "\n",
       "[5 rows x 79 columns]"
      ]
     },
     "execution_count": 7,
     "metadata": {},
     "output_type": "execute_result"
    }
   ],
   "source": [
    "df.head()"
   ]
  },
  {
   "cell_type": "code",
   "execution_count": 8,
   "metadata": {},
   "outputs": [
    {
     "name": "stdout",
     "output_type": "stream",
     "text": [
      "<class 'pandas.core.frame.DataFrame'>\n",
      "RangeIndex: 4000000 entries, 0 to 3999999\n",
      "Data columns (total 79 columns):\n",
      " #   Column                                             Non-Null Count    Dtype   \n",
      "---  ------                                             --------------    -----   \n",
      " 0   ProductName                                        4000000 non-null  category\n",
      " 1   EngineVersion                                      4000000 non-null  category\n",
      " 2   AppVersion                                         4000000 non-null  category\n",
      " 3   AvSigVersion                                       4000000 non-null  category\n",
      " 4   IsBeta                                             4000000 non-null  int8    \n",
      " 5   RtpStateBitfield                                   3985554 non-null  float16 \n",
      " 6   IsSxsPassiveMode                                   4000000 non-null  int8    \n",
      " 7   AVProductStatesIdentifier                          3983815 non-null  float32 \n",
      " 8   AVProductsInstalled                                3983815 non-null  float16 \n",
      " 9   AVProductsEnabled                                  3983815 non-null  float16 \n",
      " 10  HasTpm                                             4000000 non-null  int8    \n",
      " 11  CountryIdentifier                                  4000000 non-null  int16   \n",
      " 12  CityIdentifier                                     3853816 non-null  float32 \n",
      " 13  OrganizationIdentifier                             2766426 non-null  float16 \n",
      " 14  GeoNameIdentifier                                  3999914 non-null  float16 \n",
      " 15  LocaleEnglishNameIdentifier                        4000000 non-null  int8    \n",
      " 16  Platform                                           4000000 non-null  category\n",
      " 17  Processor                                          4000000 non-null  category\n",
      " 18  OsVer                                              4000000 non-null  category\n",
      " 19  OsBuild                                            4000000 non-null  int16   \n",
      " 20  OsSuite                                            4000000 non-null  int16   \n",
      " 21  OsPlatformSubRelease                               4000000 non-null  category\n",
      " 22  OsBuildLab                                         3999993 non-null  category\n",
      " 23  SkuEdition                                         4000000 non-null  category\n",
      " 24  IsProtected                                        4000000 non-null  float16 \n",
      " 25  AutoSampleOptIn                                    4000000 non-null  int8    \n",
      " 26  SMode                                              3758962 non-null  float16 \n",
      " 27  IeVerIdentifier                                    3973379 non-null  float16 \n",
      " 28  SmartScreen                                        2575137 non-null  category\n",
      " 29  Firewall                                           3958992 non-null  float16 \n",
      " 30  UacLuaenable                                       3995214 non-null  float32 \n",
      " 31  Census_MDC2FormFactor                              4000000 non-null  category\n",
      " 32  Census_DeviceFamily                                4000000 non-null  category\n",
      " 33  Census_OEMNameIdentifier                           3957300 non-null  float16 \n",
      " 34  Census_OEMModelIdentifier                          3954148 non-null  float32 \n",
      " 35  Census_ProcessorCoreCount                          3981343 non-null  float16 \n",
      " 36  Census_ProcessorManufacturerIdentifier             3981341 non-null  float16 \n",
      " 37  Census_ProcessorModelIdentifier                    3981328 non-null  float16 \n",
      " 38  Census_PrimaryDiskTotalCapacity                    3976149 non-null  float32 \n",
      " 39  Census_PrimaryDiskTypeName                         3994223 non-null  category\n",
      " 40  Census_SystemVolumeTotalCapacity                   3976156 non-null  float32 \n",
      " 41  Census_HasOpticalDiskDrive                         4000000 non-null  int8    \n",
      " 42  Census_TotalPhysicalRAM                            3963931 non-null  float32 \n",
      " 43  Census_ChassisTypeName                             3999727 non-null  category\n",
      " 44  Census_InternalPrimaryDiagonalDisplaySizeInInches  3978839 non-null  float16 \n",
      " 45  Census_InternalPrimaryDisplayResolutionHorizontal  3978911 non-null  float16 \n",
      " 46  Census_InternalPrimaryDisplayResolutionVertical    3978911 non-null  float16 \n",
      " 47  Census_PowerPlatformRoleName                       3999979 non-null  category\n",
      " 48  Census_InternalBatteryType                         1158931 non-null  category\n",
      " 49  Census_InternalBatteryNumberOfCharges              3879481 non-null  float32 \n",
      " 50  Census_OSVersion                                   4000000 non-null  category\n",
      " 51  Census_OSArchitecture                              4000000 non-null  category\n",
      " 52  Census_OSBranch                                    4000000 non-null  category\n",
      " 53  Census_OSBuildNumber                               4000000 non-null  int16   \n",
      " 54  Census_OSBuildRevision                             4000000 non-null  int32   \n",
      " 55  Census_OSEdition                                   4000000 non-null  category\n",
      " 56  Census_OSSkuName                                   4000000 non-null  category\n",
      " 57  Census_OSInstallTypeName                           4000000 non-null  category\n",
      " 58  Census_OSInstallLanguageIdentifier                 3973020 non-null  float16 \n",
      " 59  Census_OSUILocaleIdentifier                        4000000 non-null  int16   \n",
      " 60  Census_OSWUAutoUpdateOptionsName                   4000000 non-null  category\n",
      " 61  Census_IsPortableOperatingSystem                   4000000 non-null  int8    \n",
      " 62  Census_GenuineStateName                            4000000 non-null  category\n",
      " 63  Census_ActivationChannel                           4000000 non-null  category\n",
      " 64  Census_IsFlightingInternal                         678481 non-null   float16 \n",
      " 65  Census_IsFlightsDisabled                           3928121 non-null  float16 \n",
      " 66  Census_FlightRing                                  4000000 non-null  category\n",
      " 67  Census_ThresholdOptIn                              1460037 non-null  float16 \n",
      " 68  Census_FirmwareManufacturerIdentifier              3918096 non-null  float16 \n",
      " 69  Census_FirmwareVersionIdentifier                   3928423 non-null  float32 \n",
      " 70  Census_IsSecureBootEnabled                         4000000 non-null  int8    \n",
      " 71  Census_IsWIMBootEnabled                            1463440 non-null  float16 \n",
      " 72  Census_IsVirtualDevice                             3992844 non-null  float16 \n",
      " 73  Census_IsTouchEnabled                              4000000 non-null  int8    \n",
      " 74  Census_IsPenCapable                                4000000 non-null  int8    \n",
      " 75  Census_IsAlwaysOnAlwaysConnectedCapable            3968052 non-null  float16 \n",
      " 76  Wdft_IsGamer                                       3864106 non-null  float16 \n",
      " 77  Wdft_RegionIdentifier                              3864106 non-null  float16 \n",
      " 78  HasDetections                                      4000000 non-null  int8    \n",
      "dtypes: category(27), float16(26), float32(9), int16(5), int32(1), int8(11)\n",
      "memory usage: 545.9 MB\n"
     ]
    }
   ],
   "source": [
    "df.info(verbose=True, null_counts=True)"
   ]
  },
  {
   "cell_type": "code",
   "execution_count": 9,
   "metadata": {},
   "outputs": [
    {
     "data": {
      "text/plain": [
       "(4000000, 79)"
      ]
     },
     "execution_count": 9,
     "metadata": {},
     "output_type": "execute_result"
    }
   ],
   "source": [
    "df.shape"
   ]
  },
  {
   "cell_type": "code",
   "execution_count": 10,
   "metadata": {},
   "outputs": [],
   "source": [
    "malware_data = df.copy()"
   ]
  },
  {
   "cell_type": "code",
   "execution_count": 11,
   "metadata": {},
   "outputs": [],
   "source": [
    "malware_data = malware_data.dropna()"
   ]
  },
  {
   "cell_type": "code",
   "execution_count": 12,
   "metadata": {},
   "outputs": [
    {
     "name": "stdout",
     "output_type": "stream",
     "text": [
      "<class 'pandas.core.frame.DataFrame'>\n",
      "Int64Index: 316811 entries, 7 to 3999999\n",
      "Data columns (total 79 columns):\n",
      " #   Column                                             Non-Null Count   Dtype   \n",
      "---  ------                                             --------------   -----   \n",
      " 0   ProductName                                        316811 non-null  category\n",
      " 1   EngineVersion                                      316811 non-null  category\n",
      " 2   AppVersion                                         316811 non-null  category\n",
      " 3   AvSigVersion                                       316811 non-null  category\n",
      " 4   IsBeta                                             316811 non-null  int8    \n",
      " 5   RtpStateBitfield                                   316811 non-null  float16 \n",
      " 6   IsSxsPassiveMode                                   316811 non-null  int8    \n",
      " 7   AVProductStatesIdentifier                          316811 non-null  float32 \n",
      " 8   AVProductsInstalled                                316811 non-null  float16 \n",
      " 9   AVProductsEnabled                                  316811 non-null  float16 \n",
      " 10  HasTpm                                             316811 non-null  int8    \n",
      " 11  CountryIdentifier                                  316811 non-null  int16   \n",
      " 12  CityIdentifier                                     316811 non-null  float32 \n",
      " 13  OrganizationIdentifier                             316811 non-null  float16 \n",
      " 14  GeoNameIdentifier                                  316811 non-null  float16 \n",
      " 15  LocaleEnglishNameIdentifier                        316811 non-null  int8    \n",
      " 16  Platform                                           316811 non-null  category\n",
      " 17  Processor                                          316811 non-null  category\n",
      " 18  OsVer                                              316811 non-null  category\n",
      " 19  OsBuild                                            316811 non-null  int16   \n",
      " 20  OsSuite                                            316811 non-null  int16   \n",
      " 21  OsPlatformSubRelease                               316811 non-null  category\n",
      " 22  OsBuildLab                                         316811 non-null  category\n",
      " 23  SkuEdition                                         316811 non-null  category\n",
      " 24  IsProtected                                        316811 non-null  float16 \n",
      " 25  AutoSampleOptIn                                    316811 non-null  int8    \n",
      " 26  SMode                                              316811 non-null  float16 \n",
      " 27  IeVerIdentifier                                    316811 non-null  float16 \n",
      " 28  SmartScreen                                        316811 non-null  category\n",
      " 29  Firewall                                           316811 non-null  float16 \n",
      " 30  UacLuaenable                                       316811 non-null  float32 \n",
      " 31  Census_MDC2FormFactor                              316811 non-null  category\n",
      " 32  Census_DeviceFamily                                316811 non-null  category\n",
      " 33  Census_OEMNameIdentifier                           316811 non-null  float16 \n",
      " 34  Census_OEMModelIdentifier                          316811 non-null  float32 \n",
      " 35  Census_ProcessorCoreCount                          316811 non-null  float16 \n",
      " 36  Census_ProcessorManufacturerIdentifier             316811 non-null  float16 \n",
      " 37  Census_ProcessorModelIdentifier                    316811 non-null  float16 \n",
      " 38  Census_PrimaryDiskTotalCapacity                    316811 non-null  float32 \n",
      " 39  Census_PrimaryDiskTypeName                         316811 non-null  category\n",
      " 40  Census_SystemVolumeTotalCapacity                   316811 non-null  float32 \n",
      " 41  Census_HasOpticalDiskDrive                         316811 non-null  int8    \n",
      " 42  Census_TotalPhysicalRAM                            316811 non-null  float32 \n",
      " 43  Census_ChassisTypeName                             316811 non-null  category\n",
      " 44  Census_InternalPrimaryDiagonalDisplaySizeInInches  316811 non-null  float16 \n",
      " 45  Census_InternalPrimaryDisplayResolutionHorizontal  316811 non-null  float16 \n",
      " 46  Census_InternalPrimaryDisplayResolutionVertical    316811 non-null  float16 \n",
      " 47  Census_PowerPlatformRoleName                       316811 non-null  category\n",
      " 48  Census_InternalBatteryType                         316811 non-null  category\n",
      " 49  Census_InternalBatteryNumberOfCharges              316811 non-null  float32 \n",
      " 50  Census_OSVersion                                   316811 non-null  category\n",
      " 51  Census_OSArchitecture                              316811 non-null  category\n",
      " 52  Census_OSBranch                                    316811 non-null  category\n",
      " 53  Census_OSBuildNumber                               316811 non-null  int16   \n",
      " 54  Census_OSBuildRevision                             316811 non-null  int32   \n",
      " 55  Census_OSEdition                                   316811 non-null  category\n",
      " 56  Census_OSSkuName                                   316811 non-null  category\n",
      " 57  Census_OSInstallTypeName                           316811 non-null  category\n",
      " 58  Census_OSInstallLanguageIdentifier                 316811 non-null  float16 \n",
      " 59  Census_OSUILocaleIdentifier                        316811 non-null  int16   \n",
      " 60  Census_OSWUAutoUpdateOptionsName                   316811 non-null  category\n",
      " 61  Census_IsPortableOperatingSystem                   316811 non-null  int8    \n",
      " 62  Census_GenuineStateName                            316811 non-null  category\n",
      " 63  Census_ActivationChannel                           316811 non-null  category\n",
      " 64  Census_IsFlightingInternal                         316811 non-null  float16 \n",
      " 65  Census_IsFlightsDisabled                           316811 non-null  float16 \n",
      " 66  Census_FlightRing                                  316811 non-null  category\n",
      " 67  Census_ThresholdOptIn                              316811 non-null  float16 \n",
      " 68  Census_FirmwareManufacturerIdentifier              316811 non-null  float16 \n",
      " 69  Census_FirmwareVersionIdentifier                   316811 non-null  float32 \n",
      " 70  Census_IsSecureBootEnabled                         316811 non-null  int8    \n",
      " 71  Census_IsWIMBootEnabled                            316811 non-null  float16 \n",
      " 72  Census_IsVirtualDevice                             316811 non-null  float16 \n",
      " 73  Census_IsTouchEnabled                              316811 non-null  int8    \n",
      " 74  Census_IsPenCapable                                316811 non-null  int8    \n",
      " 75  Census_IsAlwaysOnAlwaysConnectedCapable            316811 non-null  float16 \n",
      " 76  Wdft_IsGamer                                       316811 non-null  float16 \n",
      " 77  Wdft_RegionIdentifier                              316811 non-null  float16 \n",
      " 78  HasDetections                                      316811 non-null  int8    \n",
      "dtypes: category(27), float16(26), float32(9), int16(5), int32(1), int8(11)\n",
      "memory usage: 46.1 MB\n"
     ]
    }
   ],
   "source": [
    "malware_data.info(verbose=True, null_counts=True)"
   ]
  },
  {
   "cell_type": "code",
   "execution_count": 13,
   "metadata": {},
   "outputs": [
    {
     "data": {
      "text/plain": [
       "(316811, 79)"
      ]
     },
     "execution_count": 13,
     "metadata": {},
     "output_type": "execute_result"
    }
   ],
   "source": [
    "malware_data.shape"
   ]
  },
  {
   "cell_type": "code",
   "execution_count": 14,
   "metadata": {},
   "outputs": [],
   "source": [
    "# We drop these columns as they serve no importance\n",
    "cols = ['EngineVersion', 'AppVersion', 'AvSigVersion', 'OsBuildLab', 'SmartScreen', 'Census_PrimaryDiskTypeName', \n",
    "           'Census_ChassisTypeName', 'Census_InternalBatteryType', 'Census_OSVersion', 'Census_OSBranch', 'Census_OSSkuName',\n",
    "       'Census_OSInstallTypeName', 'Census_ActivationChannel', 'Census_FlightRing']\n",
    "\n",
    "malware_data = malware_data.drop(columns=cols, axis=1)"
   ]
  },
  {
   "cell_type": "code",
   "execution_count": 15,
   "metadata": {},
   "outputs": [
    {
     "name": "stdout",
     "output_type": "stream",
     "text": [
      "<class 'pandas.core.frame.DataFrame'>\n",
      "Int64Index: 316811 entries, 7 to 3999999\n",
      "Data columns (total 65 columns):\n",
      " #   Column                                             Non-Null Count   Dtype   \n",
      "---  ------                                             --------------   -----   \n",
      " 0   ProductName                                        316811 non-null  category\n",
      " 1   IsBeta                                             316811 non-null  int8    \n",
      " 2   RtpStateBitfield                                   316811 non-null  float16 \n",
      " 3   IsSxsPassiveMode                                   316811 non-null  int8    \n",
      " 4   AVProductStatesIdentifier                          316811 non-null  float32 \n",
      " 5   AVProductsInstalled                                316811 non-null  float16 \n",
      " 6   AVProductsEnabled                                  316811 non-null  float16 \n",
      " 7   HasTpm                                             316811 non-null  int8    \n",
      " 8   CountryIdentifier                                  316811 non-null  int16   \n",
      " 9   CityIdentifier                                     316811 non-null  float32 \n",
      " 10  OrganizationIdentifier                             316811 non-null  float16 \n",
      " 11  GeoNameIdentifier                                  316811 non-null  float16 \n",
      " 12  LocaleEnglishNameIdentifier                        316811 non-null  int8    \n",
      " 13  Platform                                           316811 non-null  category\n",
      " 14  Processor                                          316811 non-null  category\n",
      " 15  OsVer                                              316811 non-null  category\n",
      " 16  OsBuild                                            316811 non-null  int16   \n",
      " 17  OsSuite                                            316811 non-null  int16   \n",
      " 18  OsPlatformSubRelease                               316811 non-null  category\n",
      " 19  SkuEdition                                         316811 non-null  category\n",
      " 20  IsProtected                                        316811 non-null  float16 \n",
      " 21  AutoSampleOptIn                                    316811 non-null  int8    \n",
      " 22  SMode                                              316811 non-null  float16 \n",
      " 23  IeVerIdentifier                                    316811 non-null  float16 \n",
      " 24  Firewall                                           316811 non-null  float16 \n",
      " 25  UacLuaenable                                       316811 non-null  float32 \n",
      " 26  Census_MDC2FormFactor                              316811 non-null  category\n",
      " 27  Census_DeviceFamily                                316811 non-null  category\n",
      " 28  Census_OEMNameIdentifier                           316811 non-null  float16 \n",
      " 29  Census_OEMModelIdentifier                          316811 non-null  float32 \n",
      " 30  Census_ProcessorCoreCount                          316811 non-null  float16 \n",
      " 31  Census_ProcessorManufacturerIdentifier             316811 non-null  float16 \n",
      " 32  Census_ProcessorModelIdentifier                    316811 non-null  float16 \n",
      " 33  Census_PrimaryDiskTotalCapacity                    316811 non-null  float32 \n",
      " 34  Census_SystemVolumeTotalCapacity                   316811 non-null  float32 \n",
      " 35  Census_HasOpticalDiskDrive                         316811 non-null  int8    \n",
      " 36  Census_TotalPhysicalRAM                            316811 non-null  float32 \n",
      " 37  Census_InternalPrimaryDiagonalDisplaySizeInInches  316811 non-null  float16 \n",
      " 38  Census_InternalPrimaryDisplayResolutionHorizontal  316811 non-null  float16 \n",
      " 39  Census_InternalPrimaryDisplayResolutionVertical    316811 non-null  float16 \n",
      " 40  Census_PowerPlatformRoleName                       316811 non-null  category\n",
      " 41  Census_InternalBatteryNumberOfCharges              316811 non-null  float32 \n",
      " 42  Census_OSArchitecture                              316811 non-null  category\n",
      " 43  Census_OSBuildNumber                               316811 non-null  int16   \n",
      " 44  Census_OSBuildRevision                             316811 non-null  int32   \n",
      " 45  Census_OSEdition                                   316811 non-null  category\n",
      " 46  Census_OSInstallLanguageIdentifier                 316811 non-null  float16 \n",
      " 47  Census_OSUILocaleIdentifier                        316811 non-null  int16   \n",
      " 48  Census_OSWUAutoUpdateOptionsName                   316811 non-null  category\n",
      " 49  Census_IsPortableOperatingSystem                   316811 non-null  int8    \n",
      " 50  Census_GenuineStateName                            316811 non-null  category\n",
      " 51  Census_IsFlightingInternal                         316811 non-null  float16 \n",
      " 52  Census_IsFlightsDisabled                           316811 non-null  float16 \n",
      " 53  Census_ThresholdOptIn                              316811 non-null  float16 \n",
      " 54  Census_FirmwareManufacturerIdentifier              316811 non-null  float16 \n",
      " 55  Census_FirmwareVersionIdentifier                   316811 non-null  float32 \n",
      " 56  Census_IsSecureBootEnabled                         316811 non-null  int8    \n",
      " 57  Census_IsWIMBootEnabled                            316811 non-null  float16 \n",
      " 58  Census_IsVirtualDevice                             316811 non-null  float16 \n",
      " 59  Census_IsTouchEnabled                              316811 non-null  int8    \n",
      " 60  Census_IsPenCapable                                316811 non-null  int8    \n",
      " 61  Census_IsAlwaysOnAlwaysConnectedCapable            316811 non-null  float16 \n",
      " 62  Wdft_IsGamer                                       316811 non-null  float16 \n",
      " 63  Wdft_RegionIdentifier                              316811 non-null  float16 \n",
      " 64  HasDetections                                      316811 non-null  int8    \n",
      "dtypes: category(13), float16(26), float32(9), int16(5), int32(1), int8(11)\n",
      "memory usage: 40.5 MB\n"
     ]
    }
   ],
   "source": [
    "malware_data.info()"
   ]
  },
  {
   "cell_type": "markdown",
   "metadata": {},
   "source": [
    "## 4.4 Train/Test Split<a id='4.4_Train/Test_Split'></a>"
   ]
  },
  {
   "cell_type": "markdown",
   "metadata": {},
   "source": [
    "We split the data into training and test sets. The test set will be useful as a final check on model performance."
   ]
  },
  {
   "cell_type": "code",
   "execution_count": 16,
   "metadata": {},
   "outputs": [],
   "source": [
    "X = malware_data.drop(columns=['HasDetections'], axis=1)\n",
    "y = malware_data['HasDetections']\n",
    "\n",
    "# create dummy features for X\n",
    "X = pd.get_dummies(X, drop_first=True)"
   ]
  },
  {
   "cell_type": "code",
   "execution_count": 17,
   "metadata": {},
   "outputs": [],
   "source": [
    "X_train, X_test, y_train, y_test = train_test_split(X, y, test_size=0.25, random_state=42)"
   ]
  },
  {
   "cell_type": "code",
   "execution_count": 18,
   "metadata": {},
   "outputs": [
    {
     "data": {
      "text/plain": [
       "((237608, 177), (79203, 177))"
      ]
     },
     "execution_count": 18,
     "metadata": {},
     "output_type": "execute_result"
    }
   ],
   "source": [
    "X_train.shape, X_test.shape"
   ]
  },
  {
   "cell_type": "code",
   "execution_count": 19,
   "metadata": {},
   "outputs": [
    {
     "data": {
      "text/plain": [
       "((237608,), (79203,))"
      ]
     },
     "execution_count": 19,
     "metadata": {},
     "output_type": "execute_result"
    }
   ],
   "source": [
    "y_train.shape, y_test.shape"
   ]
  },
  {
   "cell_type": "code",
   "execution_count": 20,
   "metadata": {},
   "outputs": [
    {
     "data": {
      "text/plain": [
       "IsBeta                                         int8\n",
       "RtpStateBitfield                            float16\n",
       "IsSxsPassiveMode                               int8\n",
       "AVProductStatesIdentifier                   float32\n",
       "AVProductsInstalled                         float16\n",
       "                                             ...   \n",
       "Census_OSWUAutoUpdateOptionsName_Off          uint8\n",
       "Census_OSWUAutoUpdateOptionsName_UNKNOWN      uint8\n",
       "Census_GenuineStateName_IS_GENUINE            uint8\n",
       "Census_GenuineStateName_OFFLINE               uint8\n",
       "Census_GenuineStateName_UNKNOWN               uint8\n",
       "Length: 177, dtype: object"
      ]
     },
     "execution_count": 20,
     "metadata": {},
     "output_type": "execute_result"
    }
   ],
   "source": [
    "X_train.dtypes"
   ]
  },
  {
   "cell_type": "code",
   "execution_count": 21,
   "metadata": {},
   "outputs": [
    {
     "data": {
      "text/plain": [
       "IsBeta                                         int8\n",
       "RtpStateBitfield                            float16\n",
       "IsSxsPassiveMode                               int8\n",
       "AVProductStatesIdentifier                   float32\n",
       "AVProductsInstalled                         float16\n",
       "                                             ...   \n",
       "Census_OSWUAutoUpdateOptionsName_Off          uint8\n",
       "Census_OSWUAutoUpdateOptionsName_UNKNOWN      uint8\n",
       "Census_GenuineStateName_IS_GENUINE            uint8\n",
       "Census_GenuineStateName_OFFLINE               uint8\n",
       "Census_GenuineStateName_UNKNOWN               uint8\n",
       "Length: 177, dtype: object"
      ]
     },
     "execution_count": 21,
     "metadata": {},
     "output_type": "execute_result"
    }
   ],
   "source": [
    "X_test.dtypes"
   ]
  },
  {
   "cell_type": "markdown",
   "metadata": {},
   "source": [
    "## 4.5 Initial Not-Even-A-Model<a id='4.5_Initial_Not-Even-A-Model'></a>"
   ]
  },
  {
   "cell_type": "code",
   "execution_count": 22,
   "metadata": {},
   "outputs": [],
   "source": [
    "# fit a dummy classifier\n",
    "strategies = ['most_frequent', 'stratified', 'uniform'] \n",
    "\n",
    "test_scores = []\n",
    "test_prob = []\n",
    "for s in strategies:\n",
    "    dum_clf = DummyClassifier(strategy=s, random_state=42)\n",
    "    dum_clf.fit(X_train, y_train)\n",
    "    score = dum_clf.score(X_test, y_test)\n",
    "    y_pred = dum_clf.predict_proba(X_test)\n",
    "    test_prob.append(y_pred)\n",
    "    test_scores.append(score)"
   ]
  },
  {
   "cell_type": "code",
   "execution_count": 23,
   "metadata": {},
   "outputs": [
    {
     "data": {
      "image/png": "[encoded data removed]",
      "text/plain": [
       "<Figure size 432x288 with 1 Axes>"
      ]
     },
     "metadata": {
      "needs_background": "light"
     },
     "output_type": "display_data"
    }
   ],
   "source": [
    "# plot scores against the strategies\n",
    "ax = sns.stripplot(x=strategies, y=test_scores)\n",
    "ax.set_xlabel('Strategies')\n",
    "ax.set_ylabel('Test Scores')\n",
    "plt.show()"
   ]
  },
  {
   "cell_type": "markdown",
   "metadata": {},
   "source": [
    "## 4.6 Initial Models<a id='4.6_Initial_Models'></a>"
   ]
  },
  {
   "cell_type": "markdown",
   "metadata": {},
   "source": [
    "### 4.6.1 Logistic Regression Model<a id='4.6.1_Logistic_Regression_Model'></a>"
   ]
  },
  {
   "cell_type": "markdown",
   "metadata": {},
   "source": [
    "#### 4.6.1.1 Define the pipeline<a id='4.6.1.1_Define_the_pipeline'></a>"
   ]
  },
  {
   "cell_type": "code",
   "execution_count": 24,
   "metadata": {},
   "outputs": [],
   "source": [
    "pipe = Pipeline([('std', StandardScaler()), ('lr_clf', LogisticRegression())])"
   ]
  },
  {
   "cell_type": "markdown",
   "metadata": {},
   "source": [
    "#### 4.6.1.2 Fit the pipeline<a id='4.6.1.2_Fit_the_pipeline'></a>"
   ]
  },
  {
   "cell_type": "code",
   "execution_count": 25,
   "metadata": {},
   "outputs": [
    {
     "data": {
      "text/plain": [
       "Pipeline(memory=None,\n",
       "         steps=[('std',\n",
       "                 StandardScaler(copy=True, with_mean=True, with_std=True)),\n",
       "                ('lr_clf',\n",
       "                 LogisticRegression(C=1.0, class_weight=None, dual=False,\n",
       "                                    fit_intercept=True, intercept_scaling=1,\n",
       "                                    l1_ratio=None, max_iter=100,\n",
       "                                    multi_class='warn', n_jobs=None,\n",
       "                                    penalty='l2', random_state=None,\n",
       "                                    solver='warn', tol=0.0001, verbose=0,\n",
       "                                    warm_start=False))],\n",
       "         verbose=False)"
      ]
     },
     "execution_count": 25,
     "metadata": {},
     "output_type": "execute_result"
    }
   ],
   "source": [
    "pipe.fit(X_train, y_train)"
   ]
  },
  {
   "cell_type": "markdown",
   "metadata": {},
   "source": [
    "#### 4.6.1.3 Access performance on the test set<a id='4.6.1.3_Access_performance_on_the_test_set'></a>"
   ]
  },
  {
   "cell_type": "code",
   "execution_count": 26,
   "metadata": {},
   "outputs": [
    {
     "name": "stdout",
     "output_type": "stream",
     "text": [
      "0.6002802924131662\n"
     ]
    }
   ],
   "source": [
    "# print accuracy from testing data\n",
    "y_pred = pipe.predict(X_test)\n",
    "print(accuracy_score(y_pred, y_test))"
   ]
  },
  {
   "cell_type": "markdown",
   "metadata": {},
   "source": [
    "Without tuning the hyperparameters of the `logistic Regression`, the accuracy score is `.60` which isn't that worse looking at the fact a small sample of the data was used."
   ]
  },
  {
   "cell_type": "markdown",
   "metadata": {},
   "source": [
    "#### 4.6.1.4 Tuning the model with RandomizedSearchCV<a id='4.6.1.3_Tuning_the_model_with_RandomizedSearchCV'></a>"
   ]
  },
  {
   "cell_type": "code",
   "execution_count": 29,
   "metadata": {
    "scrolled": true
   },
   "outputs": [
    {
     "name": "stdout",
     "output_type": "stream",
     "text": [
      "Tuned Logistic Regression Parameters: {'penalty': 'l1', 'C': 0.1}\n",
      "Tuned Logistic Regression Accuracy: 0.5980312110703343\n",
      "CPU times: user 2min 8s, sys: 1.76 s, total: 2min 9s\n",
      "Wall time: 31min 39s\n"
     ]
    }
   ],
   "source": [
    "%%time\n",
    "\n",
    "# scale training and test set\n",
    "scaler = StandardScaler()\n",
    "scaler.fit(X_train)\n",
    "X_train_scaled = scaler.transform(X_train)\n",
    "X_test_scaled = scaler.transform(X_test)\n",
    "\n",
    "# logistic regression\n",
    "lr_clf = LogisticRegression()\n",
    "\n",
    "# create hyperparamter\n",
    "#parameter_grid = {'lr_clf__C': [0.01, 0.1, 1, 2, 10, 100], 'lr_clf__penalty': ['l1', 'l2']}\n",
    "\n",
    "# create hyperparamter\n",
    "param_grid = {'C': [0.001, 0.1, 1, 10, 100], 'penalty': ['l1', 'l2']}\n",
    "\n",
    "# create RandomizedSearchCV with 3-fold cv\n",
    "cv_grid = RandomizedSearchCV(lr_clf, param_grid, cv=3, verbose=0, n_jobs=-1, \n",
    "                             random_state=42)\n",
    "\n",
    "# fit the model\n",
    "best_model = cv_grid.fit(X_train_scaled, y_train)\n",
    "\n",
    "# best hyperparameter values\n",
    "print('Tuned Logistic Regression Parameters: {}'.format(best_model.best_params_))\n",
    "print('Tuned Logistic Regression Accuracy: {}'.format(best_model.best_score_))"
   ]
  },
  {
   "cell_type": "markdown",
   "metadata": {},
   "source": [
    "Best parameters are `C:0.1` and `penalty:l1` with a best score of almost `0.60` just as the untuned model. No significant difference."
   ]
  },
  {
   "cell_type": "code",
   "execution_count": 30,
   "metadata": {},
   "outputs": [
    {
     "name": "stdout",
     "output_type": "stream",
     "text": [
      "0.6000404025100059\n"
     ]
    }
   ],
   "source": [
    "# train and fit the model with the best parameters\n",
    "lr_best = LogisticRegression(C=0.1, penalty='l1')\n",
    "lr_best.fit(X_train_scaled, y_train)\n",
    "\n",
    "# predict on the test set\n",
    "y_pred2 = lr_best.predict(X_test_scaled)\n",
    "\n",
    "# check accuracy score\n",
    "print(accuracy_score(y_pred2, y_test))"
   ]
  },
  {
   "cell_type": "markdown",
   "metadata": {},
   "source": [
    "After applying the best parameters to the model, the accuracy score was unchanged."
   ]
  },
  {
   "cell_type": "markdown",
   "metadata": {},
   "source": [
    "### 4.6.2 RandomForest Model<a id='4.6.2_RandomForest_Model'></a>"
   ]
  },
  {
   "cell_type": "markdown",
   "metadata": {},
   "source": [
    "#### 4.6.2.1 Initial Model<a id='4.6.2.1_Initial Model'></a>"
   ]
  },
  {
   "cell_type": "code",
   "execution_count": 32,
   "metadata": {},
   "outputs": [
    {
     "name": "stdout",
     "output_type": "stream",
     "text": [
      "0.5968587048470386\n",
      "CPU times: user 1min 14s, sys: 1.5 s, total: 1min 15s\n",
      "Wall time: 1min 17s\n"
     ]
    }
   ],
   "source": [
    "%%time\n",
    "\n",
    "# instantiate RandomForestClassifier\n",
    "rf_clf = RandomForestClassifier(n_estimators=100, max_depth=None, min_samples_split=2, random_state=42)\n",
    "\n",
    "# fit to the training set\n",
    "rf_clf.fit(X_train_scaled, y_train)\n",
    "\n",
    "# predict on the test set\n",
    "y_pred_rf = rf_clf.predict(X_test_scaled)\n",
    "\n",
    "# check accuracy score\n",
    "print(accuracy_score(y_pred_rf, y_test))"
   ]
  },
  {
   "cell_type": "markdown",
   "metadata": {},
   "source": [
    "The initial model of `Random Forest` model performance is a little less than the initial `Logistic Regression` model. Let's try to tune the model to see if performance increases."
   ]
  },
  {
   "cell_type": "markdown",
   "metadata": {},
   "source": [
    "#### 4.6.2.1 Tuning the model with RandomizedSearchCV<a id='4.6.2.1_Tuning_the_model_with_RandomizedSearchCV'></a>"
   ]
  },
  {
   "cell_type": "code",
   "execution_count": 35,
   "metadata": {},
   "outputs": [
    {
     "name": "stdout",
     "output_type": "stream",
     "text": [
      "Tuned Random Forest Parameters: {'n_estimators': 100, 'max_depth': 8}\n",
      "Tuned GridSearch Random Forest Accuracy: 0.6008888589609778\n",
      "CPU times: user 35min 38s, sys: 28.8 s, total: 36min 7s\n",
      "Wall time: 8h 19min 49s\n"
     ]
    }
   ],
   "source": [
    "%%time \n",
    "\n",
    "# create hyperparameter\n",
    "param_grid = {'n_estimators': [100, 200, 500],\n",
    "                    'max_depth': [4,5,6,7,8]}\n",
    "\n",
    "# instantiate randomforestclassifier\n",
    "rf_clf2 = RandomForestClassifier()\n",
    "\n",
    "# create Randomizedsearch with 3-fold\n",
    "rf_cv = RandomizedSearchCV(rf_clf2, param_grid, n_iter=15, cv=3, random_state=42)\n",
    "\n",
    "# fit to the training set\n",
    "best_model = rf_cv.fit(X_train_scaled, y_train)\n",
    "\n",
    "# best hyperparameter values\n",
    "print('Tuned Random Forest Parameters: {}'.format(best_model.best_params_))\n",
    "print('Tuned GridSearch Random Forest Accuracy: {}'.format(best_model.best_score_))"
   ]
  },
  {
   "cell_type": "code",
   "execution_count": 36,
   "metadata": {},
   "outputs": [
    {
     "name": "stdout",
     "output_type": "stream",
     "text": [
      "0.6028433266416676\n"
     ]
    }
   ],
   "source": [
    "# train and fit best parameters \n",
    "rf_best = RandomForestClassifier(n_estimators=100, max_depth=8)\n",
    "\n",
    "# fit to the training set\n",
    "rf_best.fit(X_train_scaled, y_train)\n",
    "\n",
    "# predict on test set\n",
    "y_pred_rf2 = rf_best.predict(X_test_scaled)\n",
    "\n",
    "# check accuracy score\n",
    "print(accuracy_score(y_pred_rf2, y_test))"
   ]
  },
  {
   "cell_type": "markdown",
   "metadata": {},
   "source": [
    "After tuning with the best parameters, the accuracy score just marginally increased on the test. There are still quite some number of hyperparameters that can explored to give the best of performance for the model."
   ]
  },
  {
   "cell_type": "code",
   "execution_count": 41,
   "metadata": {},
   "outputs": [
    {
     "data": {
      "image/png": "[encoded data removed]",
      "text/plain": [
       "<Figure size 432x288 with 1 Axes>"
      ]
     },
     "metadata": {
      "needs_background": "light"
     },
     "output_type": "display_data"
    }
   ],
   "source": [
    "# Calculate the ROC for the model\n",
    "y_pred_prob = rf_best.predict_proba(X_test_scaled)[:,1]\n",
    "fpr, tpr, thresholds = roc_curve(y_test, y_pred_prob) \n",
    "plt.plot([0, 1], [0, 1], 'k--')\n",
    "plt.plot(fpr, tpr, label='Random Forest Classifier') \n",
    "plt.xlabel('False Positive Rate')\n",
    "plt.ylabel('True Positive Rate')\n",
    "plt.title('Random Forest Classifier ROC Curve') \n",
    "plt.show();"
   ]
  },
  {
   "cell_type": "code",
   "execution_count": 38,
   "metadata": {},
   "outputs": [
    {
     "name": "stdout",
     "output_type": "stream",
     "text": [
      "AUC: 0.640\n"
     ]
    }
   ],
   "source": [
    "# Print AUC score\n",
    "print('AUC: %.3f' % (auc(fpr,tpr)))"
   ]
  },
  {
   "cell_type": "code",
   "execution_count": 63,
   "metadata": {},
   "outputs": [
    {
     "data": {
      "text/html": [
       "<div>\n",
       "<style scoped>\n",
       "    .dataframe tbody tr th:only-of-type {\n",
       "        vertical-align: middle;\n",
       "    }\n",
       "\n",
       "    .dataframe tbody tr th {\n",
       "        vertical-align: top;\n",
       "    }\n",
       "\n",
       "    .dataframe thead th {\n",
       "        text-align: right;\n",
       "    }\n",
       "</style>\n",
       "<table border=\"1\" class=\"dataframe\">\n",
       "  <thead>\n",
       "    <tr style=\"text-align: right;\">\n",
       "      <th></th>\n",
       "      <th>importance</th>\n",
       "    </tr>\n",
       "    <tr>\n",
       "      <th>feature</th>\n",
       "      <th></th>\n",
       "    </tr>\n",
       "  </thead>\n",
       "  <tbody>\n",
       "    <tr>\n",
       "      <th>AVProductsInstalled</th>\n",
       "      <td>0.169</td>\n",
       "    </tr>\n",
       "    <tr>\n",
       "      <th>AVProductStatesIdentifier</th>\n",
       "      <td>0.154</td>\n",
       "    </tr>\n",
       "    <tr>\n",
       "      <th>Census_InternalPrimaryDiagonalDisplaySizeInInches</th>\n",
       "      <td>0.052</td>\n",
       "    </tr>\n",
       "    <tr>\n",
       "      <th>Census_TotalPhysicalRAM</th>\n",
       "      <td>0.049</td>\n",
       "    </tr>\n",
       "    <tr>\n",
       "      <th>Processor_x86</th>\n",
       "      <td>0.037</td>\n",
       "    </tr>\n",
       "    <tr>\n",
       "      <th>IsProtected</th>\n",
       "      <td>0.035</td>\n",
       "    </tr>\n",
       "    <tr>\n",
       "      <th>Processor_x64</th>\n",
       "      <td>0.034</td>\n",
       "    </tr>\n",
       "    <tr>\n",
       "      <th>Census_PrimaryDiskTotalCapacity</th>\n",
       "      <td>0.033</td>\n",
       "    </tr>\n",
       "    <tr>\n",
       "      <th>Census_ProcessorModelIdentifier</th>\n",
       "      <td>0.032</td>\n",
       "    </tr>\n",
       "    <tr>\n",
       "      <th>Census_SystemVolumeTotalCapacity</th>\n",
       "      <td>0.024</td>\n",
       "    </tr>\n",
       "    <tr>\n",
       "      <th>Census_ProcessorCoreCount</th>\n",
       "      <td>0.024</td>\n",
       "    </tr>\n",
       "    <tr>\n",
       "      <th>Census_OSArchitecture_x86</th>\n",
       "      <td>0.023</td>\n",
       "    </tr>\n",
       "    <tr>\n",
       "      <th>Census_OSBuildRevision</th>\n",
       "      <td>0.020</td>\n",
       "    </tr>\n",
       "    <tr>\n",
       "      <th>IeVerIdentifier</th>\n",
       "      <td>0.019</td>\n",
       "    </tr>\n",
       "    <tr>\n",
       "      <th>Census_InternalPrimaryDisplayResolutionHorizontal</th>\n",
       "      <td>0.018</td>\n",
       "    </tr>\n",
       "    <tr>\n",
       "      <th>Census_IsAlwaysOnAlwaysConnectedCapable</th>\n",
       "      <td>0.018</td>\n",
       "    </tr>\n",
       "    <tr>\n",
       "      <th>Census_PowerPlatformRoleName_Slate</th>\n",
       "      <td>0.016</td>\n",
       "    </tr>\n",
       "    <tr>\n",
       "      <th>Census_OSBuildNumber</th>\n",
       "      <td>0.016</td>\n",
       "    </tr>\n",
       "    <tr>\n",
       "      <th>RtpStateBitfield</th>\n",
       "      <td>0.014</td>\n",
       "    </tr>\n",
       "    <tr>\n",
       "      <th>Wdft_IsGamer</th>\n",
       "      <td>0.012</td>\n",
       "    </tr>\n",
       "  </tbody>\n",
       "</table>\n",
       "</div>"
      ],
      "text/plain": [
       "                                                   importance\n",
       "feature                                                      \n",
       "AVProductsInstalled                                     0.169\n",
       "AVProductStatesIdentifier                               0.154\n",
       "Census_InternalPrimaryDiagonalDisplaySizeInInches       0.052\n",
       "Census_TotalPhysicalRAM                                 0.049\n",
       "Processor_x86                                           0.037\n",
       "IsProtected                                             0.035\n",
       "Processor_x64                                           0.034\n",
       "Census_PrimaryDiskTotalCapacity                         0.033\n",
       "Census_ProcessorModelIdentifier                         0.032\n",
       "Census_SystemVolumeTotalCapacity                        0.024\n",
       "Census_ProcessorCoreCount                               0.024\n",
       "Census_OSArchitecture_x86                               0.023\n",
       "Census_OSBuildRevision                                  0.020\n",
       "IeVerIdentifier                                         0.019\n",
       "Census_InternalPrimaryDisplayResolutionHorizontal       0.018\n",
       "Census_IsAlwaysOnAlwaysConnectedCapable                 0.018\n",
       "Census_PowerPlatformRoleName_Slate                      0.016\n",
       "Census_OSBuildNumber                                    0.016\n",
       "RtpStateBitfield                                        0.014\n",
       "Wdft_IsGamer                                            0.012"
      ]
     },
     "execution_count": 63,
     "metadata": {},
     "output_type": "execute_result"
    }
   ],
   "source": [
    "rf_importances = pd.DataFrame({'feature':X_train.columns,'importance':np.round(rf_best.feature_importances_,3)})\n",
    "\n",
    "rf_importances = rf_importances.sort_values('importance',ascending=False).set_index('feature')\n",
    "rf_importances.head(20)"
   ]
  },
  {
   "cell_type": "markdown",
   "metadata": {},
   "source": [
    "### 4.6.3 Xgboost<a id='4.6.3_Xgboost'></a>"
   ]
  },
  {
   "cell_type": "markdown",
   "metadata": {},
   "source": [
    "#### 4.6.3.1 Initial Model<a id='4.6.3.1_Initial Model'></a>"
   ]
  },
  {
   "cell_type": "code",
   "execution_count": 39,
   "metadata": {},
   "outputs": [
    {
     "name": "stdout",
     "output_type": "stream",
     "text": [
      "0.607237099604813\n",
      "CPU times: user 3min 31s, sys: 1.62 s, total: 3min 33s\n",
      "Wall time: 3min 37s\n"
     ]
    }
   ],
   "source": [
    "%%time \n",
    "# instantiate the XGBClassifier\n",
    "xg_boost = XGBClassifier(random_state=42, use_label_encoder=False, n_estimators=150, learning_rate=0.05)\n",
    "\n",
    "# fit to the train set\n",
    "xg_model = xg_boost.fit(X_train_scaled, y_train)\n",
    "\n",
    "# predict on the test set\n",
    "y_pred_xg = xg_model.predict(X_test_scaled)\n",
    "\n",
    "# check for accuracy\n",
    "print(accuracy_score(y_pred_xg, y_test))"
   ]
  },
  {
   "cell_type": "code",
   "execution_count": 42,
   "metadata": {},
   "outputs": [
    {
     "data": {
      "image/png": "[encoded data removed]",
      "text/plain": [
       "<Figure size 432x288 with 1 Axes>"
      ]
     },
     "metadata": {
      "needs_background": "light"
     },
     "output_type": "display_data"
    }
   ],
   "source": [
    "# Calculate the ROC for the model\n",
    "y_pred_xg_proba = xg_model.predict_proba(X_test_scaled)[:,1]\n",
    "fpr, tpr, thresholds = roc_curve(y_test, y_pred_xg_proba) \n",
    "plt.plot([0, 1], [0, 1], 'k--')\n",
    "plt.plot(fpr, tpr, label='XGBoost Classifier') \n",
    "plt.xlabel('False Positive Rate')\n",
    "plt.ylabel('True Positive Rate')\n",
    "plt.title('XGBoost Classifier ROC Curve') \n",
    "plt.show();"
   ]
  },
  {
   "cell_type": "code",
   "execution_count": 43,
   "metadata": {},
   "outputs": [
    {
     "name": "stdout",
     "output_type": "stream",
     "text": [
      "AUC: 0.647\n"
     ]
    }
   ],
   "source": [
    "# Print AUC score\n",
    "print('AUC: %.3f' % (auc(fpr,tpr)))"
   ]
  },
  {
   "cell_type": "markdown",
   "metadata": {},
   "source": [
    "#### 4.6.3.2 Tuning the model with RandomizedSearchCV<a id='4.6.3.2_Tuning_the_model_with_RandomizedSearchCV'></a>"
   ]
  },
  {
   "cell_type": "code",
   "execution_count": 44,
   "metadata": {},
   "outputs": [
    {
     "name": "stdout",
     "output_type": "stream",
     "text": [
      "Fitting 3 folds for each of 10 candidates, totalling 30 fits\n"
     ]
    },
    {
     "name": "stderr",
     "output_type": "stream",
     "text": [
      "[Parallel(n_jobs=-1)]: Using backend LokyBackend with 4 concurrent workers.\n",
      "/usr/local/lib/python3.7/site-packages/joblib/externals/loky/process_executor.py:706: UserWarning: A worker stopped while some jobs were given to the executor. This can be caused by a too short worker timeout or by a memory leak.\n",
      "  \"timeout or by a memory leak.\", UserWarning\n",
      "[Parallel(n_jobs=-1)]: Done  30 out of  30 | elapsed: 103.1min finished\n"
     ]
    },
    {
     "name": "stdout",
     "output_type": "stream",
     "text": [
      "Tuned XGBoost Parameters: {'colsample_bytree': 0.7469719150966905, 'learning_rate': 0.47636943969494344, 'max_depth': 9, 'min_child_weight': 2, 'n_estimators': 171, 'subsample': 0.9172285144008501}\n",
      "Tuned XGBoost Accuracy: 0.6198499699379794\n",
      "CPU times: user 7min 9s, sys: 1.59 s, total: 7min 10s\n",
      "Wall time: 2h 5s\n"
     ]
    }
   ],
   "source": [
    "%%time \n",
    "\n",
    "from scipy import stats\n",
    "from sklearn.model_selection import KFold\n",
    "\n",
    "xg_boost2 = XGBClassifier(objective = 'binary:logistic')\n",
    "\n",
    "param_dist = {'n_estimators': stats.randint(150, 1000),\n",
    "              'learning_rate': stats.uniform(0.01, 0.6),\n",
    "              'subsample': stats.uniform(0.3, 0.9),\n",
    "              'max_depth': [3, 4, 5, 6, 7, 8, 9],\n",
    "              'colsample_bytree': stats.uniform(0.5, 0.9),\n",
    "              'min_child_weight': [1, 2, 3, 4]\n",
    "             }\n",
    "\n",
    "numFolds = 3\n",
    "kfold_3 = KFold(shuffle = True, n_splits = numFolds)\n",
    "\n",
    "xg_cv = RandomizedSearchCV(xg_boost2, \n",
    "                         param_distributions = param_dist,\n",
    "                         cv = kfold_3,  \n",
    "                         n_iter = 10, \n",
    "                         scoring = 'roc_auc', \n",
    "                         error_score = 0, \n",
    "                         verbose = 3, \n",
    "                         n_jobs = -1\n",
    "                                    )\n",
    "\n",
    "best_model = xg_cv.fit(X_train_scaled, y_train)\n",
    "\n",
    "# best hyperparameter values\n",
    "print('Tuned XGBoost Parameters: {}'.format(best_model.best_params_))\n",
    "print('Tuned XGBoost Accuracy: {}'.format(best_model.best_score_))"
   ]
  },
  {
   "cell_type": "code",
   "execution_count": 46,
   "metadata": {},
   "outputs": [
    {
     "name": "stdout",
     "output_type": "stream",
     "text": [
      "0.5968208274939081\n"
     ]
    }
   ],
   "source": [
    "# train and fit the best parameters\n",
    "xg_best = XGBClassifier(objective = 'binary:logistic', colsample_bytree=0.75, learning_rate=0.48, max_depth=9, min_child_weight=2,\n",
    "                          n_estimators=171, subsample=0.92)\n",
    "\n",
    "# fit to the training set\n",
    "xg_best.fit(X_train_scaled, y_train)\n",
    "\n",
    "# predict on the test set\n",
    "y_pred_xg2 = xg_best.predict(X_test_scaled)\n",
    "\n",
    "# check for accuracy\n",
    "print(accuracy_score(y_pred_xg2, y_test))"
   ]
  },
  {
   "cell_type": "code",
   "execution_count": 47,
   "metadata": {},
   "outputs": [
    {
     "data": {
      "image/png": "[encoded data removed]",
      "text/plain": [
       "<Figure size 432x288 with 1 Axes>"
      ]
     },
     "metadata": {
      "needs_background": "light"
     },
     "output_type": "display_data"
    }
   ],
   "source": [
    "# Calculate the ROC for the model\n",
    "y_pred_xg2_proba = xg_best.predict_proba(X_test_scaled)[:,1]\n",
    "fpr, tpr, thresholds = roc_curve(y_test, y_pred_xg2_proba) \n",
    "plt.plot([0, 1], [0, 1], 'k--')\n",
    "plt.plot(fpr, tpr, label='XGBoost Classifier') \n",
    "plt.xlabel('False Positive Rate')\n",
    "plt.ylabel('True Positive Rate')\n",
    "plt.title('XGBoost Classifier ROC Curve') \n",
    "plt.show();"
   ]
  },
  {
   "cell_type": "code",
   "execution_count": 48,
   "metadata": {},
   "outputs": [
    {
     "name": "stdout",
     "output_type": "stream",
     "text": [
      "AUC: 0.631\n"
     ]
    }
   ],
   "source": [
    "# Print AUC score\n",
    "print('AUC: %.3f' % (auc(fpr,tpr)))"
   ]
  },
  {
   "cell_type": "markdown",
   "metadata": {},
   "source": [
    "#### 4.6.3.3 Feature Importance<a id='4.6.3.3_Feature_Importance'></a>"
   ]
  },
  {
   "cell_type": "code",
   "execution_count": 60,
   "metadata": {},
   "outputs": [
    {
     "data": {
      "text/html": [
       "<div>\n",
       "<style scoped>\n",
       "    .dataframe tbody tr th:only-of-type {\n",
       "        vertical-align: middle;\n",
       "    }\n",
       "\n",
       "    .dataframe tbody tr th {\n",
       "        vertical-align: top;\n",
       "    }\n",
       "\n",
       "    .dataframe thead th {\n",
       "        text-align: right;\n",
       "    }\n",
       "</style>\n",
       "<table border=\"1\" class=\"dataframe\">\n",
       "  <thead>\n",
       "    <tr style=\"text-align: right;\">\n",
       "      <th></th>\n",
       "      <th>importance</th>\n",
       "    </tr>\n",
       "    <tr>\n",
       "      <th>feature</th>\n",
       "      <th></th>\n",
       "    </tr>\n",
       "  </thead>\n",
       "  <tbody>\n",
       "    <tr>\n",
       "      <th>AVProductsInstalled</th>\n",
       "      <td>0.074</td>\n",
       "    </tr>\n",
       "    <tr>\n",
       "      <th>IsProtected</th>\n",
       "      <td>0.035</td>\n",
       "    </tr>\n",
       "    <tr>\n",
       "      <th>Census_IsVirtualDevice</th>\n",
       "      <td>0.029</td>\n",
       "    </tr>\n",
       "    <tr>\n",
       "      <th>RtpStateBitfield</th>\n",
       "      <td>0.026</td>\n",
       "    </tr>\n",
       "    <tr>\n",
       "      <th>SkuEdition_Enterprise LTSB</th>\n",
       "      <td>0.025</td>\n",
       "    </tr>\n",
       "    <tr>\n",
       "      <th>Census_TotalPhysicalRAM</th>\n",
       "      <td>0.023</td>\n",
       "    </tr>\n",
       "    <tr>\n",
       "      <th>Census_GenuineStateName_UNKNOWN</th>\n",
       "      <td>0.021</td>\n",
       "    </tr>\n",
       "    <tr>\n",
       "      <th>Processor_x64</th>\n",
       "      <td>0.020</td>\n",
       "    </tr>\n",
       "    <tr>\n",
       "      <th>Census_IsAlwaysOnAlwaysConnectedCapable</th>\n",
       "      <td>0.018</td>\n",
       "    </tr>\n",
       "    <tr>\n",
       "      <th>AVProductStatesIdentifier</th>\n",
       "      <td>0.015</td>\n",
       "    </tr>\n",
       "    <tr>\n",
       "      <th>AVProductsEnabled</th>\n",
       "      <td>0.015</td>\n",
       "    </tr>\n",
       "    <tr>\n",
       "      <th>Census_InternalPrimaryDiagonalDisplaySizeInInches</th>\n",
       "      <td>0.013</td>\n",
       "    </tr>\n",
       "    <tr>\n",
       "      <th>OsPlatformSubRelease_rs4</th>\n",
       "      <td>0.013</td>\n",
       "    </tr>\n",
       "    <tr>\n",
       "      <th>Census_OSEdition_ProfessionalEducation</th>\n",
       "      <td>0.013</td>\n",
       "    </tr>\n",
       "    <tr>\n",
       "      <th>IsSxsPassiveMode</th>\n",
       "      <td>0.013</td>\n",
       "    </tr>\n",
       "    <tr>\n",
       "      <th>Census_HasOpticalDiskDrive</th>\n",
       "      <td>0.013</td>\n",
       "    </tr>\n",
       "    <tr>\n",
       "      <th>IeVerIdentifier</th>\n",
       "      <td>0.012</td>\n",
       "    </tr>\n",
       "    <tr>\n",
       "      <th>Census_OSEdition_CoreSingleLanguage</th>\n",
       "      <td>0.012</td>\n",
       "    </tr>\n",
       "    <tr>\n",
       "      <th>SkuEdition_Enterprise</th>\n",
       "      <td>0.011</td>\n",
       "    </tr>\n",
       "    <tr>\n",
       "      <th>OsPlatformSubRelease_windows8.1</th>\n",
       "      <td>0.011</td>\n",
       "    </tr>\n",
       "  </tbody>\n",
       "</table>\n",
       "</div>"
      ],
      "text/plain": [
       "                                                   importance\n",
       "feature                                                      \n",
       "AVProductsInstalled                                     0.074\n",
       "IsProtected                                             0.035\n",
       "Census_IsVirtualDevice                                  0.029\n",
       "RtpStateBitfield                                        0.026\n",
       "SkuEdition_Enterprise LTSB                              0.025\n",
       "Census_TotalPhysicalRAM                                 0.023\n",
       "Census_GenuineStateName_UNKNOWN                         0.021\n",
       "Processor_x64                                           0.020\n",
       "Census_IsAlwaysOnAlwaysConnectedCapable                 0.018\n",
       "AVProductStatesIdentifier                               0.015\n",
       "AVProductsEnabled                                       0.015\n",
       "Census_InternalPrimaryDiagonalDisplaySizeInInches       0.013\n",
       "OsPlatformSubRelease_rs4                                0.013\n",
       "Census_OSEdition_ProfessionalEducation                  0.013\n",
       "IsSxsPassiveMode                                        0.013\n",
       "Census_HasOpticalDiskDrive                              0.013\n",
       "IeVerIdentifier                                         0.012\n",
       "Census_OSEdition_CoreSingleLanguage                     0.012\n",
       "SkuEdition_Enterprise                                   0.011\n",
       "OsPlatformSubRelease_windows8.1                         0.011"
      ]
     },
     "execution_count": 60,
     "metadata": {},
     "output_type": "execute_result"
    }
   ],
   "source": [
    "importances = pd.DataFrame({'feature':X_train.columns,'importance':np.round(xg_best.feature_importances_,3)})\n",
    "\n",
    "importances = importances.sort_values('importance',ascending=False).set_index('feature')\n",
    "importances.head(20)"
   ]
  },
  {
   "cell_type": "code",
   "execution_count": 62,
   "metadata": {},
   "outputs": [
    {
     "data": {
      "text/plain": [
       "<AxesSubplot:xlabel='feature'>"
      ]
     },
     "execution_count": 62,
     "metadata": {},
     "output_type": "execute_result"
    },
    {
     "data": {
      "image/png": "[encoded data removed]",
      "text/plain": [
       "<Figure size 1440x720 with 1 Axes>"
      ]
     },
     "metadata": {
      "needs_background": "light"
     },
     "output_type": "display_data"
    }
   ],
   "source": [
    "importances.plot(kind='bar',figsize=(20,10))"
   ]
  },
  {
   "cell_type": "markdown",
   "metadata": {},
   "source": [
    "`XG Boost Classifier` didn't perform badly on both the train set and test set. There was little or no difference in terms of performance compared to the `Random Forest Classifier`. Due to memory and time, we only performed 3-fold cross validation during tuning and also only a few hyperparameters were explored. Later we could explore hyperparameters for better performance and the same time avoiding overfitting the model."
   ]
  },
  {
   "cell_type": "markdown",
   "metadata": {},
   "source": [
    "The dominant top 5 features are:\n",
    "* AVProductsInstalled\n",
    "* IsProtected\n",
    "* Census_IsVirtualDevice\n",
    "* RtpStateBitfield\n",
    "* SkuEdition_Enterprise LTSB\n",
    "\n",
    "and some of these are also common in the top 10 feature importance in the `Random Forest` model."
   ]
  },
  {
   "cell_type": "markdown",
   "metadata": {},
   "source": [
    "## 4.7 Final Model Selection<a id='4.7_Final_Model_Selection'></a>"
   ]
  },
  {
   "cell_type": "markdown",
   "metadata": {},
   "source": [
    "`XGBoost` classifier had a better accuracy score during training and also was marginally less than `Random Forest` model on the test test. In the future we would like to also test the performance of these models on the full dataset. There are other algorithms we could also explore like the `LightGBM` classifier which is know for faster training speed and high efficiency and capable of large data like this example."
   ]
  },
  {
   "cell_type": "markdown",
   "metadata": {},
   "source": [
    "## 4.13 Save best model<a id='4.13_Save_best_model'></a>"
   ]
  },
  {
   "cell_type": "code",
   "execution_count": 66,
   "metadata": {},
   "outputs": [],
   "source": [
    "#Let's call this model version '1.0'\n",
    "chosen_model = xg_cv.best_estimator_\n",
    "chosen_model.version = 1.0\n",
    "chosen_model.pandas_version = pd.__version__\n",
    "chosen_model.numpy_version = np.__version__\n",
    "chosen_model.sklearn_version = sklearn_version\n",
    "chosen_model.X_columns = [col for col in X_train.columns]\n",
    "chosen_model.build_datetime = datetime.datetime.now()"
   ]
  },
  {
   "cell_type": "code",
   "execution_count": 67,
   "metadata": {},
   "outputs": [
    {
     "name": "stdout",
     "output_type": "stream",
     "text": [
      "Writing file.  \"/Users/felixoffei/Desktop/Springboard/Capstone/malware_prediction_model.pkl\"\n"
     ]
    }
   ],
   "source": [
    "# save the model\n",
    "modelpath = '/Users/felixoffei/Desktop/Springboard/Capstone/'\n",
    "save_file(chosen_model, 'malware_prediction_model.pkl', modelpath)"
   ]
  },
  {
   "cell_type": "code",
   "execution_count": null,
   "metadata": {},
   "outputs": [],
   "source": []
  }
 ],
 "metadata": {
  "kernelspec": {
   "display_name": "Python 3",
   "language": "python",
   "name": "python3"
  },
  "language_info": {
   "codemirror_mode": {
    "name": "ipython",
    "version": 3
   },
   "file_extension": ".py",
   "mimetype": "text/x-python",
   "name": "python",
   "nbconvert_exporter": "python",
   "pygments_lexer": "ipython3",
   "version": "3.7.3"
  }
 },
 "nbformat": 4,
 "nbformat_minor": 2
}
