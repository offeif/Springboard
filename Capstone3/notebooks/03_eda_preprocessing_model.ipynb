{
 "cells": [
  {
   "cell_type": "markdown",
   "metadata": {},
   "source": [
    "# 3 EDA, Preprocessing and Training<a id='3_EDA_Preprocessing_and_Training'></a>"
   ]
  },
  {
   "cell_type": "markdown",
   "metadata": {},
   "source": [
    "## 3.1 Imports<a id='3.1_Imports'></a>"
   ]
  },
  {
   "cell_type": "code",
   "execution_count": 1,
   "metadata": {},
   "outputs": [],
   "source": [
    "import pandas as pd\n",
    "import numpy as np\n",
    "import os\n",
    "import pickle\n",
    "import matplotlib.pyplot as plt\n",
    "import seaborn as sns\n",
    "from sklearn import __version__ as sklearn_version\n",
    "from sklearn.decomposition import PCA\n",
    "from sklearn.preprocessing import scale\n",
    "from sklearn.model_selection import train_test_split, cross_validate, GridSearchCV, learning_curve, RandomizedSearchCV\n",
    "from sklearn.preprocessing import StandardScaler, MinMaxScaler\n",
    "from sklearn.dummy import DummyClassifier\n",
    "from sklearn.linear_model import LogisticRegression\n",
    "from sklearn.ensemble import RandomForestClassifier, GradientBoostingClassifier\n",
    "from xgboost import XGBClassifier\n",
    "from sklearn.metrics import precision_recall_curve\n",
    "from sklearn.metrics import f1_score\n",
    "from sklearn.metrics import auc\n",
    "from sklearn.metrics import classification_report,confusion_matrix,roc_curve,roc_auc_score\n",
    "from sklearn.metrics import accuracy_score,log_loss\n",
    "from sklearn.pipeline import Pipeline\n",
    "from sklearn.impute import SimpleImputer\n",
    "import datetime\n",
    "import lightgbm\n",
    "from bayes_opt import BayesianOptimization"
   ]
  },
  {
   "cell_type": "markdown",
   "metadata": {},
   "source": [
    "## 3.2 Load Data<a id='3.2_Load_Data'></a>"
   ]
  },
  {
   "cell_type": "code",
   "execution_count": 2,
   "metadata": {},
   "outputs": [],
   "source": [
    "# function to reduce memory(transaction data takes more 1.7GB of memory)\n",
    "def reduce_mem_usage(df, verbose=True):\n",
    "    numerics = ['int16', 'int32', 'int64', 'float16', 'float32', 'float64']\n",
    "    start_mem = df.memory_usage(deep=True).sum() / 1024**2\n",
    "    for col in df.columns:\n",
    "        col_type = df[col].dtypes\n",
    "        if col_type in numerics:\n",
    "            c_min = df[col].min()\n",
    "            c_max = df[col].max()\n",
    "            if str(col_type)[:3] == 'int':\n",
    "                if c_min > np.iinfo(np.int8).min and c_max < np.iinfo(np.int8).max:\n",
    "                    df[col] = df[col].astype(np.int8)\n",
    "                elif c_min > np.iinfo(np.int16).min and c_max < np.iinfo(np.int16).max:\n",
    "                    df[col] = df[col].astype(np.int16)\n",
    "                elif c_min > np.iinfo(np.int32).min and c_max < np.iinfo(np.int32).max:\n",
    "                    df[col] = df[col].astype(np.int32)\n",
    "                elif c_min > np.iinfo(np.int64).min and c_max < np.iinfo(np.int64).max:\n",
    "                    df[col] = df[col].astype(np.int64)\n",
    "            else:\n",
    "                c_prec = df[col].apply(lambda x: np.finfo(x).precision).max()\n",
    "                if c_min > np.finfo(np.float32).min and c_max < np.finfo(np.float32).max and c_prec == np.finfo(np.float32).precision:\n",
    "                    df[col] = df[col].astype(np.float32)\n",
    "                else:\n",
    "                    df[col] = df[col].astype(np.float64)\n",
    "    end_mem = df.memory_usage(deep=True).sum() / 1024**2\n",
    "    if verbose: print('Mem. usage decreased to {:5.2f} Mb ({:.1f}% reduction)'.format(end_mem, 100 * (start_mem - end_mem) / start_mem))\n",
    "    return df"
   ]
  },
  {
   "cell_type": "code",
   "execution_count": 3,
   "metadata": {},
   "outputs": [],
   "source": [
    "iee_data = pd.read_csv('/df_cleaned.csv')"
   ]
  },
  {
   "cell_type": "code",
   "execution_count": 4,
   "metadata": {},
   "outputs": [
    {
     "name": "stdout",
     "output_type": "stream",
     "text": [
      "Mem. usage decreased to 2645.85 Mb (1.5% reduction)\n"
     ]
    }
   ],
   "source": [
    "iee_data = reduce_mem_usage(iee_data)"
   ]
  },
  {
   "cell_type": "code",
   "execution_count": 5,
   "metadata": {},
   "outputs": [
    {
     "name": "stdout",
     "output_type": "stream",
     "text": [
      "<class 'pandas.core.frame.DataFrame'>\n",
      "RangeIndex: 590540 entries, 0 to 590539\n",
      "Data columns (total 434 columns):\n",
      " #    Column                     Non-Null Count   Dtype  \n",
      "---   ------                     --------------   -----  \n",
      " 0    TransactionID              590540 non-null  int32  \n",
      " 1    isFraud                    590540 non-null  int8   \n",
      " 2    TransactionDT              590540 non-null  object \n",
      " 3    TransactionAmt             590540 non-null  float64\n",
      " 4    ProductCD                  590540 non-null  object \n",
      " 5    card1                      590540 non-null  int16  \n",
      " 6    card2                      581607 non-null  float64\n",
      " 7    card3                      588975 non-null  float64\n",
      " 8    card4                      588963 non-null  object \n",
      " 9    card5                      586281 non-null  float64\n",
      " 10   card6                      588969 non-null  object \n",
      " 11   addr1                      524834 non-null  float64\n",
      " 12   addr2                      524834 non-null  float64\n",
      " 13   dist1                      238269 non-null  float64\n",
      " 14   P_emaildomain              496084 non-null  object \n",
      " 15   R_emaildomain              137291 non-null  object \n",
      " 16   C1                         590540 non-null  float64\n",
      " 17   C2                         590540 non-null  float64\n",
      " 18   C3                         590540 non-null  float64\n",
      " 19   C4                         590540 non-null  float64\n",
      " 20   C5                         590540 non-null  float64\n",
      " 21   C6                         590540 non-null  float64\n",
      " 22   C7                         590540 non-null  float64\n",
      " 23   C8                         590540 non-null  float64\n",
      " 24   C9                         590540 non-null  float64\n",
      " 25   C10                        590540 non-null  float64\n",
      " 26   C11                        590540 non-null  float64\n",
      " 27   C12                        590540 non-null  float64\n",
      " 28   C13                        590540 non-null  float64\n",
      " 29   C14                        590540 non-null  float64\n",
      " 30   D1                         589271 non-null  float64\n",
      " 31   D2                         309743 non-null  float64\n",
      " 32   D3                         327662 non-null  float64\n",
      " 33   D4                         421618 non-null  float64\n",
      " 34   D5                         280699 non-null  float64\n",
      " 35   D6                         73187 non-null   float64\n",
      " 36   D8                         74926 non-null   float64\n",
      " 37   D9                         74926 non-null   float64\n",
      " 38   D10                        514518 non-null  float64\n",
      " 39   D11                        311253 non-null  float64\n",
      " 40   D12                        64717 non-null   float64\n",
      " 41   D13                        61952 non-null   float64\n",
      " 42   D14                        62187 non-null   float64\n",
      " 43   D15                        501427 non-null  float64\n",
      " 44   M1                         319440 non-null  object \n",
      " 45   M2                         319440 non-null  object \n",
      " 46   M3                         319440 non-null  object \n",
      " 47   M4                         309096 non-null  object \n",
      " 48   M5                         240058 non-null  object \n",
      " 49   M6                         421180 non-null  object \n",
      " 50   M7                         244275 non-null  object \n",
      " 51   M8                         244288 non-null  object \n",
      " 52   M9                         244288 non-null  object \n",
      " 53   V1                         311253 non-null  float64\n",
      " 54   V2                         311253 non-null  float64\n",
      " 55   V3                         311253 non-null  float64\n",
      " 56   V4                         311253 non-null  float64\n",
      " 57   V5                         311253 non-null  float64\n",
      " 58   V6                         311253 non-null  float64\n",
      " 59   V7                         311253 non-null  float64\n",
      " 60   V8                         311253 non-null  float64\n",
      " 61   V9                         311253 non-null  float64\n",
      " 62   V10                        311253 non-null  float64\n",
      " 63   V11                        311253 non-null  float64\n",
      " 64   V12                        514467 non-null  float64\n",
      " 65   V13                        514467 non-null  float64\n",
      " 66   V14                        514467 non-null  float64\n",
      " 67   V15                        514467 non-null  float64\n",
      " 68   V16                        514467 non-null  float64\n",
      " 69   V17                        514467 non-null  float64\n",
      " 70   V18                        514467 non-null  float64\n",
      " 71   V19                        514467 non-null  float64\n",
      " 72   V20                        514467 non-null  float64\n",
      " 73   V21                        514467 non-null  float64\n",
      " 74   V22                        514467 non-null  float64\n",
      " 75   V23                        514467 non-null  float64\n",
      " 76   V24                        514467 non-null  float64\n",
      " 77   V25                        514467 non-null  float64\n",
      " 78   V26                        514467 non-null  float64\n",
      " 79   V27                        514467 non-null  float64\n",
      " 80   V28                        514467 non-null  float64\n",
      " 81   V29                        514467 non-null  float64\n",
      " 82   V30                        514467 non-null  float64\n",
      " 83   V31                        514467 non-null  float64\n",
      " 84   V32                        514467 non-null  float64\n",
      " 85   V33                        514467 non-null  float64\n",
      " 86   V34                        514467 non-null  float64\n",
      " 87   V35                        421571 non-null  float64\n",
      " 88   V36                        421571 non-null  float64\n",
      " 89   V37                        421571 non-null  float64\n",
      " 90   V38                        421571 non-null  float64\n",
      " 91   V39                        421571 non-null  float64\n",
      " 92   V40                        421571 non-null  float64\n",
      " 93   V41                        421571 non-null  float64\n",
      " 94   V42                        421571 non-null  float64\n",
      " 95   V43                        421571 non-null  float64\n",
      " 96   V44                        421571 non-null  float64\n",
      " 97   V45                        421571 non-null  float64\n",
      " 98   V46                        421571 non-null  float64\n",
      " 99   V47                        421571 non-null  float64\n",
      " 100  V48                        421571 non-null  float64\n",
      " 101  V49                        421571 non-null  float64\n",
      " 102  V50                        421571 non-null  float64\n",
      " 103  V51                        421571 non-null  float64\n",
      " 104  V52                        421571 non-null  float64\n",
      " 105  V53                        513444 non-null  float64\n",
      " 106  V54                        513444 non-null  float64\n",
      " 107  V55                        513444 non-null  float64\n",
      " 108  V56                        513444 non-null  float64\n",
      " 109  V57                        513444 non-null  float64\n",
      " 110  V58                        513444 non-null  float64\n",
      " 111  V59                        513444 non-null  float64\n",
      " 112  V60                        513444 non-null  float64\n",
      " 113  V61                        513444 non-null  float64\n",
      " 114  V62                        513444 non-null  float64\n",
      " 115  V63                        513444 non-null  float64\n",
      " 116  V64                        513444 non-null  float64\n",
      " 117  V65                        513444 non-null  float64\n",
      " 118  V66                        513444 non-null  float64\n",
      " 119  V67                        513444 non-null  float64\n",
      " 120  V68                        513444 non-null  float64\n",
      " 121  V69                        513444 non-null  float64\n",
      " 122  V70                        513444 non-null  float64\n",
      " 123  V71                        513444 non-null  float64\n",
      " 124  V72                        513444 non-null  float64\n",
      " 125  V73                        513444 non-null  float64\n",
      " 126  V74                        513444 non-null  float64\n",
      " 127  V75                        501376 non-null  float64\n",
      " 128  V76                        501376 non-null  float64\n",
      " 129  V77                        501376 non-null  float64\n",
      " 130  V78                        501376 non-null  float64\n",
      " 131  V79                        501376 non-null  float64\n",
      " 132  V80                        501376 non-null  float64\n",
      " 133  V81                        501376 non-null  float64\n",
      " 134  V82                        501376 non-null  float64\n",
      " 135  V83                        501376 non-null  float64\n",
      " 136  V84                        501376 non-null  float64\n",
      " 137  V85                        501376 non-null  float64\n",
      " 138  V86                        501376 non-null  float64\n",
      " 139  V87                        501376 non-null  float64\n",
      " 140  V88                        501376 non-null  float64\n",
      " 141  V89                        501376 non-null  float64\n",
      " 142  V90                        501376 non-null  float64\n",
      " 143  V91                        501376 non-null  float64\n",
      " 144  V92                        501376 non-null  float64\n",
      " 145  V93                        501376 non-null  float64\n",
      " 146  V94                        501376 non-null  float64\n",
      " 147  V95                        590226 non-null  float64\n",
      " 148  V96                        590226 non-null  float64\n",
      " 149  V97                        590226 non-null  float64\n",
      " 150  V98                        590226 non-null  float64\n",
      " 151  V99                        590226 non-null  float64\n",
      " 152  V100                       590226 non-null  float64\n",
      " 153  V101                       590226 non-null  float64\n",
      " 154  V102                       590226 non-null  float64\n",
      " 155  V103                       590226 non-null  float64\n",
      " 156  V104                       590226 non-null  float64\n",
      " 157  V105                       590226 non-null  float64\n",
      " 158  V106                       590226 non-null  float64\n",
      " 159  V107                       590226 non-null  float64\n",
      " 160  V108                       590226 non-null  float64\n",
      " 161  V109                       590226 non-null  float64\n",
      " 162  V110                       590226 non-null  float64\n",
      " 163  V111                       590226 non-null  float64\n",
      " 164  V112                       590226 non-null  float64\n",
      " 165  V113                       590226 non-null  float64\n",
      " 166  V114                       590226 non-null  float64\n",
      " 167  V115                       590226 non-null  float64\n",
      " 168  V116                       590226 non-null  float64\n",
      " 169  V117                       590226 non-null  float64\n",
      " 170  V118                       590226 non-null  float64\n",
      " 171  V119                       590226 non-null  float64\n",
      " 172  V120                       590226 non-null  float64\n",
      " 173  V121                       590226 non-null  float64\n",
      " 174  V122                       590226 non-null  float64\n",
      " 175  V123                       590226 non-null  float64\n",
      " 176  V124                       590226 non-null  float64\n",
      " 177  V125                       590226 non-null  float64\n",
      " 178  V126                       590226 non-null  float64\n",
      " 179  V127                       590226 non-null  float64\n",
      " 180  V128                       590226 non-null  float64\n",
      " 181  V129                       590226 non-null  float64\n",
      " 182  V130                       590226 non-null  float64\n",
      " 183  V131                       590226 non-null  float64\n",
      " 184  V132                       590226 non-null  float64\n",
      " 185  V133                       590226 non-null  float64\n",
      " 186  V134                       590226 non-null  float64\n",
      " 187  V135                       590226 non-null  float64\n",
      " 188  V136                       590226 non-null  float64\n",
      " 189  V137                       590226 non-null  float64\n",
      " 190  V138                       81945 non-null   float64\n",
      " 191  V139                       81945 non-null   float64\n",
      " 192  V140                       81945 non-null   float64\n",
      " 193  V141                       81945 non-null   float64\n",
      " 194  V142                       81945 non-null   float64\n",
      " 195  V143                       81951 non-null   float64\n",
      " 196  V144                       81951 non-null   float64\n",
      " 197  V145                       81951 non-null   float64\n",
      " 198  V146                       81945 non-null   float64\n",
      " 199  V147                       81945 non-null   float64\n",
      " 200  V148                       81945 non-null   float64\n",
      " 201  V149                       81945 non-null   float64\n",
      " 202  V150                       81951 non-null   float64\n",
      " 203  V151                       81951 non-null   float64\n",
      " 204  V152                       81951 non-null   float64\n",
      " 205  V153                       81945 non-null   float64\n",
      " 206  V154                       81945 non-null   float64\n",
      " 207  V155                       81945 non-null   float64\n",
      " 208  V156                       81945 non-null   float64\n",
      " 209  V157                       81945 non-null   float64\n",
      " 210  V158                       81945 non-null   float64\n",
      " 211  V159                       81951 non-null   float64\n",
      " 212  V160                       81951 non-null   float64\n",
      " 213  V161                       81945 non-null   float64\n",
      " 214  V162                       81945 non-null   float64\n",
      " 215  V163                       81945 non-null   float64\n",
      " 216  V164                       81951 non-null   float64\n",
      " 217  V165                       81951 non-null   float64\n",
      " 218  V166                       81951 non-null   float64\n",
      " 219  V167                       139631 non-null  float64\n",
      " 220  V168                       139631 non-null  float64\n",
      " 221  V169                       139819 non-null  float64\n",
      " 222  V170                       139819 non-null  float64\n",
      " 223  V171                       139819 non-null  float64\n",
      " 224  V172                       139631 non-null  float64\n",
      " 225  V173                       139631 non-null  float64\n",
      " 226  V174                       139819 non-null  float64\n",
      " 227  V175                       139819 non-null  float64\n",
      " 228  V176                       139631 non-null  float64\n",
      " 229  V177                       139631 non-null  float64\n",
      " 230  V178                       139631 non-null  float64\n",
      " 231  V179                       139631 non-null  float64\n",
      " 232  V180                       139819 non-null  float64\n",
      " 233  V181                       139631 non-null  float64\n",
      " 234  V182                       139631 non-null  float64\n",
      " 235  V183                       139631 non-null  float64\n",
      " 236  V184                       139819 non-null  float64\n",
      " 237  V185                       139819 non-null  float64\n",
      " 238  V186                       139631 non-null  float64\n",
      " 239  V187                       139631 non-null  float64\n",
      " 240  V188                       139819 non-null  float64\n",
      " 241  V189                       139819 non-null  float64\n",
      " 242  V190                       139631 non-null  float64\n",
      " 243  V191                       139631 non-null  float64\n",
      " 244  V192                       139631 non-null  float64\n",
      " 245  V193                       139631 non-null  float64\n",
      " 246  V194                       139819 non-null  float64\n",
      " 247  V195                       139819 non-null  float64\n",
      " 248  V196                       139631 non-null  float64\n",
      " 249  V197                       139819 non-null  float64\n",
      " 250  V198                       139819 non-null  float64\n",
      " 251  V199                       139631 non-null  float64\n",
      " 252  V200                       139819 non-null  float64\n",
      " 253  V201                       139819 non-null  float64\n",
      " 254  V202                       139631 non-null  float64\n",
      " 255  V203                       139631 non-null  float64\n",
      " 256  V204                       139631 non-null  float64\n",
      " 257  V205                       139631 non-null  float64\n",
      " 258  V206                       139631 non-null  float64\n",
      " 259  V207                       139631 non-null  float64\n",
      " 260  V208                       139819 non-null  float64\n",
      " 261  V209                       139819 non-null  float64\n",
      " 262  V210                       139819 non-null  float64\n",
      " 263  V211                       139631 non-null  float64\n",
      " 264  V212                       139631 non-null  float64\n",
      " 265  V213                       139631 non-null  float64\n",
      " 266  V214                       139631 non-null  float64\n",
      " 267  V215                       139631 non-null  float64\n",
      " 268  V216                       139631 non-null  float64\n",
      " 269  V217                       130430 non-null  float64\n",
      " 270  V218                       130430 non-null  float64\n",
      " 271  V219                       130430 non-null  float64\n",
      " 272  V220                       141416 non-null  float64\n",
      " 273  V221                       141416 non-null  float64\n",
      " 274  V222                       141416 non-null  float64\n",
      " 275  V223                       130430 non-null  float64\n",
      " 276  V224                       130430 non-null  float64\n",
      " 277  V225                       130430 non-null  float64\n",
      " 278  V226                       130430 non-null  float64\n",
      " 279  V227                       141416 non-null  float64\n",
      " 280  V228                       130430 non-null  float64\n",
      " 281  V229                       130430 non-null  float64\n",
      " 282  V230                       130430 non-null  float64\n",
      " 283  V231                       130430 non-null  float64\n",
      " 284  V232                       130430 non-null  float64\n",
      " 285  V233                       130430 non-null  float64\n",
      " 286  V234                       141416 non-null  float64\n",
      " 287  V235                       130430 non-null  float64\n",
      " 288  V236                       130430 non-null  float64\n",
      " 289  V237                       130430 non-null  float64\n",
      " 290  V238                       141416 non-null  float64\n",
      " 291  V239                       141416 non-null  float64\n",
      " 292  V240                       130430 non-null  float64\n",
      " 293  V241                       130430 non-null  float64\n",
      " 294  V242                       130430 non-null  float64\n",
      " 295  V243                       130430 non-null  float64\n",
      " 296  V244                       130430 non-null  float64\n",
      " 297  V245                       141416 non-null  float64\n",
      " 298  V246                       130430 non-null  float64\n",
      " 299  V247                       130430 non-null  float64\n",
      " 300  V248                       130430 non-null  float64\n",
      " 301  V249                       130430 non-null  float64\n",
      " 302  V250                       141416 non-null  float64\n",
      " 303  V251                       141416 non-null  float64\n",
      " 304  V252                       130430 non-null  float64\n",
      " 305  V253                       130430 non-null  float64\n",
      " 306  V254                       130430 non-null  float64\n",
      " 307  V255                       141416 non-null  float64\n",
      " 308  V256                       141416 non-null  float64\n",
      " 309  V257                       130430 non-null  float64\n",
      " 310  V258                       130430 non-null  float64\n",
      " 311  V259                       141416 non-null  float64\n",
      " 312  V260                       130430 non-null  float64\n",
      " 313  V261                       130430 non-null  float64\n",
      " 314  V262                       130430 non-null  float64\n",
      " 315  V263                       130430 non-null  float64\n",
      " 316  V264                       130430 non-null  float64\n",
      " 317  V265                       130430 non-null  float64\n",
      " 318  V266                       130430 non-null  float64\n",
      " 319  V267                       130430 non-null  float64\n",
      " 320  V268                       130430 non-null  float64\n",
      " 321  V269                       130430 non-null  float64\n",
      " 322  V270                       141416 non-null  float64\n",
      " 323  V271                       141416 non-null  float64\n",
      " 324  V272                       141416 non-null  float64\n",
      " 325  V273                       130430 non-null  float64\n",
      " 326  V274                       130430 non-null  float64\n",
      " 327  V275                       130430 non-null  float64\n",
      " 328  V276                       130430 non-null  float64\n",
      " 329  V277                       130430 non-null  float64\n",
      " 330  V278                       130430 non-null  float64\n",
      " 331  V279                       590528 non-null  float64\n",
      " 332  V280                       590528 non-null  float64\n",
      " 333  V281                       589271 non-null  float64\n",
      " 334  V282                       589271 non-null  float64\n",
      " 335  V283                       589271 non-null  float64\n",
      " 336  V284                       590528 non-null  float64\n",
      " 337  V285                       590528 non-null  float64\n",
      " 338  V286                       590528 non-null  float64\n",
      " 339  V287                       590528 non-null  float64\n",
      " 340  V288                       589271 non-null  float64\n",
      " 341  V289                       589271 non-null  float64\n",
      " 342  V290                       590528 non-null  float64\n",
      " 343  V291                       590528 non-null  float64\n",
      " 344  V292                       590528 non-null  float64\n",
      " 345  V293                       590528 non-null  float64\n",
      " 346  V294                       590528 non-null  float64\n",
      " 347  V295                       590528 non-null  float64\n",
      " 348  V296                       589271 non-null  float64\n",
      " 349  V297                       590528 non-null  float64\n",
      " 350  V298                       590528 non-null  float64\n",
      " 351  V299                       590528 non-null  float64\n",
      " 352  V300                       589271 non-null  float64\n",
      " 353  V301                       589271 non-null  float64\n",
      " 354  V302                       590528 non-null  float64\n",
      " 355  V303                       590528 non-null  float64\n",
      " 356  V304                       590528 non-null  float64\n",
      " 357  V305                       590528 non-null  float64\n",
      " 358  V306                       590528 non-null  float64\n",
      " 359  V307                       590528 non-null  float64\n",
      " 360  V308                       590528 non-null  float64\n",
      " 361  V309                       590528 non-null  float64\n",
      " 362  V310                       590528 non-null  float64\n",
      " 363  V311                       590528 non-null  float64\n",
      " 364  V312                       590528 non-null  float64\n",
      " 365  V313                       589271 non-null  float64\n",
      " 366  V314                       589271 non-null  float64\n",
      " 367  V315                       589271 non-null  float64\n",
      " 368  V316                       590528 non-null  float64\n",
      " 369  V317                       590528 non-null  float64\n",
      " 370  V318                       590528 non-null  float64\n",
      " 371  V319                       590528 non-null  float64\n",
      " 372  V320                       590528 non-null  float64\n",
      " 373  V321                       590528 non-null  float64\n",
      " 374  V322                       82351 non-null   float64\n",
      " 375  V323                       82351 non-null   float64\n",
      " 376  V324                       82351 non-null   float64\n",
      " 377  V325                       82351 non-null   float64\n",
      " 378  V326                       82351 non-null   float64\n",
      " 379  V327                       82351 non-null   float64\n",
      " 380  V328                       82351 non-null   float64\n",
      " 381  V329                       82351 non-null   float64\n",
      " 382  V330                       82351 non-null   float64\n",
      " 383  V331                       82351 non-null   float64\n",
      " 384  V332                       82351 non-null   float64\n",
      " 385  V333                       82351 non-null   float64\n",
      " 386  V334                       82351 non-null   float64\n",
      " 387  V335                       82351 non-null   float64\n",
      " 388  V336                       82351 non-null   float64\n",
      " 389  V337                       82351 non-null   float64\n",
      " 390  V338                       82351 non-null   float64\n",
      " 391  V339                       82351 non-null   float64\n",
      " 392  id_01                      144233 non-null  float64\n",
      " 393  id_02                      140872 non-null  float64\n",
      " 394  id_03                      66324 non-null   float64\n",
      " 395  id_04                      66324 non-null   float64\n",
      " 396  id_05                      136865 non-null  float64\n",
      " 397  id_06                      136865 non-null  float64\n",
      " 398  id_09                      74926 non-null   float64\n",
      " 399  id_10                      74926 non-null   float64\n",
      " 400  id_11                      140978 non-null  float64\n",
      " 401  id_12                      144233 non-null  object \n",
      " 402  id_13                      127320 non-null  float64\n",
      " 403  id_14                      80044 non-null   float64\n",
      " 404  id_15                      140985 non-null  object \n",
      " 405  id_16                      129340 non-null  object \n",
      " 406  id_17                      139369 non-null  float64\n",
      " 407  id_19                      139318 non-null  float64\n",
      " 408  id_20                      139261 non-null  float64\n",
      " 409  id_28                      140978 non-null  object \n",
      " 410  id_29                      140978 non-null  object \n",
      " 411  id_30                      77565 non-null   object \n",
      " 412  id_31                      140282 non-null  object \n",
      " 413  id_32                      77586 non-null   float64\n",
      " 414  id_33                      73289 non-null   object \n",
      " 415  id_34                      77805 non-null   object \n",
      " 416  id_35                      140985 non-null  object \n",
      " 417  id_36                      140985 non-null  object \n",
      " 418  id_37                      140985 non-null  object \n",
      " 419  id_38                      140985 non-null  object \n",
      " 420  DeviceType                 140810 non-null  object \n",
      " 421  DeviceInfo                 118666 non-null  object \n",
      " 422  P_emaildomain_bin          496084 non-null  object \n",
      " 423  R_emaildomain_bin          137291 non-null  object \n",
      " 424  TransactionDT_Month        590540 non-null  int8   \n",
      " 425  TransactionDT_Day          590540 non-null  int8   \n",
      " 426  TransactionDT_Year         590540 non-null  int16  \n",
      " 427  TransactionDT_Week Number  590540 non-null  int8   \n",
      " 428  TransactionDT_Day Of Week  590540 non-null  int8   \n",
      " 429  TransactionDT_Day Name     590540 non-null  object \n",
      " 430  TransactionDT_Month Name   590540 non-null  object \n",
      " 431  TransactionDT_Hour         590540 non-null  int8   \n",
      " 432  TransactionDT_Minute       590540 non-null  int8   \n",
      " 433  TransactionDT_Second       590540 non-null  int8   \n",
      "dtypes: float64(389), int16(2), int32(1), int8(8), object(34)\n",
      "memory usage: 1.9+ GB\n"
     ]
    }
   ],
   "source": [
    "iee_data.info(verbose=True, show_counts=True)"
   ]
  },
  {
   "cell_type": "code",
   "execution_count": 6,
   "metadata": {},
   "outputs": [
    {
     "data": {
      "text/html": [
       "<div>\n",
       "<style scoped>\n",
       "    .dataframe tbody tr th:only-of-type {\n",
       "        vertical-align: middle;\n",
       "    }\n",
       "\n",
       "    .dataframe tbody tr th {\n",
       "        vertical-align: top;\n",
       "    }\n",
       "\n",
       "    .dataframe thead th {\n",
       "        text-align: right;\n",
       "    }\n",
       "</style>\n",
       "<table border=\"1\" class=\"dataframe\">\n",
       "  <thead>\n",
       "    <tr style=\"text-align: right;\">\n",
       "      <th></th>\n",
       "      <th>TransactionID</th>\n",
       "      <th>isFraud</th>\n",
       "      <th>TransactionDT</th>\n",
       "      <th>TransactionAmt</th>\n",
       "      <th>ProductCD</th>\n",
       "      <th>card1</th>\n",
       "      <th>card2</th>\n",
       "      <th>card3</th>\n",
       "      <th>card4</th>\n",
       "      <th>card5</th>\n",
       "      <th>...</th>\n",
       "      <th>TransactionDT_Month</th>\n",
       "      <th>TransactionDT_Day</th>\n",
       "      <th>TransactionDT_Year</th>\n",
       "      <th>TransactionDT_Week Number</th>\n",
       "      <th>TransactionDT_Day Of Week</th>\n",
       "      <th>TransactionDT_Day Name</th>\n",
       "      <th>TransactionDT_Month Name</th>\n",
       "      <th>TransactionDT_Hour</th>\n",
       "      <th>TransactionDT_Minute</th>\n",
       "      <th>TransactionDT_Second</th>\n",
       "    </tr>\n",
       "  </thead>\n",
       "  <tbody>\n",
       "    <tr>\n",
       "      <th>0</th>\n",
       "      <td>2987000</td>\n",
       "      <td>0</td>\n",
       "      <td>2017-12-02 00:00:00</td>\n",
       "      <td>68.5</td>\n",
       "      <td>W</td>\n",
       "      <td>13926</td>\n",
       "      <td>NaN</td>\n",
       "      <td>150.0</td>\n",
       "      <td>discover</td>\n",
       "      <td>142.0</td>\n",
       "      <td>...</td>\n",
       "      <td>12</td>\n",
       "      <td>2</td>\n",
       "      <td>2017</td>\n",
       "      <td>48</td>\n",
       "      <td>5</td>\n",
       "      <td>Saturday</td>\n",
       "      <td>December</td>\n",
       "      <td>0</td>\n",
       "      <td>0</td>\n",
       "      <td>0</td>\n",
       "    </tr>\n",
       "    <tr>\n",
       "      <th>1</th>\n",
       "      <td>2987001</td>\n",
       "      <td>0</td>\n",
       "      <td>2017-12-02 00:00:01</td>\n",
       "      <td>29.0</td>\n",
       "      <td>W</td>\n",
       "      <td>2755</td>\n",
       "      <td>404.0</td>\n",
       "      <td>150.0</td>\n",
       "      <td>mastercard</td>\n",
       "      <td>102.0</td>\n",
       "      <td>...</td>\n",
       "      <td>12</td>\n",
       "      <td>2</td>\n",
       "      <td>2017</td>\n",
       "      <td>48</td>\n",
       "      <td>5</td>\n",
       "      <td>Saturday</td>\n",
       "      <td>December</td>\n",
       "      <td>0</td>\n",
       "      <td>0</td>\n",
       "      <td>1</td>\n",
       "    </tr>\n",
       "    <tr>\n",
       "      <th>2</th>\n",
       "      <td>2987002</td>\n",
       "      <td>0</td>\n",
       "      <td>2017-12-02 00:01:09</td>\n",
       "      <td>59.0</td>\n",
       "      <td>W</td>\n",
       "      <td>4663</td>\n",
       "      <td>490.0</td>\n",
       "      <td>150.0</td>\n",
       "      <td>visa</td>\n",
       "      <td>166.0</td>\n",
       "      <td>...</td>\n",
       "      <td>12</td>\n",
       "      <td>2</td>\n",
       "      <td>2017</td>\n",
       "      <td>48</td>\n",
       "      <td>5</td>\n",
       "      <td>Saturday</td>\n",
       "      <td>December</td>\n",
       "      <td>0</td>\n",
       "      <td>1</td>\n",
       "      <td>9</td>\n",
       "    </tr>\n",
       "    <tr>\n",
       "      <th>3</th>\n",
       "      <td>2987003</td>\n",
       "      <td>0</td>\n",
       "      <td>2017-12-02 00:01:39</td>\n",
       "      <td>50.0</td>\n",
       "      <td>W</td>\n",
       "      <td>18132</td>\n",
       "      <td>567.0</td>\n",
       "      <td>150.0</td>\n",
       "      <td>mastercard</td>\n",
       "      <td>117.0</td>\n",
       "      <td>...</td>\n",
       "      <td>12</td>\n",
       "      <td>2</td>\n",
       "      <td>2017</td>\n",
       "      <td>48</td>\n",
       "      <td>5</td>\n",
       "      <td>Saturday</td>\n",
       "      <td>December</td>\n",
       "      <td>0</td>\n",
       "      <td>1</td>\n",
       "      <td>39</td>\n",
       "    </tr>\n",
       "    <tr>\n",
       "      <th>4</th>\n",
       "      <td>2987004</td>\n",
       "      <td>0</td>\n",
       "      <td>2017-12-02 00:01:46</td>\n",
       "      <td>50.0</td>\n",
       "      <td>H</td>\n",
       "      <td>4497</td>\n",
       "      <td>514.0</td>\n",
       "      <td>150.0</td>\n",
       "      <td>mastercard</td>\n",
       "      <td>102.0</td>\n",
       "      <td>...</td>\n",
       "      <td>12</td>\n",
       "      <td>2</td>\n",
       "      <td>2017</td>\n",
       "      <td>48</td>\n",
       "      <td>5</td>\n",
       "      <td>Saturday</td>\n",
       "      <td>December</td>\n",
       "      <td>0</td>\n",
       "      <td>1</td>\n",
       "      <td>46</td>\n",
       "    </tr>\n",
       "  </tbody>\n",
       "</table>\n",
       "<p>5 rows × 434 columns</p>\n",
       "</div>"
      ],
      "text/plain": [
       "   TransactionID  isFraud        TransactionDT  TransactionAmt ProductCD  \\\n",
       "0        2987000        0  2017-12-02 00:00:00            68.5         W   \n",
       "1        2987001        0  2017-12-02 00:00:01            29.0         W   \n",
       "2        2987002        0  2017-12-02 00:01:09            59.0         W   \n",
       "3        2987003        0  2017-12-02 00:01:39            50.0         W   \n",
       "4        2987004        0  2017-12-02 00:01:46            50.0         H   \n",
       "\n",
       "   card1  card2  card3       card4  card5  ... TransactionDT_Month  \\\n",
       "0  13926    NaN  150.0    discover  142.0  ...                  12   \n",
       "1   2755  404.0  150.0  mastercard  102.0  ...                  12   \n",
       "2   4663  490.0  150.0        visa  166.0  ...                  12   \n",
       "3  18132  567.0  150.0  mastercard  117.0  ...                  12   \n",
       "4   4497  514.0  150.0  mastercard  102.0  ...                  12   \n",
       "\n",
       "   TransactionDT_Day  TransactionDT_Year  TransactionDT_Week Number  \\\n",
       "0                  2                2017                         48   \n",
       "1                  2                2017                         48   \n",
       "2                  2                2017                         48   \n",
       "3                  2                2017                         48   \n",
       "4                  2                2017                         48   \n",
       "\n",
       "  TransactionDT_Day Of Week TransactionDT_Day Name  TransactionDT_Month Name  \\\n",
       "0                         5               Saturday                  December   \n",
       "1                         5               Saturday                  December   \n",
       "2                         5               Saturday                  December   \n",
       "3                         5               Saturday                  December   \n",
       "4                         5               Saturday                  December   \n",
       "\n",
       "   TransactionDT_Hour  TransactionDT_Minute  TransactionDT_Second  \n",
       "0                   0                     0                     0  \n",
       "1                   0                     0                     1  \n",
       "2                   0                     1                     9  \n",
       "3                   0                     1                    39  \n",
       "4                   0                     1                    46  \n",
       "\n",
       "[5 rows x 434 columns]"
      ]
     },
     "execution_count": 6,
     "metadata": {},
     "output_type": "execute_result"
    }
   ],
   "source": [
    "# check a few rows from the data\n",
    "iee_data.head()"
   ]
  },
  {
   "cell_type": "markdown",
   "metadata": {},
   "source": [
    "## 3.3 Exploratory Data Analysis<a id='3.3_Exploratory_Data_Analysis'></a>"
   ]
  },
  {
   "cell_type": "markdown",
   "metadata": {},
   "source": [
    "#### 3.3.1 Transaction Amount By Card Company<a id='3.3.1_Transaction_Amount_By_Card_Company'></a>"
   ]
  },
  {
   "cell_type": "code",
   "execution_count": 7,
   "metadata": {},
   "outputs": [],
   "source": [
    "amnt_by_card = iee_data.groupby('card4')['TransactionAmt'].mean()"
   ]
  },
  {
   "cell_type": "code",
   "execution_count": 8,
   "metadata": {},
   "outputs": [
    {
     "data": {
      "text/plain": [
       "card4\n",
       "discover            265.750425\n",
       "american express    173.057137\n",
       "visa                133.161806\n",
       "mastercard          132.387731\n",
       "Name: TransactionAmt, dtype: float64"
      ]
     },
     "execution_count": 8,
     "metadata": {},
     "output_type": "execute_result"
    }
   ],
   "source": [
    "amnt_by_card.sort_values(ascending=False)"
   ]
  },
  {
   "cell_type": "markdown",
   "metadata": {},
   "source": [
    "The average transaction amount by card company with discover being the most cards used by customers for transactions"
   ]
  },
  {
   "cell_type": "code",
   "execution_count": 9,
   "metadata": {
    "scrolled": true
   },
   "outputs": [
    {
     "data": {
      "text/plain": [
       "card4\n",
       "american express    179.071900\n",
       "discover            354.086459\n",
       "mastercard          131.733248\n",
       "visa                149.383523\n",
       "Name: TransactionAmt, dtype: float64"
      ]
     },
     "execution_count": 9,
     "metadata": {},
     "output_type": "execute_result"
    }
   ],
   "source": [
    "# What is the mean of transactions, for fraud cases only, to each card type\n",
    "iee_data[iee_data['isFraud']==1].groupby('card4')['TransactionAmt'].mean()"
   ]
  },
  {
   "cell_type": "markdown",
   "metadata": {},
   "source": [
    "#### 3.3.2 Percent of fraud related cases by card type<a id='3.3.2_Percent_of_fraud_related_cases_by_card_type'></a>"
   ]
  },
  {
   "cell_type": "code",
   "execution_count": 10,
   "metadata": {},
   "outputs": [],
   "source": [
    "fraud_by_card = iee_data.groupby(['card4','isFraud']).size().unstack()"
   ]
  },
  {
   "cell_type": "code",
   "execution_count": 11,
   "metadata": {},
   "outputs": [
    {
     "data": {
      "text/html": [
       "<div>\n",
       "<style scoped>\n",
       "    .dataframe tbody tr th:only-of-type {\n",
       "        vertical-align: middle;\n",
       "    }\n",
       "\n",
       "    .dataframe tbody tr th {\n",
       "        vertical-align: top;\n",
       "    }\n",
       "\n",
       "    .dataframe thead th {\n",
       "        text-align: right;\n",
       "    }\n",
       "</style>\n",
       "<table border=\"1\" class=\"dataframe\">\n",
       "  <thead>\n",
       "    <tr style=\"text-align: right;\">\n",
       "      <th>isFraud</th>\n",
       "      <th>0</th>\n",
       "      <th>1</th>\n",
       "    </tr>\n",
       "    <tr>\n",
       "      <th>card4</th>\n",
       "      <th></th>\n",
       "      <th></th>\n",
       "    </tr>\n",
       "  </thead>\n",
       "  <tbody>\n",
       "    <tr>\n",
       "      <th>american express</th>\n",
       "      <td>0.971302</td>\n",
       "      <td>0.028698</td>\n",
       "    </tr>\n",
       "    <tr>\n",
       "      <th>discover</th>\n",
       "      <td>0.922718</td>\n",
       "      <td>0.077282</td>\n",
       "    </tr>\n",
       "    <tr>\n",
       "      <th>mastercard</th>\n",
       "      <td>0.965669</td>\n",
       "      <td>0.034331</td>\n",
       "    </tr>\n",
       "    <tr>\n",
       "      <th>visa</th>\n",
       "      <td>0.965244</td>\n",
       "      <td>0.034756</td>\n",
       "    </tr>\n",
       "  </tbody>\n",
       "</table>\n",
       "</div>"
      ],
      "text/plain": [
       "isFraud                  0         1\n",
       "card4                               \n",
       "american express  0.971302  0.028698\n",
       "discover          0.922718  0.077282\n",
       "mastercard        0.965669  0.034331\n",
       "visa              0.965244  0.034756"
      ]
     },
     "execution_count": 11,
     "metadata": {},
     "output_type": "execute_result"
    }
   ],
   "source": [
    "fraud_by_card = fraud_by_card.div(fraud_by_card.sum(1),axis=0)\n",
    "fraud_by_card"
   ]
  },
  {
   "cell_type": "code",
   "execution_count": 12,
   "metadata": {},
   "outputs": [
    {
     "data": {
      "text/plain": [
       "<AxesSubplot:title={'center':'Is Fraud by Card Company'}, ylabel='card4'>"
      ]
     },
     "execution_count": 12,
     "metadata": {},
     "output_type": "execute_result"
    },
    {
     "data": {
      "image/png": "[encoded data removed]",
      "text/plain": [
       "<Figure size 576x360 with 1 Axes>"
      ]
     },
     "metadata": {
      "needs_background": "light"
     },
     "output_type": "display_data"
    }
   ],
   "source": [
    "fig,ax = plt.subplots(1,1,figsize=(8,5))\n",
    "fraud_by_card.plot(ax=ax,kind='barh',title='Is Fraud by Card Company')"
   ]
  },
  {
   "cell_type": "markdown",
   "metadata": {},
   "source": [
    "Among the four card providers, `discover` appears to be the one most associated with fraud ransactions with a percentage of approximately 7.73%. `Visa` and `mastercard` followed next with a percentage of aproximately 3.5% and 3.43% respectively"
   ]
  },
  {
   "cell_type": "markdown",
   "metadata": {},
   "source": [
    "#### 3.3.3 Devices used for Fraud transactions<a id='3.3.3_Devices_used_for_Fraud_transactions'></a>"
   ]
  },
  {
   "cell_type": "code",
   "execution_count": 13,
   "metadata": {},
   "outputs": [
    {
     "data": {
      "text/html": [
       "<div>\n",
       "<style scoped>\n",
       "    .dataframe tbody tr th:only-of-type {\n",
       "        vertical-align: middle;\n",
       "    }\n",
       "\n",
       "    .dataframe tbody tr th {\n",
       "        vertical-align: top;\n",
       "    }\n",
       "\n",
       "    .dataframe thead th {\n",
       "        text-align: right;\n",
       "    }\n",
       "</style>\n",
       "<table border=\"1\" class=\"dataframe\">\n",
       "  <thead>\n",
       "    <tr style=\"text-align: right;\">\n",
       "      <th>isFraud</th>\n",
       "      <th>0</th>\n",
       "      <th>1</th>\n",
       "    </tr>\n",
       "    <tr>\n",
       "      <th>DeviceType</th>\n",
       "      <th></th>\n",
       "      <th></th>\n",
       "    </tr>\n",
       "  </thead>\n",
       "  <tbody>\n",
       "    <tr>\n",
       "      <th>desktop</th>\n",
       "      <td>0.934785</td>\n",
       "      <td>0.065215</td>\n",
       "    </tr>\n",
       "    <tr>\n",
       "      <th>mobile</th>\n",
       "      <td>0.898338</td>\n",
       "      <td>0.101662</td>\n",
       "    </tr>\n",
       "  </tbody>\n",
       "</table>\n",
       "</div>"
      ],
      "text/plain": [
       "isFraud            0         1\n",
       "DeviceType                    \n",
       "desktop     0.934785  0.065215\n",
       "mobile      0.898338  0.101662"
      ]
     },
     "execution_count": 13,
     "metadata": {},
     "output_type": "execute_result"
    }
   ],
   "source": [
    "fraud_by_device = iee_data.groupby(['DeviceType','isFraud']).size().unstack()\n",
    "fraud_by_device = fraud_by_device.div(fraud_by_device.sum(1),axis=0)\n",
    "fraud_by_device"
   ]
  },
  {
   "cell_type": "code",
   "execution_count": 14,
   "metadata": {},
   "outputs": [
    {
     "data": {
      "text/plain": [
       "<AxesSubplot:title={'center':'Is Fraud by Device Type'}, ylabel='DeviceType'>"
      ]
     },
     "execution_count": 14,
     "metadata": {},
     "output_type": "execute_result"
    },
    {
     "data": {
      "image/png": "[encoded data removed]",
      "text/plain": [
       "<Figure size 576x360 with 1 Axes>"
      ]
     },
     "metadata": {
      "needs_background": "light"
     },
     "output_type": "display_data"
    }
   ],
   "source": [
    "fig,ax = plt.subplots(1,1,figsize=(8,5))\n",
    "fraud_by_device.plot(ax=ax,kind='barh',title='Is Fraud by Device Type')"
   ]
  },
  {
   "cell_type": "markdown",
   "metadata": {},
   "source": [
    "Mobile devices accounted for most fraud transactions related averaging 10% with desktop devices averaging 6.5%"
   ]
  },
  {
   "cell_type": "markdown",
   "metadata": {},
   "source": [
    "#### 3.3.4 Count of Fraud by Day and Month<a id='3.3.4_Count_of_Fraud_by_Day_and_Month'></a>"
   ]
  },
  {
   "cell_type": "code",
   "execution_count": 15,
   "metadata": {},
   "outputs": [
    {
     "data": {
      "text/html": [
       "<div>\n",
       "<style scoped>\n",
       "    .dataframe tbody tr th:only-of-type {\n",
       "        vertical-align: middle;\n",
       "    }\n",
       "\n",
       "    .dataframe tbody tr th {\n",
       "        vertical-align: top;\n",
       "    }\n",
       "\n",
       "    .dataframe thead th {\n",
       "        text-align: right;\n",
       "    }\n",
       "</style>\n",
       "<table border=\"1\" class=\"dataframe\">\n",
       "  <thead>\n",
       "    <tr style=\"text-align: right;\">\n",
       "      <th>isFraud</th>\n",
       "      <th>0</th>\n",
       "      <th>1</th>\n",
       "    </tr>\n",
       "    <tr>\n",
       "      <th>TransactionDT_Day Name</th>\n",
       "      <th></th>\n",
       "      <th></th>\n",
       "    </tr>\n",
       "  </thead>\n",
       "  <tbody>\n",
       "    <tr>\n",
       "      <th>Friday</th>\n",
       "      <td>83166</td>\n",
       "      <td>3211</td>\n",
       "    </tr>\n",
       "    <tr>\n",
       "      <th>Monday</th>\n",
       "      <td>67720</td>\n",
       "      <td>2503</td>\n",
       "    </tr>\n",
       "    <tr>\n",
       "      <th>Saturday</th>\n",
       "      <td>94952</td>\n",
       "      <td>3550</td>\n",
       "    </tr>\n",
       "    <tr>\n",
       "      <th>Sunday</th>\n",
       "      <td>76871</td>\n",
       "      <td>2963</td>\n",
       "    </tr>\n",
       "    <tr>\n",
       "      <th>Thursday</th>\n",
       "      <td>82410</td>\n",
       "      <td>2946</td>\n",
       "    </tr>\n",
       "    <tr>\n",
       "      <th>Tuesday</th>\n",
       "      <td>82746</td>\n",
       "      <td>2687</td>\n",
       "    </tr>\n",
       "    <tr>\n",
       "      <th>Wednesday</th>\n",
       "      <td>82012</td>\n",
       "      <td>2803</td>\n",
       "    </tr>\n",
       "  </tbody>\n",
       "</table>\n",
       "</div>"
      ],
      "text/plain": [
       "isFraud                     0     1\n",
       "TransactionDT_Day Name             \n",
       "Friday                  83166  3211\n",
       "Monday                  67720  2503\n",
       "Saturday                94952  3550\n",
       "Sunday                  76871  2963\n",
       "Thursday                82410  2946\n",
       "Tuesday                 82746  2687\n",
       "Wednesday               82012  2803"
      ]
     },
     "execution_count": 15,
     "metadata": {},
     "output_type": "execute_result"
    }
   ],
   "source": [
    "iee_data.groupby(['TransactionDT_Day Name', 'isFraud']).size().unstack()"
   ]
  },
  {
   "cell_type": "code",
   "execution_count": 16,
   "metadata": {
    "scrolled": true
   },
   "outputs": [
    {
     "data": {
      "text/html": [
       "<div>\n",
       "<style scoped>\n",
       "    .dataframe tbody tr th:only-of-type {\n",
       "        vertical-align: middle;\n",
       "    }\n",
       "\n",
       "    .dataframe tbody tr th {\n",
       "        vertical-align: top;\n",
       "    }\n",
       "\n",
       "    .dataframe thead th {\n",
       "        text-align: right;\n",
       "    }\n",
       "</style>\n",
       "<table border=\"1\" class=\"dataframe\">\n",
       "  <thead>\n",
       "    <tr style=\"text-align: right;\">\n",
       "      <th>isFraud</th>\n",
       "      <th>0</th>\n",
       "      <th>1</th>\n",
       "    </tr>\n",
       "    <tr>\n",
       "      <th>TransactionDT_Month Name</th>\n",
       "      <th></th>\n",
       "      <th></th>\n",
       "    </tr>\n",
       "  </thead>\n",
       "  <tbody>\n",
       "    <tr>\n",
       "      <th>April</th>\n",
       "      <td>80721</td>\n",
       "      <td>2850</td>\n",
       "    </tr>\n",
       "    <tr>\n",
       "      <th>December</th>\n",
       "      <td>130938</td>\n",
       "      <td>3401</td>\n",
       "    </tr>\n",
       "    <tr>\n",
       "      <th>February</th>\n",
       "      <td>82245</td>\n",
       "      <td>3480</td>\n",
       "    </tr>\n",
       "    <tr>\n",
       "      <th>January</th>\n",
       "      <td>88821</td>\n",
       "      <td>3689</td>\n",
       "    </tr>\n",
       "    <tr>\n",
       "      <th>June</th>\n",
       "      <td>2635</td>\n",
       "      <td>119</td>\n",
       "    </tr>\n",
       "    <tr>\n",
       "      <th>March</th>\n",
       "      <td>97938</td>\n",
       "      <td>4030</td>\n",
       "    </tr>\n",
       "    <tr>\n",
       "      <th>May</th>\n",
       "      <td>86579</td>\n",
       "      <td>3094</td>\n",
       "    </tr>\n",
       "  </tbody>\n",
       "</table>\n",
       "</div>"
      ],
      "text/plain": [
       "isFraud                        0     1\n",
       "TransactionDT_Month Name              \n",
       "April                      80721  2850\n",
       "December                  130938  3401\n",
       "February                   82245  3480\n",
       "January                    88821  3689\n",
       "June                        2635   119\n",
       "March                      97938  4030\n",
       "May                        86579  3094"
      ]
     },
     "execution_count": 16,
     "metadata": {},
     "output_type": "execute_result"
    }
   ],
   "source": [
    "iee_data.groupby(['TransactionDT_Month Name', 'isFraud']).size().unstack()"
   ]
  },
  {
   "cell_type": "code",
   "execution_count": 17,
   "metadata": {},
   "outputs": [
    {
     "data": {
      "image/png": "[encoded data removed]",
      "text/plain": [
       "<Figure size 1440x360 with 2 Axes>"
      ]
     },
     "metadata": {
      "needs_background": "light"
     },
     "output_type": "display_data"
    }
   ],
   "source": [
    "fig, ax = plt.subplots(1, 2, figsize=(20,5))\n",
    "\n",
    "sns.countplot(x=\"TransactionDT_Day Name\", ax=ax[0], hue = 'isFraud', data=iee_data)\n",
    "ax[0].set_title('Count of Fraud by Day', fontsize=14)\n",
    "sns.countplot(x=\"TransactionDT_Month Name\", ax=ax[1], hue= 'isFraud', data=iee_data)\n",
    "ax[1].set_title('Count of Fraud by Month', fontsize=14)\n",
    "plt.show()"
   ]
  },
  {
   "cell_type": "code",
   "execution_count": 18,
   "metadata": {},
   "outputs": [],
   "source": [
    "iee_data['TransactionDT'] = iee_data['TransactionDT'].apply(pd.to_datetime)"
   ]
  },
  {
   "cell_type": "code",
   "execution_count": 19,
   "metadata": {},
   "outputs": [],
   "source": [
    "by_fraud = iee_data[iee_data['isFraud']==1]"
   ]
  },
  {
   "cell_type": "code",
   "execution_count": 20,
   "metadata": {
    "scrolled": true
   },
   "outputs": [
    {
     "data": {
      "text/plain": [
       "[<matplotlib.lines.Line2D at 0x13033b780>]"
      ]
     },
     "execution_count": 20,
     "metadata": {},
     "output_type": "execute_result"
    },
    {
     "data": {
      "image/png": "[encoded data removed]",
      "text/plain": [
       "<Figure size 432x288 with 1 Axes>"
      ]
     },
     "metadata": {
      "needs_background": "light"
     },
     "output_type": "display_data"
    }
   ],
   "source": [
    "plt.plot(by_fraud.groupby('TransactionDT_Day Name')['TransactionDT'].count())"
   ]
  },
  {
   "cell_type": "markdown",
   "metadata": {},
   "source": [
    "From the above table and graph, it can be noted that most fraud transactions were done in `March` and `Saturday` with 4030 and 3550 transactions respectively"
   ]
  },
  {
   "cell_type": "markdown",
   "metadata": {},
   "source": [
    "#### 3.3.5 Count of Fraud by Product<a id='3.3.5_Count_of_Fraud_by_Product'></a>"
   ]
  },
  {
   "cell_type": "code",
   "execution_count": 21,
   "metadata": {},
   "outputs": [
    {
     "data": {
      "text/html": [
       "<div>\n",
       "<style scoped>\n",
       "    .dataframe tbody tr th:only-of-type {\n",
       "        vertical-align: middle;\n",
       "    }\n",
       "\n",
       "    .dataframe tbody tr th {\n",
       "        vertical-align: top;\n",
       "    }\n",
       "\n",
       "    .dataframe thead th {\n",
       "        text-align: right;\n",
       "    }\n",
       "</style>\n",
       "<table border=\"1\" class=\"dataframe\">\n",
       "  <thead>\n",
       "    <tr style=\"text-align: right;\">\n",
       "      <th>isFraud</th>\n",
       "      <th>0</th>\n",
       "      <th>1</th>\n",
       "    </tr>\n",
       "    <tr>\n",
       "      <th>ProductCD</th>\n",
       "      <th></th>\n",
       "      <th></th>\n",
       "    </tr>\n",
       "  </thead>\n",
       "  <tbody>\n",
       "    <tr>\n",
       "      <th>C</th>\n",
       "      <td>60511</td>\n",
       "      <td>8008</td>\n",
       "    </tr>\n",
       "    <tr>\n",
       "      <th>H</th>\n",
       "      <td>31450</td>\n",
       "      <td>1574</td>\n",
       "    </tr>\n",
       "    <tr>\n",
       "      <th>R</th>\n",
       "      <td>36273</td>\n",
       "      <td>1426</td>\n",
       "    </tr>\n",
       "    <tr>\n",
       "      <th>S</th>\n",
       "      <td>10942</td>\n",
       "      <td>686</td>\n",
       "    </tr>\n",
       "    <tr>\n",
       "      <th>W</th>\n",
       "      <td>430701</td>\n",
       "      <td>8969</td>\n",
       "    </tr>\n",
       "  </tbody>\n",
       "</table>\n",
       "</div>"
      ],
      "text/plain": [
       "isFraud         0     1\n",
       "ProductCD              \n",
       "C           60511  8008\n",
       "H           31450  1574\n",
       "R           36273  1426\n",
       "S           10942   686\n",
       "W          430701  8969"
      ]
     },
     "execution_count": 21,
     "metadata": {},
     "output_type": "execute_result"
    }
   ],
   "source": [
    "iee_data.groupby(['ProductCD', 'isFraud']).size().unstack()"
   ]
  },
  {
   "cell_type": "code",
   "execution_count": 22,
   "metadata": {},
   "outputs": [
    {
     "data": {
      "text/plain": [
       "Text(0.5, 1.0, 'Count of Fraud by Product')"
      ]
     },
     "execution_count": 22,
     "metadata": {},
     "output_type": "execute_result"
    },
    {
     "data": {
      "image/png": "[encoded data removed]",
      "text/plain": [
       "<Figure size 720x360 with 1 Axes>"
      ]
     },
     "metadata": {
      "needs_background": "light"
     },
     "output_type": "display_data"
    }
   ],
   "source": [
    "plt.figure(figsize=(10,5))\n",
    "\n",
    "sns.countplot(x='ProductCD', hue = 'isFraud', data=iee_data)\n",
    "plt.title('Count of Fraud by Product', fontsize=14)"
   ]
  },
  {
   "cell_type": "markdown",
   "metadata": {},
   "source": [
    "Really don't know much about these product types `W` had the most related fraud cases accounting about 8969 of the total fraud transactions"
   ]
  },
  {
   "cell_type": "markdown",
   "metadata": {},
   "source": [
    "#### 3.3.6 Which day had the most average Fraud Transaction Amount?<a id='3.3.6_Which_day_had_the_most_average_Fraud_by_Transaction_Amount'></a>"
   ]
  },
  {
   "cell_type": "code",
   "execution_count": 23,
   "metadata": {},
   "outputs": [
    {
     "data": {
      "text/plain": [
       "isFraud\n",
       "0    134.511665\n",
       "1    149.244779\n",
       "Name: TransactionAmt, dtype: float64"
      ]
     },
     "execution_count": 23,
     "metadata": {},
     "output_type": "execute_result"
    }
   ],
   "source": [
    "iee_data.groupby('isFraud')['TransactionAmt'].mean()"
   ]
  },
  {
   "cell_type": "code",
   "execution_count": 24,
   "metadata": {},
   "outputs": [
    {
     "data": {
      "text/plain": [
       "TransactionDT_Day Name\n",
       "Friday       144.361011\n",
       "Monday       137.160273\n",
       "Saturday     147.873404\n",
       "Sunday       141.037349\n",
       "Thursday     165.779017\n",
       "Tuesday      156.807161\n",
       "Wednesday    151.416132\n",
       "Name: TransactionAmt, dtype: float64"
      ]
     },
     "execution_count": 24,
     "metadata": {},
     "output_type": "execute_result"
    }
   ],
   "source": [
    "iee_data[iee_data['isFraud']==1].groupby('TransactionDT_Day Name')['TransactionAmt'].mean()"
   ]
  },
  {
   "cell_type": "markdown",
   "metadata": {},
   "source": [
    "Transaction amount detected fraud was on `Thursday` with an average transaction amount of about $165.78"
   ]
  },
  {
   "cell_type": "markdown",
   "metadata": {},
   "source": [
    "#### 3.3.7 Fraud transactions by the hour<a id='3.3.7_Fraud_transactions_by_the_hour'></a>"
   ]
  },
  {
   "cell_type": "code",
   "execution_count": 25,
   "metadata": {
    "scrolled": true
   },
   "outputs": [
    {
     "data": {
      "text/plain": [
       "[<matplotlib.lines.Line2D at 0x12cd36e10>]"
      ]
     },
     "execution_count": 25,
     "metadata": {},
     "output_type": "execute_result"
    },
    {
     "data": {
      "image/png": "[encoded data removed]",
      "text/plain": [
       "<Figure size 432x288 with 1 Axes>"
      ]
     },
     "metadata": {
      "needs_background": "light"
     },
     "output_type": "display_data"
    }
   ],
   "source": [
    "plt.plot(by_fraud.groupby('TransactionDT_Hour')['TransactionDT'].count())"
   ]
  },
  {
   "cell_type": "markdown",
   "metadata": {},
   "source": [
    "Most fraud transactions occur within the hours of midday to midnight and drops in the mornings."
   ]
  },
  {
   "cell_type": "markdown",
   "metadata": {},
   "source": [
    "#### 3.3.8 Distribution of Transaction Amount<a id='3.3.8_Distribution_of_Transaction_Amount'></a>"
   ]
  },
  {
   "cell_type": "code",
   "execution_count": 26,
   "metadata": {},
   "outputs": [
    {
     "data": {
      "text/plain": [
       "<AxesSubplot:xlabel='TransactionAmt', ylabel='Count'>"
      ]
     },
     "execution_count": 26,
     "metadata": {},
     "output_type": "execute_result"
    },
    {
     "data": {
      "image/png": "[encoded data removed]",
      "text/plain": [
       "<Figure size 720x360 with 1 Axes>"
      ]
     },
     "metadata": {
      "needs_background": "light"
     },
     "output_type": "display_data"
    }
   ],
   "source": [
    "plt.figure(figsize=(10,5))\n",
    "sns.histplot(data=by_fraud, x='TransactionAmt', kde=True)"
   ]
  },
  {
   "cell_type": "markdown",
   "metadata": {},
   "source": [
    "#### 3.3.9 Distribution of target variable isFraud<a id='3.3.9_Distribution_of_target_variable_isFraud'></a>"
   ]
  },
  {
   "cell_type": "code",
   "execution_count": 27,
   "metadata": {},
   "outputs": [
    {
     "data": {
      "text/plain": [
       "<AxesSubplot:xlabel='isFraud', ylabel='count'>"
      ]
     },
     "execution_count": 27,
     "metadata": {},
     "output_type": "execute_result"
    },
    {
     "data": {
      "image/png": "[encoded data removed]",
      "text/plain": [
       "<Figure size 720x360 with 1 Axes>"
      ]
     },
     "metadata": {
      "needs_background": "light"
     },
     "output_type": "display_data"
    }
   ],
   "source": [
    "plt.figure(figsize=(10,5))\n",
    "sns.countplot(x='isFraud', data=iee_data)"
   ]
  },
  {
   "cell_type": "markdown",
   "metadata": {},
   "source": [
    "We see an imbalanced data in terms of the target variable. The negatives are more than the positives and this needs to be accounted for in the final analysis"
   ]
  },
  {
   "cell_type": "code",
   "execution_count": 60,
   "metadata": {},
   "outputs": [],
   "source": [
    "# distribution report for all features\n",
    "#report = iee_data.profile_report(sort='None', html={'style':{'full_width': True}}, progress_bar=False)\n",
    "#report"
   ]
  },
  {
   "cell_type": "markdown",
   "metadata": {},
   "source": [
    "## 3.4 Preprocessing and Training<a id='3.5_Preprocessing_and_Training'></a>"
   ]
  },
  {
   "cell_type": "code",
   "execution_count": 28,
   "metadata": {},
   "outputs": [],
   "source": [
    "# make a copy of the dataframe\n",
    "df = iee_data.copy()"
   ]
  },
  {
   "cell_type": "code",
   "execution_count": 29,
   "metadata": {},
   "outputs": [
    {
     "name": "stdout",
     "output_type": "stream",
     "text": [
      "<class 'pandas.core.frame.DataFrame'>\n",
      "RangeIndex: 590540 entries, 0 to 590539\n",
      "Data columns (total 434 columns):\n",
      " #    Column                     Non-Null Count   Dtype         \n",
      "---   ------                     --------------   -----         \n",
      " 0    TransactionID              590540 non-null  int32         \n",
      " 1    isFraud                    590540 non-null  int8          \n",
      " 2    TransactionDT              590540 non-null  datetime64[ns]\n",
      " 3    TransactionAmt             590540 non-null  float64       \n",
      " 4    ProductCD                  590540 non-null  object        \n",
      " 5    card1                      590540 non-null  int16         \n",
      " 6    card2                      581607 non-null  float64       \n",
      " 7    card3                      588975 non-null  float64       \n",
      " 8    card4                      588963 non-null  object        \n",
      " 9    card5                      586281 non-null  float64       \n",
      " 10   card6                      588969 non-null  object        \n",
      " 11   addr1                      524834 non-null  float64       \n",
      " 12   addr2                      524834 non-null  float64       \n",
      " 13   dist1                      238269 non-null  float64       \n",
      " 14   P_emaildomain              496084 non-null  object        \n",
      " 15   R_emaildomain              137291 non-null  object        \n",
      " 16   C1                         590540 non-null  float64       \n",
      " 17   C2                         590540 non-null  float64       \n",
      " 18   C3                         590540 non-null  float64       \n",
      " 19   C4                         590540 non-null  float64       \n",
      " 20   C5                         590540 non-null  float64       \n",
      " 21   C6                         590540 non-null  float64       \n",
      " 22   C7                         590540 non-null  float64       \n",
      " 23   C8                         590540 non-null  float64       \n",
      " 24   C9                         590540 non-null  float64       \n",
      " 25   C10                        590540 non-null  float64       \n",
      " 26   C11                        590540 non-null  float64       \n",
      " 27   C12                        590540 non-null  float64       \n",
      " 28   C13                        590540 non-null  float64       \n",
      " 29   C14                        590540 non-null  float64       \n",
      " 30   D1                         589271 non-null  float64       \n",
      " 31   D2                         309743 non-null  float64       \n",
      " 32   D3                         327662 non-null  float64       \n",
      " 33   D4                         421618 non-null  float64       \n",
      " 34   D5                         280699 non-null  float64       \n",
      " 35   D6                         73187 non-null   float64       \n",
      " 36   D8                         74926 non-null   float64       \n",
      " 37   D9                         74926 non-null   float64       \n",
      " 38   D10                        514518 non-null  float64       \n",
      " 39   D11                        311253 non-null  float64       \n",
      " 40   D12                        64717 non-null   float64       \n",
      " 41   D13                        61952 non-null   float64       \n",
      " 42   D14                        62187 non-null   float64       \n",
      " 43   D15                        501427 non-null  float64       \n",
      " 44   M1                         319440 non-null  object        \n",
      " 45   M2                         319440 non-null  object        \n",
      " 46   M3                         319440 non-null  object        \n",
      " 47   M4                         309096 non-null  object        \n",
      " 48   M5                         240058 non-null  object        \n",
      " 49   M6                         421180 non-null  object        \n",
      " 50   M7                         244275 non-null  object        \n",
      " 51   M8                         244288 non-null  object        \n",
      " 52   M9                         244288 non-null  object        \n",
      " 53   V1                         311253 non-null  float64       \n",
      " 54   V2                         311253 non-null  float64       \n",
      " 55   V3                         311253 non-null  float64       \n",
      " 56   V4                         311253 non-null  float64       \n",
      " 57   V5                         311253 non-null  float64       \n",
      " 58   V6                         311253 non-null  float64       \n",
      " 59   V7                         311253 non-null  float64       \n",
      " 60   V8                         311253 non-null  float64       \n",
      " 61   V9                         311253 non-null  float64       \n",
      " 62   V10                        311253 non-null  float64       \n",
      " 63   V11                        311253 non-null  float64       \n",
      " 64   V12                        514467 non-null  float64       \n",
      " 65   V13                        514467 non-null  float64       \n",
      " 66   V14                        514467 non-null  float64       \n",
      " 67   V15                        514467 non-null  float64       \n",
      " 68   V16                        514467 non-null  float64       \n",
      " 69   V17                        514467 non-null  float64       \n",
      " 70   V18                        514467 non-null  float64       \n",
      " 71   V19                        514467 non-null  float64       \n",
      " 72   V20                        514467 non-null  float64       \n",
      " 73   V21                        514467 non-null  float64       \n",
      " 74   V22                        514467 non-null  float64       \n",
      " 75   V23                        514467 non-null  float64       \n",
      " 76   V24                        514467 non-null  float64       \n",
      " 77   V25                        514467 non-null  float64       \n",
      " 78   V26                        514467 non-null  float64       \n",
      " 79   V27                        514467 non-null  float64       \n",
      " 80   V28                        514467 non-null  float64       \n",
      " 81   V29                        514467 non-null  float64       \n",
      " 82   V30                        514467 non-null  float64       \n",
      " 83   V31                        514467 non-null  float64       \n",
      " 84   V32                        514467 non-null  float64       \n",
      " 85   V33                        514467 non-null  float64       \n",
      " 86   V34                        514467 non-null  float64       \n",
      " 87   V35                        421571 non-null  float64       \n",
      " 88   V36                        421571 non-null  float64       \n",
      " 89   V37                        421571 non-null  float64       \n",
      " 90   V38                        421571 non-null  float64       \n",
      " 91   V39                        421571 non-null  float64       \n",
      " 92   V40                        421571 non-null  float64       \n",
      " 93   V41                        421571 non-null  float64       \n",
      " 94   V42                        421571 non-null  float64       \n",
      " 95   V43                        421571 non-null  float64       \n",
      " 96   V44                        421571 non-null  float64       \n",
      " 97   V45                        421571 non-null  float64       \n",
      " 98   V46                        421571 non-null  float64       \n",
      " 99   V47                        421571 non-null  float64       \n",
      " 100  V48                        421571 non-null  float64       \n",
      " 101  V49                        421571 non-null  float64       \n",
      " 102  V50                        421571 non-null  float64       \n",
      " 103  V51                        421571 non-null  float64       \n",
      " 104  V52                        421571 non-null  float64       \n",
      " 105  V53                        513444 non-null  float64       \n",
      " 106  V54                        513444 non-null  float64       \n",
      " 107  V55                        513444 non-null  float64       \n",
      " 108  V56                        513444 non-null  float64       \n",
      " 109  V57                        513444 non-null  float64       \n",
      " 110  V58                        513444 non-null  float64       \n",
      " 111  V59                        513444 non-null  float64       \n",
      " 112  V60                        513444 non-null  float64       \n",
      " 113  V61                        513444 non-null  float64       \n",
      " 114  V62                        513444 non-null  float64       \n",
      " 115  V63                        513444 non-null  float64       \n",
      " 116  V64                        513444 non-null  float64       \n",
      " 117  V65                        513444 non-null  float64       \n",
      " 118  V66                        513444 non-null  float64       \n",
      " 119  V67                        513444 non-null  float64       \n",
      " 120  V68                        513444 non-null  float64       \n",
      " 121  V69                        513444 non-null  float64       \n",
      " 122  V70                        513444 non-null  float64       \n",
      " 123  V71                        513444 non-null  float64       \n",
      " 124  V72                        513444 non-null  float64       \n",
      " 125  V73                        513444 non-null  float64       \n",
      " 126  V74                        513444 non-null  float64       \n",
      " 127  V75                        501376 non-null  float64       \n",
      " 128  V76                        501376 non-null  float64       \n",
      " 129  V77                        501376 non-null  float64       \n",
      " 130  V78                        501376 non-null  float64       \n",
      " 131  V79                        501376 non-null  float64       \n",
      " 132  V80                        501376 non-null  float64       \n",
      " 133  V81                        501376 non-null  float64       \n",
      " 134  V82                        501376 non-null  float64       \n",
      " 135  V83                        501376 non-null  float64       \n",
      " 136  V84                        501376 non-null  float64       \n",
      " 137  V85                        501376 non-null  float64       \n",
      " 138  V86                        501376 non-null  float64       \n",
      " 139  V87                        501376 non-null  float64       \n",
      " 140  V88                        501376 non-null  float64       \n",
      " 141  V89                        501376 non-null  float64       \n",
      " 142  V90                        501376 non-null  float64       \n",
      " 143  V91                        501376 non-null  float64       \n",
      " 144  V92                        501376 non-null  float64       \n",
      " 145  V93                        501376 non-null  float64       \n",
      " 146  V94                        501376 non-null  float64       \n",
      " 147  V95                        590226 non-null  float64       \n",
      " 148  V96                        590226 non-null  float64       \n",
      " 149  V97                        590226 non-null  float64       \n",
      " 150  V98                        590226 non-null  float64       \n",
      " 151  V99                        590226 non-null  float64       \n",
      " 152  V100                       590226 non-null  float64       \n",
      " 153  V101                       590226 non-null  float64       \n",
      " 154  V102                       590226 non-null  float64       \n",
      " 155  V103                       590226 non-null  float64       \n",
      " 156  V104                       590226 non-null  float64       \n",
      " 157  V105                       590226 non-null  float64       \n",
      " 158  V106                       590226 non-null  float64       \n",
      " 159  V107                       590226 non-null  float64       \n",
      " 160  V108                       590226 non-null  float64       \n",
      " 161  V109                       590226 non-null  float64       \n",
      " 162  V110                       590226 non-null  float64       \n",
      " 163  V111                       590226 non-null  float64       \n",
      " 164  V112                       590226 non-null  float64       \n",
      " 165  V113                       590226 non-null  float64       \n",
      " 166  V114                       590226 non-null  float64       \n",
      " 167  V115                       590226 non-null  float64       \n",
      " 168  V116                       590226 non-null  float64       \n",
      " 169  V117                       590226 non-null  float64       \n",
      " 170  V118                       590226 non-null  float64       \n",
      " 171  V119                       590226 non-null  float64       \n",
      " 172  V120                       590226 non-null  float64       \n",
      " 173  V121                       590226 non-null  float64       \n",
      " 174  V122                       590226 non-null  float64       \n",
      " 175  V123                       590226 non-null  float64       \n",
      " 176  V124                       590226 non-null  float64       \n",
      " 177  V125                       590226 non-null  float64       \n",
      " 178  V126                       590226 non-null  float64       \n",
      " 179  V127                       590226 non-null  float64       \n",
      " 180  V128                       590226 non-null  float64       \n",
      " 181  V129                       590226 non-null  float64       \n",
      " 182  V130                       590226 non-null  float64       \n",
      " 183  V131                       590226 non-null  float64       \n",
      " 184  V132                       590226 non-null  float64       \n",
      " 185  V133                       590226 non-null  float64       \n",
      " 186  V134                       590226 non-null  float64       \n",
      " 187  V135                       590226 non-null  float64       \n",
      " 188  V136                       590226 non-null  float64       \n",
      " 189  V137                       590226 non-null  float64       \n",
      " 190  V138                       81945 non-null   float64       \n",
      " 191  V139                       81945 non-null   float64       \n",
      " 192  V140                       81945 non-null   float64       \n",
      " 193  V141                       81945 non-null   float64       \n",
      " 194  V142                       81945 non-null   float64       \n",
      " 195  V143                       81951 non-null   float64       \n",
      " 196  V144                       81951 non-null   float64       \n",
      " 197  V145                       81951 non-null   float64       \n",
      " 198  V146                       81945 non-null   float64       \n",
      " 199  V147                       81945 non-null   float64       \n",
      " 200  V148                       81945 non-null   float64       \n",
      " 201  V149                       81945 non-null   float64       \n",
      " 202  V150                       81951 non-null   float64       \n",
      " 203  V151                       81951 non-null   float64       \n",
      " 204  V152                       81951 non-null   float64       \n",
      " 205  V153                       81945 non-null   float64       \n",
      " 206  V154                       81945 non-null   float64       \n",
      " 207  V155                       81945 non-null   float64       \n",
      " 208  V156                       81945 non-null   float64       \n",
      " 209  V157                       81945 non-null   float64       \n",
      " 210  V158                       81945 non-null   float64       \n",
      " 211  V159                       81951 non-null   float64       \n",
      " 212  V160                       81951 non-null   float64       \n",
      " 213  V161                       81945 non-null   float64       \n",
      " 214  V162                       81945 non-null   float64       \n",
      " 215  V163                       81945 non-null   float64       \n",
      " 216  V164                       81951 non-null   float64       \n",
      " 217  V165                       81951 non-null   float64       \n",
      " 218  V166                       81951 non-null   float64       \n",
      " 219  V167                       139631 non-null  float64       \n",
      " 220  V168                       139631 non-null  float64       \n",
      " 221  V169                       139819 non-null  float64       \n",
      " 222  V170                       139819 non-null  float64       \n",
      " 223  V171                       139819 non-null  float64       \n",
      " 224  V172                       139631 non-null  float64       \n",
      " 225  V173                       139631 non-null  float64       \n",
      " 226  V174                       139819 non-null  float64       \n",
      " 227  V175                       139819 non-null  float64       \n",
      " 228  V176                       139631 non-null  float64       \n",
      " 229  V177                       139631 non-null  float64       \n",
      " 230  V178                       139631 non-null  float64       \n",
      " 231  V179                       139631 non-null  float64       \n",
      " 232  V180                       139819 non-null  float64       \n",
      " 233  V181                       139631 non-null  float64       \n",
      " 234  V182                       139631 non-null  float64       \n",
      " 235  V183                       139631 non-null  float64       \n",
      " 236  V184                       139819 non-null  float64       \n",
      " 237  V185                       139819 non-null  float64       \n",
      " 238  V186                       139631 non-null  float64       \n",
      " 239  V187                       139631 non-null  float64       \n",
      " 240  V188                       139819 non-null  float64       \n",
      " 241  V189                       139819 non-null  float64       \n",
      " 242  V190                       139631 non-null  float64       \n",
      " 243  V191                       139631 non-null  float64       \n",
      " 244  V192                       139631 non-null  float64       \n",
      " 245  V193                       139631 non-null  float64       \n",
      " 246  V194                       139819 non-null  float64       \n",
      " 247  V195                       139819 non-null  float64       \n",
      " 248  V196                       139631 non-null  float64       \n",
      " 249  V197                       139819 non-null  float64       \n",
      " 250  V198                       139819 non-null  float64       \n",
      " 251  V199                       139631 non-null  float64       \n",
      " 252  V200                       139819 non-null  float64       \n",
      " 253  V201                       139819 non-null  float64       \n",
      " 254  V202                       139631 non-null  float64       \n",
      " 255  V203                       139631 non-null  float64       \n",
      " 256  V204                       139631 non-null  float64       \n",
      " 257  V205                       139631 non-null  float64       \n",
      " 258  V206                       139631 non-null  float64       \n",
      " 259  V207                       139631 non-null  float64       \n",
      " 260  V208                       139819 non-null  float64       \n",
      " 261  V209                       139819 non-null  float64       \n",
      " 262  V210                       139819 non-null  float64       \n",
      " 263  V211                       139631 non-null  float64       \n",
      " 264  V212                       139631 non-null  float64       \n",
      " 265  V213                       139631 non-null  float64       \n",
      " 266  V214                       139631 non-null  float64       \n",
      " 267  V215                       139631 non-null  float64       \n",
      " 268  V216                       139631 non-null  float64       \n",
      " 269  V217                       130430 non-null  float64       \n",
      " 270  V218                       130430 non-null  float64       \n",
      " 271  V219                       130430 non-null  float64       \n",
      " 272  V220                       141416 non-null  float64       \n",
      " 273  V221                       141416 non-null  float64       \n",
      " 274  V222                       141416 non-null  float64       \n",
      " 275  V223                       130430 non-null  float64       \n",
      " 276  V224                       130430 non-null  float64       \n",
      " 277  V225                       130430 non-null  float64       \n",
      " 278  V226                       130430 non-null  float64       \n",
      " 279  V227                       141416 non-null  float64       \n",
      " 280  V228                       130430 non-null  float64       \n",
      " 281  V229                       130430 non-null  float64       \n",
      " 282  V230                       130430 non-null  float64       \n",
      " 283  V231                       130430 non-null  float64       \n",
      " 284  V232                       130430 non-null  float64       \n",
      " 285  V233                       130430 non-null  float64       \n",
      " 286  V234                       141416 non-null  float64       \n",
      " 287  V235                       130430 non-null  float64       \n",
      " 288  V236                       130430 non-null  float64       \n",
      " 289  V237                       130430 non-null  float64       \n",
      " 290  V238                       141416 non-null  float64       \n",
      " 291  V239                       141416 non-null  float64       \n",
      " 292  V240                       130430 non-null  float64       \n",
      " 293  V241                       130430 non-null  float64       \n",
      " 294  V242                       130430 non-null  float64       \n",
      " 295  V243                       130430 non-null  float64       \n",
      " 296  V244                       130430 non-null  float64       \n",
      " 297  V245                       141416 non-null  float64       \n",
      " 298  V246                       130430 non-null  float64       \n",
      " 299  V247                       130430 non-null  float64       \n",
      " 300  V248                       130430 non-null  float64       \n",
      " 301  V249                       130430 non-null  float64       \n",
      " 302  V250                       141416 non-null  float64       \n",
      " 303  V251                       141416 non-null  float64       \n",
      " 304  V252                       130430 non-null  float64       \n",
      " 305  V253                       130430 non-null  float64       \n",
      " 306  V254                       130430 non-null  float64       \n",
      " 307  V255                       141416 non-null  float64       \n",
      " 308  V256                       141416 non-null  float64       \n",
      " 309  V257                       130430 non-null  float64       \n",
      " 310  V258                       130430 non-null  float64       \n",
      " 311  V259                       141416 non-null  float64       \n",
      " 312  V260                       130430 non-null  float64       \n",
      " 313  V261                       130430 non-null  float64       \n",
      " 314  V262                       130430 non-null  float64       \n",
      " 315  V263                       130430 non-null  float64       \n",
      " 316  V264                       130430 non-null  float64       \n",
      " 317  V265                       130430 non-null  float64       \n",
      " 318  V266                       130430 non-null  float64       \n",
      " 319  V267                       130430 non-null  float64       \n",
      " 320  V268                       130430 non-null  float64       \n",
      " 321  V269                       130430 non-null  float64       \n",
      " 322  V270                       141416 non-null  float64       \n",
      " 323  V271                       141416 non-null  float64       \n",
      " 324  V272                       141416 non-null  float64       \n",
      " 325  V273                       130430 non-null  float64       \n",
      " 326  V274                       130430 non-null  float64       \n",
      " 327  V275                       130430 non-null  float64       \n",
      " 328  V276                       130430 non-null  float64       \n",
      " 329  V277                       130430 non-null  float64       \n",
      " 330  V278                       130430 non-null  float64       \n",
      " 331  V279                       590528 non-null  float64       \n",
      " 332  V280                       590528 non-null  float64       \n",
      " 333  V281                       589271 non-null  float64       \n",
      " 334  V282                       589271 non-null  float64       \n",
      " 335  V283                       589271 non-null  float64       \n",
      " 336  V284                       590528 non-null  float64       \n",
      " 337  V285                       590528 non-null  float64       \n",
      " 338  V286                       590528 non-null  float64       \n",
      " 339  V287                       590528 non-null  float64       \n",
      " 340  V288                       589271 non-null  float64       \n",
      " 341  V289                       589271 non-null  float64       \n",
      " 342  V290                       590528 non-null  float64       \n",
      " 343  V291                       590528 non-null  float64       \n",
      " 344  V292                       590528 non-null  float64       \n",
      " 345  V293                       590528 non-null  float64       \n",
      " 346  V294                       590528 non-null  float64       \n",
      " 347  V295                       590528 non-null  float64       \n",
      " 348  V296                       589271 non-null  float64       \n",
      " 349  V297                       590528 non-null  float64       \n",
      " 350  V298                       590528 non-null  float64       \n",
      " 351  V299                       590528 non-null  float64       \n",
      " 352  V300                       589271 non-null  float64       \n",
      " 353  V301                       589271 non-null  float64       \n",
      " 354  V302                       590528 non-null  float64       \n",
      " 355  V303                       590528 non-null  float64       \n",
      " 356  V304                       590528 non-null  float64       \n",
      " 357  V305                       590528 non-null  float64       \n",
      " 358  V306                       590528 non-null  float64       \n",
      " 359  V307                       590528 non-null  float64       \n",
      " 360  V308                       590528 non-null  float64       \n",
      " 361  V309                       590528 non-null  float64       \n",
      " 362  V310                       590528 non-null  float64       \n",
      " 363  V311                       590528 non-null  float64       \n",
      " 364  V312                       590528 non-null  float64       \n",
      " 365  V313                       589271 non-null  float64       \n",
      " 366  V314                       589271 non-null  float64       \n",
      " 367  V315                       589271 non-null  float64       \n",
      " 368  V316                       590528 non-null  float64       \n",
      " 369  V317                       590528 non-null  float64       \n",
      " 370  V318                       590528 non-null  float64       \n",
      " 371  V319                       590528 non-null  float64       \n",
      " 372  V320                       590528 non-null  float64       \n",
      " 373  V321                       590528 non-null  float64       \n",
      " 374  V322                       82351 non-null   float64       \n",
      " 375  V323                       82351 non-null   float64       \n",
      " 376  V324                       82351 non-null   float64       \n",
      " 377  V325                       82351 non-null   float64       \n",
      " 378  V326                       82351 non-null   float64       \n",
      " 379  V327                       82351 non-null   float64       \n",
      " 380  V328                       82351 non-null   float64       \n",
      " 381  V329                       82351 non-null   float64       \n",
      " 382  V330                       82351 non-null   float64       \n",
      " 383  V331                       82351 non-null   float64       \n",
      " 384  V332                       82351 non-null   float64       \n",
      " 385  V333                       82351 non-null   float64       \n",
      " 386  V334                       82351 non-null   float64       \n",
      " 387  V335                       82351 non-null   float64       \n",
      " 388  V336                       82351 non-null   float64       \n",
      " 389  V337                       82351 non-null   float64       \n",
      " 390  V338                       82351 non-null   float64       \n",
      " 391  V339                       82351 non-null   float64       \n",
      " 392  id_01                      144233 non-null  float64       \n",
      " 393  id_02                      140872 non-null  float64       \n",
      " 394  id_03                      66324 non-null   float64       \n",
      " 395  id_04                      66324 non-null   float64       \n",
      " 396  id_05                      136865 non-null  float64       \n",
      " 397  id_06                      136865 non-null  float64       \n",
      " 398  id_09                      74926 non-null   float64       \n",
      " 399  id_10                      74926 non-null   float64       \n",
      " 400  id_11                      140978 non-null  float64       \n",
      " 401  id_12                      144233 non-null  object        \n",
      " 402  id_13                      127320 non-null  float64       \n",
      " 403  id_14                      80044 non-null   float64       \n",
      " 404  id_15                      140985 non-null  object        \n",
      " 405  id_16                      129340 non-null  object        \n",
      " 406  id_17                      139369 non-null  float64       \n",
      " 407  id_19                      139318 non-null  float64       \n",
      " 408  id_20                      139261 non-null  float64       \n",
      " 409  id_28                      140978 non-null  object        \n",
      " 410  id_29                      140978 non-null  object        \n",
      " 411  id_30                      77565 non-null   object        \n",
      " 412  id_31                      140282 non-null  object        \n",
      " 413  id_32                      77586 non-null   float64       \n",
      " 414  id_33                      73289 non-null   object        \n",
      " 415  id_34                      77805 non-null   object        \n",
      " 416  id_35                      140985 non-null  object        \n",
      " 417  id_36                      140985 non-null  object        \n",
      " 418  id_37                      140985 non-null  object        \n",
      " 419  id_38                      140985 non-null  object        \n",
      " 420  DeviceType                 140810 non-null  object        \n",
      " 421  DeviceInfo                 118666 non-null  object        \n",
      " 422  P_emaildomain_bin          496084 non-null  object        \n",
      " 423  R_emaildomain_bin          137291 non-null  object        \n",
      " 424  TransactionDT_Month        590540 non-null  int8          \n",
      " 425  TransactionDT_Day          590540 non-null  int8          \n",
      " 426  TransactionDT_Year         590540 non-null  int16         \n",
      " 427  TransactionDT_Week Number  590540 non-null  int8          \n",
      " 428  TransactionDT_Day Of Week  590540 non-null  int8          \n",
      " 429  TransactionDT_Day Name     590540 non-null  object        \n",
      " 430  TransactionDT_Month Name   590540 non-null  object        \n",
      " 431  TransactionDT_Hour         590540 non-null  int8          \n",
      " 432  TransactionDT_Minute       590540 non-null  int8          \n",
      " 433  TransactionDT_Second       590540 non-null  int8          \n",
      "dtypes: datetime64[ns](1), float64(389), int16(2), int32(1), int8(8), object(33)\n",
      "memory usage: 1.9+ GB\n"
     ]
    }
   ],
   "source": [
    "# inspect the data types of the features\n",
    "df.info(verbose=True, show_counts=True)"
   ]
  },
  {
   "cell_type": "code",
   "execution_count": 30,
   "metadata": {},
   "outputs": [],
   "source": [
    "# columns to drop\n",
    "cols = ['TransactionID', 'TransactionDT', 'P_emaildomain', 'R_emaildomain', 'R_emaildomain_bin', 'DeviceInfo', 'card6',\n",
    "           'id_33', 'id_34', 'id_31', 'id_30', 'TransactionDT_Month Name', 'TransactionDT_Day Name', 'TransactionDT_Year',\n",
    "               'TransactionDT_Day Of Week']\n",
    "df.drop(columns=cols, axis=1, inplace=True)"
   ]
  },
  {
   "cell_type": "code",
   "execution_count": 31,
   "metadata": {},
   "outputs": [],
   "source": [
    "# function to calculate missing values by columns\n",
    "def missing_values_pct(df):\n",
    "    pd.options.display.max_rows = 100 # number of rows to print since we have more columns\n",
    "    missing = pd.concat([df.isnull().sum(), 100 * df.isnull().mean()], axis=1)\n",
    "    missing.columns = ['count', '%']\n",
    "    sorted_ms = missing.sort_values(by='%', ascending=False).head(100)\n",
    "    return sorted_ms"
   ]
  },
  {
   "cell_type": "code",
   "execution_count": 32,
   "metadata": {},
   "outputs": [
    {
     "data": {
      "text/html": [
       "<div>\n",
       "<style scoped>\n",
       "    .dataframe tbody tr th:only-of-type {\n",
       "        vertical-align: middle;\n",
       "    }\n",
       "\n",
       "    .dataframe tbody tr th {\n",
       "        vertical-align: top;\n",
       "    }\n",
       "\n",
       "    .dataframe thead th {\n",
       "        text-align: right;\n",
       "    }\n",
       "</style>\n",
       "<table border=\"1\" class=\"dataframe\">\n",
       "  <thead>\n",
       "    <tr style=\"text-align: right;\">\n",
       "      <th></th>\n",
       "      <th>count</th>\n",
       "      <th>%</th>\n",
       "    </tr>\n",
       "  </thead>\n",
       "  <tbody>\n",
       "    <tr>\n",
       "      <th>D13</th>\n",
       "      <td>528588</td>\n",
       "      <td>89.509263</td>\n",
       "    </tr>\n",
       "    <tr>\n",
       "      <th>D14</th>\n",
       "      <td>528353</td>\n",
       "      <td>89.469469</td>\n",
       "    </tr>\n",
       "    <tr>\n",
       "      <th>D12</th>\n",
       "      <td>525823</td>\n",
       "      <td>89.041047</td>\n",
       "    </tr>\n",
       "    <tr>\n",
       "      <th>id_04</th>\n",
       "      <td>524216</td>\n",
       "      <td>88.768923</td>\n",
       "    </tr>\n",
       "    <tr>\n",
       "      <th>id_03</th>\n",
       "      <td>524216</td>\n",
       "      <td>88.768923</td>\n",
       "    </tr>\n",
       "    <tr>\n",
       "      <th>D6</th>\n",
       "      <td>517353</td>\n",
       "      <td>87.606767</td>\n",
       "    </tr>\n",
       "    <tr>\n",
       "      <th>D9</th>\n",
       "      <td>515614</td>\n",
       "      <td>87.312290</td>\n",
       "    </tr>\n",
       "    <tr>\n",
       "      <th>D8</th>\n",
       "      <td>515614</td>\n",
       "      <td>87.312290</td>\n",
       "    </tr>\n",
       "    <tr>\n",
       "      <th>id_09</th>\n",
       "      <td>515614</td>\n",
       "      <td>87.312290</td>\n",
       "    </tr>\n",
       "    <tr>\n",
       "      <th>id_10</th>\n",
       "      <td>515614</td>\n",
       "      <td>87.312290</td>\n",
       "    </tr>\n",
       "    <tr>\n",
       "      <th>id_32</th>\n",
       "      <td>512954</td>\n",
       "      <td>86.861855</td>\n",
       "    </tr>\n",
       "    <tr>\n",
       "      <th>id_14</th>\n",
       "      <td>510496</td>\n",
       "      <td>86.445626</td>\n",
       "    </tr>\n",
       "    <tr>\n",
       "      <th>V142</th>\n",
       "      <td>508595</td>\n",
       "      <td>86.123717</td>\n",
       "    </tr>\n",
       "    <tr>\n",
       "      <th>V138</th>\n",
       "      <td>508595</td>\n",
       "      <td>86.123717</td>\n",
       "    </tr>\n",
       "    <tr>\n",
       "      <th>V139</th>\n",
       "      <td>508595</td>\n",
       "      <td>86.123717</td>\n",
       "    </tr>\n",
       "    <tr>\n",
       "      <th>V140</th>\n",
       "      <td>508595</td>\n",
       "      <td>86.123717</td>\n",
       "    </tr>\n",
       "    <tr>\n",
       "      <th>V141</th>\n",
       "      <td>508595</td>\n",
       "      <td>86.123717</td>\n",
       "    </tr>\n",
       "    <tr>\n",
       "      <th>V162</th>\n",
       "      <td>508595</td>\n",
       "      <td>86.123717</td>\n",
       "    </tr>\n",
       "    <tr>\n",
       "      <th>V146</th>\n",
       "      <td>508595</td>\n",
       "      <td>86.123717</td>\n",
       "    </tr>\n",
       "    <tr>\n",
       "      <th>V147</th>\n",
       "      <td>508595</td>\n",
       "      <td>86.123717</td>\n",
       "    </tr>\n",
       "    <tr>\n",
       "      <th>V148</th>\n",
       "      <td>508595</td>\n",
       "      <td>86.123717</td>\n",
       "    </tr>\n",
       "    <tr>\n",
       "      <th>V154</th>\n",
       "      <td>508595</td>\n",
       "      <td>86.123717</td>\n",
       "    </tr>\n",
       "    <tr>\n",
       "      <th>V155</th>\n",
       "      <td>508595</td>\n",
       "      <td>86.123717</td>\n",
       "    </tr>\n",
       "    <tr>\n",
       "      <th>V156</th>\n",
       "      <td>508595</td>\n",
       "      <td>86.123717</td>\n",
       "    </tr>\n",
       "    <tr>\n",
       "      <th>V157</th>\n",
       "      <td>508595</td>\n",
       "      <td>86.123717</td>\n",
       "    </tr>\n",
       "    <tr>\n",
       "      <th>V158</th>\n",
       "      <td>508595</td>\n",
       "      <td>86.123717</td>\n",
       "    </tr>\n",
       "    <tr>\n",
       "      <th>V161</th>\n",
       "      <td>508595</td>\n",
       "      <td>86.123717</td>\n",
       "    </tr>\n",
       "    <tr>\n",
       "      <th>V163</th>\n",
       "      <td>508595</td>\n",
       "      <td>86.123717</td>\n",
       "    </tr>\n",
       "    <tr>\n",
       "      <th>V149</th>\n",
       "      <td>508595</td>\n",
       "      <td>86.123717</td>\n",
       "    </tr>\n",
       "    <tr>\n",
       "      <th>V153</th>\n",
       "      <td>508595</td>\n",
       "      <td>86.123717</td>\n",
       "    </tr>\n",
       "    <tr>\n",
       "      <th>V151</th>\n",
       "      <td>508589</td>\n",
       "      <td>86.122701</td>\n",
       "    </tr>\n",
       "    <tr>\n",
       "      <th>V145</th>\n",
       "      <td>508589</td>\n",
       "      <td>86.122701</td>\n",
       "    </tr>\n",
       "    <tr>\n",
       "      <th>V143</th>\n",
       "      <td>508589</td>\n",
       "      <td>86.122701</td>\n",
       "    </tr>\n",
       "    <tr>\n",
       "      <th>V166</th>\n",
       "      <td>508589</td>\n",
       "      <td>86.122701</td>\n",
       "    </tr>\n",
       "    <tr>\n",
       "      <th>V165</th>\n",
       "      <td>508589</td>\n",
       "      <td>86.122701</td>\n",
       "    </tr>\n",
       "    <tr>\n",
       "      <th>V144</th>\n",
       "      <td>508589</td>\n",
       "      <td>86.122701</td>\n",
       "    </tr>\n",
       "    <tr>\n",
       "      <th>V164</th>\n",
       "      <td>508589</td>\n",
       "      <td>86.122701</td>\n",
       "    </tr>\n",
       "    <tr>\n",
       "      <th>V150</th>\n",
       "      <td>508589</td>\n",
       "      <td>86.122701</td>\n",
       "    </tr>\n",
       "    <tr>\n",
       "      <th>V152</th>\n",
       "      <td>508589</td>\n",
       "      <td>86.122701</td>\n",
       "    </tr>\n",
       "    <tr>\n",
       "      <th>V159</th>\n",
       "      <td>508589</td>\n",
       "      <td>86.122701</td>\n",
       "    </tr>\n",
       "    <tr>\n",
       "      <th>V160</th>\n",
       "      <td>508589</td>\n",
       "      <td>86.122701</td>\n",
       "    </tr>\n",
       "    <tr>\n",
       "      <th>V324</th>\n",
       "      <td>508189</td>\n",
       "      <td>86.054967</td>\n",
       "    </tr>\n",
       "    <tr>\n",
       "      <th>V326</th>\n",
       "      <td>508189</td>\n",
       "      <td>86.054967</td>\n",
       "    </tr>\n",
       "    <tr>\n",
       "      <th>V325</th>\n",
       "      <td>508189</td>\n",
       "      <td>86.054967</td>\n",
       "    </tr>\n",
       "    <tr>\n",
       "      <th>V322</th>\n",
       "      <td>508189</td>\n",
       "      <td>86.054967</td>\n",
       "    </tr>\n",
       "    <tr>\n",
       "      <th>V323</th>\n",
       "      <td>508189</td>\n",
       "      <td>86.054967</td>\n",
       "    </tr>\n",
       "    <tr>\n",
       "      <th>V329</th>\n",
       "      <td>508189</td>\n",
       "      <td>86.054967</td>\n",
       "    </tr>\n",
       "    <tr>\n",
       "      <th>V328</th>\n",
       "      <td>508189</td>\n",
       "      <td>86.054967</td>\n",
       "    </tr>\n",
       "    <tr>\n",
       "      <th>V327</th>\n",
       "      <td>508189</td>\n",
       "      <td>86.054967</td>\n",
       "    </tr>\n",
       "    <tr>\n",
       "      <th>V330</th>\n",
       "      <td>508189</td>\n",
       "      <td>86.054967</td>\n",
       "    </tr>\n",
       "    <tr>\n",
       "      <th>V335</th>\n",
       "      <td>508189</td>\n",
       "      <td>86.054967</td>\n",
       "    </tr>\n",
       "    <tr>\n",
       "      <th>V339</th>\n",
       "      <td>508189</td>\n",
       "      <td>86.054967</td>\n",
       "    </tr>\n",
       "    <tr>\n",
       "      <th>V338</th>\n",
       "      <td>508189</td>\n",
       "      <td>86.054967</td>\n",
       "    </tr>\n",
       "    <tr>\n",
       "      <th>V336</th>\n",
       "      <td>508189</td>\n",
       "      <td>86.054967</td>\n",
       "    </tr>\n",
       "    <tr>\n",
       "      <th>V337</th>\n",
       "      <td>508189</td>\n",
       "      <td>86.054967</td>\n",
       "    </tr>\n",
       "    <tr>\n",
       "      <th>V334</th>\n",
       "      <td>508189</td>\n",
       "      <td>86.054967</td>\n",
       "    </tr>\n",
       "    <tr>\n",
       "      <th>V333</th>\n",
       "      <td>508189</td>\n",
       "      <td>86.054967</td>\n",
       "    </tr>\n",
       "    <tr>\n",
       "      <th>V332</th>\n",
       "      <td>508189</td>\n",
       "      <td>86.054967</td>\n",
       "    </tr>\n",
       "    <tr>\n",
       "      <th>V331</th>\n",
       "      <td>508189</td>\n",
       "      <td>86.054967</td>\n",
       "    </tr>\n",
       "    <tr>\n",
       "      <th>id_13</th>\n",
       "      <td>463220</td>\n",
       "      <td>78.440072</td>\n",
       "    </tr>\n",
       "    <tr>\n",
       "      <th>id_16</th>\n",
       "      <td>461200</td>\n",
       "      <td>78.098012</td>\n",
       "    </tr>\n",
       "    <tr>\n",
       "      <th>V241</th>\n",
       "      <td>460110</td>\n",
       "      <td>77.913435</td>\n",
       "    </tr>\n",
       "    <tr>\n",
       "      <th>V230</th>\n",
       "      <td>460110</td>\n",
       "      <td>77.913435</td>\n",
       "    </tr>\n",
       "    <tr>\n",
       "      <th>V240</th>\n",
       "      <td>460110</td>\n",
       "      <td>77.913435</td>\n",
       "    </tr>\n",
       "    <tr>\n",
       "      <th>V237</th>\n",
       "      <td>460110</td>\n",
       "      <td>77.913435</td>\n",
       "    </tr>\n",
       "    <tr>\n",
       "      <th>V236</th>\n",
       "      <td>460110</td>\n",
       "      <td>77.913435</td>\n",
       "    </tr>\n",
       "    <tr>\n",
       "      <th>V235</th>\n",
       "      <td>460110</td>\n",
       "      <td>77.913435</td>\n",
       "    </tr>\n",
       "    <tr>\n",
       "      <th>V233</th>\n",
       "      <td>460110</td>\n",
       "      <td>77.913435</td>\n",
       "    </tr>\n",
       "    <tr>\n",
       "      <th>V232</th>\n",
       "      <td>460110</td>\n",
       "      <td>77.913435</td>\n",
       "    </tr>\n",
       "    <tr>\n",
       "      <th>V231</th>\n",
       "      <td>460110</td>\n",
       "      <td>77.913435</td>\n",
       "    </tr>\n",
       "    <tr>\n",
       "      <th>V218</th>\n",
       "      <td>460110</td>\n",
       "      <td>77.913435</td>\n",
       "    </tr>\n",
       "    <tr>\n",
       "      <th>V229</th>\n",
       "      <td>460110</td>\n",
       "      <td>77.913435</td>\n",
       "    </tr>\n",
       "    <tr>\n",
       "      <th>V228</th>\n",
       "      <td>460110</td>\n",
       "      <td>77.913435</td>\n",
       "    </tr>\n",
       "    <tr>\n",
       "      <th>V226</th>\n",
       "      <td>460110</td>\n",
       "      <td>77.913435</td>\n",
       "    </tr>\n",
       "    <tr>\n",
       "      <th>V225</th>\n",
       "      <td>460110</td>\n",
       "      <td>77.913435</td>\n",
       "    </tr>\n",
       "    <tr>\n",
       "      <th>V224</th>\n",
       "      <td>460110</td>\n",
       "      <td>77.913435</td>\n",
       "    </tr>\n",
       "    <tr>\n",
       "      <th>V223</th>\n",
       "      <td>460110</td>\n",
       "      <td>77.913435</td>\n",
       "    </tr>\n",
       "    <tr>\n",
       "      <th>V219</th>\n",
       "      <td>460110</td>\n",
       "      <td>77.913435</td>\n",
       "    </tr>\n",
       "    <tr>\n",
       "      <th>V217</th>\n",
       "      <td>460110</td>\n",
       "      <td>77.913435</td>\n",
       "    </tr>\n",
       "    <tr>\n",
       "      <th>V243</th>\n",
       "      <td>460110</td>\n",
       "      <td>77.913435</td>\n",
       "    </tr>\n",
       "    <tr>\n",
       "      <th>V242</th>\n",
       "      <td>460110</td>\n",
       "      <td>77.913435</td>\n",
       "    </tr>\n",
       "    <tr>\n",
       "      <th>V248</th>\n",
       "      <td>460110</td>\n",
       "      <td>77.913435</td>\n",
       "    </tr>\n",
       "    <tr>\n",
       "      <th>V244</th>\n",
       "      <td>460110</td>\n",
       "      <td>77.913435</td>\n",
       "    </tr>\n",
       "    <tr>\n",
       "      <th>V264</th>\n",
       "      <td>460110</td>\n",
       "      <td>77.913435</td>\n",
       "    </tr>\n",
       "    <tr>\n",
       "      <th>V278</th>\n",
       "      <td>460110</td>\n",
       "      <td>77.913435</td>\n",
       "    </tr>\n",
       "    <tr>\n",
       "      <th>V277</th>\n",
       "      <td>460110</td>\n",
       "      <td>77.913435</td>\n",
       "    </tr>\n",
       "    <tr>\n",
       "      <th>V276</th>\n",
       "      <td>460110</td>\n",
       "      <td>77.913435</td>\n",
       "    </tr>\n",
       "    <tr>\n",
       "      <th>V275</th>\n",
       "      <td>460110</td>\n",
       "      <td>77.913435</td>\n",
       "    </tr>\n",
       "    <tr>\n",
       "      <th>V246</th>\n",
       "      <td>460110</td>\n",
       "      <td>77.913435</td>\n",
       "    </tr>\n",
       "    <tr>\n",
       "      <th>V273</th>\n",
       "      <td>460110</td>\n",
       "      <td>77.913435</td>\n",
       "    </tr>\n",
       "    <tr>\n",
       "      <th>V269</th>\n",
       "      <td>460110</td>\n",
       "      <td>77.913435</td>\n",
       "    </tr>\n",
       "    <tr>\n",
       "      <th>V268</th>\n",
       "      <td>460110</td>\n",
       "      <td>77.913435</td>\n",
       "    </tr>\n",
       "    <tr>\n",
       "      <th>V267</th>\n",
       "      <td>460110</td>\n",
       "      <td>77.913435</td>\n",
       "    </tr>\n",
       "    <tr>\n",
       "      <th>V266</th>\n",
       "      <td>460110</td>\n",
       "      <td>77.913435</td>\n",
       "    </tr>\n",
       "    <tr>\n",
       "      <th>V265</th>\n",
       "      <td>460110</td>\n",
       "      <td>77.913435</td>\n",
       "    </tr>\n",
       "    <tr>\n",
       "      <th>V274</th>\n",
       "      <td>460110</td>\n",
       "      <td>77.913435</td>\n",
       "    </tr>\n",
       "    <tr>\n",
       "      <th>V263</th>\n",
       "      <td>460110</td>\n",
       "      <td>77.913435</td>\n",
       "    </tr>\n",
       "    <tr>\n",
       "      <th>V247</th>\n",
       "      <td>460110</td>\n",
       "      <td>77.913435</td>\n",
       "    </tr>\n",
       "    <tr>\n",
       "      <th>V261</th>\n",
       "      <td>460110</td>\n",
       "      <td>77.913435</td>\n",
       "    </tr>\n",
       "    <tr>\n",
       "      <th>V260</th>\n",
       "      <td>460110</td>\n",
       "      <td>77.913435</td>\n",
       "    </tr>\n",
       "  </tbody>\n",
       "</table>\n",
       "</div>"
      ],
      "text/plain": [
       "        count          %\n",
       "D13    528588  89.509263\n",
       "D14    528353  89.469469\n",
       "D12    525823  89.041047\n",
       "id_04  524216  88.768923\n",
       "id_03  524216  88.768923\n",
       "D6     517353  87.606767\n",
       "D9     515614  87.312290\n",
       "D8     515614  87.312290\n",
       "id_09  515614  87.312290\n",
       "id_10  515614  87.312290\n",
       "id_32  512954  86.861855\n",
       "id_14  510496  86.445626\n",
       "V142   508595  86.123717\n",
       "V138   508595  86.123717\n",
       "V139   508595  86.123717\n",
       "V140   508595  86.123717\n",
       "V141   508595  86.123717\n",
       "V162   508595  86.123717\n",
       "V146   508595  86.123717\n",
       "V147   508595  86.123717\n",
       "V148   508595  86.123717\n",
       "V154   508595  86.123717\n",
       "V155   508595  86.123717\n",
       "V156   508595  86.123717\n",
       "V157   508595  86.123717\n",
       "V158   508595  86.123717\n",
       "V161   508595  86.123717\n",
       "V163   508595  86.123717\n",
       "V149   508595  86.123717\n",
       "V153   508595  86.123717\n",
       "V151   508589  86.122701\n",
       "V145   508589  86.122701\n",
       "V143   508589  86.122701\n",
       "V166   508589  86.122701\n",
       "V165   508589  86.122701\n",
       "V144   508589  86.122701\n",
       "V164   508589  86.122701\n",
       "V150   508589  86.122701\n",
       "V152   508589  86.122701\n",
       "V159   508589  86.122701\n",
       "V160   508589  86.122701\n",
       "V324   508189  86.054967\n",
       "V326   508189  86.054967\n",
       "V325   508189  86.054967\n",
       "V322   508189  86.054967\n",
       "V323   508189  86.054967\n",
       "V329   508189  86.054967\n",
       "V328   508189  86.054967\n",
       "V327   508189  86.054967\n",
       "V330   508189  86.054967\n",
       "V335   508189  86.054967\n",
       "V339   508189  86.054967\n",
       "V338   508189  86.054967\n",
       "V336   508189  86.054967\n",
       "V337   508189  86.054967\n",
       "V334   508189  86.054967\n",
       "V333   508189  86.054967\n",
       "V332   508189  86.054967\n",
       "V331   508189  86.054967\n",
       "id_13  463220  78.440072\n",
       "id_16  461200  78.098012\n",
       "V241   460110  77.913435\n",
       "V230   460110  77.913435\n",
       "V240   460110  77.913435\n",
       "V237   460110  77.913435\n",
       "V236   460110  77.913435\n",
       "V235   460110  77.913435\n",
       "V233   460110  77.913435\n",
       "V232   460110  77.913435\n",
       "V231   460110  77.913435\n",
       "V218   460110  77.913435\n",
       "V229   460110  77.913435\n",
       "V228   460110  77.913435\n",
       "V226   460110  77.913435\n",
       "V225   460110  77.913435\n",
       "V224   460110  77.913435\n",
       "V223   460110  77.913435\n",
       "V219   460110  77.913435\n",
       "V217   460110  77.913435\n",
       "V243   460110  77.913435\n",
       "V242   460110  77.913435\n",
       "V248   460110  77.913435\n",
       "V244   460110  77.913435\n",
       "V264   460110  77.913435\n",
       "V278   460110  77.913435\n",
       "V277   460110  77.913435\n",
       "V276   460110  77.913435\n",
       "V275   460110  77.913435\n",
       "V246   460110  77.913435\n",
       "V273   460110  77.913435\n",
       "V269   460110  77.913435\n",
       "V268   460110  77.913435\n",
       "V267   460110  77.913435\n",
       "V266   460110  77.913435\n",
       "V265   460110  77.913435\n",
       "V274   460110  77.913435\n",
       "V263   460110  77.913435\n",
       "V247   460110  77.913435\n",
       "V261   460110  77.913435\n",
       "V260   460110  77.913435"
      ]
     },
     "execution_count": 32,
     "metadata": {},
     "output_type": "execute_result"
    }
   ],
   "source": [
    "missing_values_pct(df)"
   ]
  },
  {
   "cell_type": "markdown",
   "metadata": {},
   "source": [
    "Some features has more than 80% missing values"
   ]
  },
  {
   "cell_type": "code",
   "execution_count": 38,
   "metadata": {},
   "outputs": [],
   "source": [
    "# Drop columns with missing values using a threshold\n",
    "# Drop any column with more than 70% missing values\n",
    "#threshold = len(df) * 0.30\n",
    "#df = df.dropna(thresh=threshold, axis=1)"
   ]
  },
  {
   "cell_type": "code",
   "execution_count": 39,
   "metadata": {},
   "outputs": [],
   "source": [
    "#missing_values_pct(df)"
   ]
  },
  {
   "cell_type": "code",
   "execution_count": 40,
   "metadata": {},
   "outputs": [],
   "source": [
    "#df.dtypes.to_dict()"
   ]
  },
  {
   "cell_type": "code",
   "execution_count": 33,
   "metadata": {},
   "outputs": [],
   "source": [
    "# fillna for numeric columns\n",
    "df.fillna(df.select_dtypes(include='number').median().iloc[0], inplace=True)\n",
    "\n",
    "# fillna for categorical columns\n",
    "df.fillna(df.select_dtypes(include='object').mode().iloc[0], inplace=True)"
   ]
  },
  {
   "cell_type": "code",
   "execution_count": 34,
   "metadata": {},
   "outputs": [
    {
     "data": {
      "text/html": [
       "<div>\n",
       "<style scoped>\n",
       "    .dataframe tbody tr th:only-of-type {\n",
       "        vertical-align: middle;\n",
       "    }\n",
       "\n",
       "    .dataframe tbody tr th {\n",
       "        vertical-align: top;\n",
       "    }\n",
       "\n",
       "    .dataframe thead th {\n",
       "        text-align: right;\n",
       "    }\n",
       "</style>\n",
       "<table border=\"1\" class=\"dataframe\">\n",
       "  <thead>\n",
       "    <tr style=\"text-align: right;\">\n",
       "      <th></th>\n",
       "      <th>count</th>\n",
       "      <th>%</th>\n",
       "    </tr>\n",
       "  </thead>\n",
       "  <tbody>\n",
       "    <tr>\n",
       "      <th>isFraud</th>\n",
       "      <td>0</td>\n",
       "      <td>0.0</td>\n",
       "    </tr>\n",
       "    <tr>\n",
       "      <th>V267</th>\n",
       "      <td>0</td>\n",
       "      <td>0.0</td>\n",
       "    </tr>\n",
       "    <tr>\n",
       "      <th>V239</th>\n",
       "      <td>0</td>\n",
       "      <td>0.0</td>\n",
       "    </tr>\n",
       "    <tr>\n",
       "      <th>V238</th>\n",
       "      <td>0</td>\n",
       "      <td>0.0</td>\n",
       "    </tr>\n",
       "    <tr>\n",
       "      <th>V237</th>\n",
       "      <td>0</td>\n",
       "      <td>0.0</td>\n",
       "    </tr>\n",
       "    <tr>\n",
       "      <th>V236</th>\n",
       "      <td>0</td>\n",
       "      <td>0.0</td>\n",
       "    </tr>\n",
       "    <tr>\n",
       "      <th>V235</th>\n",
       "      <td>0</td>\n",
       "      <td>0.0</td>\n",
       "    </tr>\n",
       "    <tr>\n",
       "      <th>V234</th>\n",
       "      <td>0</td>\n",
       "      <td>0.0</td>\n",
       "    </tr>\n",
       "    <tr>\n",
       "      <th>V233</th>\n",
       "      <td>0</td>\n",
       "      <td>0.0</td>\n",
       "    </tr>\n",
       "    <tr>\n",
       "      <th>V232</th>\n",
       "      <td>0</td>\n",
       "      <td>0.0</td>\n",
       "    </tr>\n",
       "    <tr>\n",
       "      <th>V231</th>\n",
       "      <td>0</td>\n",
       "      <td>0.0</td>\n",
       "    </tr>\n",
       "    <tr>\n",
       "      <th>V230</th>\n",
       "      <td>0</td>\n",
       "      <td>0.0</td>\n",
       "    </tr>\n",
       "    <tr>\n",
       "      <th>V229</th>\n",
       "      <td>0</td>\n",
       "      <td>0.0</td>\n",
       "    </tr>\n",
       "    <tr>\n",
       "      <th>V228</th>\n",
       "      <td>0</td>\n",
       "      <td>0.0</td>\n",
       "    </tr>\n",
       "    <tr>\n",
       "      <th>V227</th>\n",
       "      <td>0</td>\n",
       "      <td>0.0</td>\n",
       "    </tr>\n",
       "    <tr>\n",
       "      <th>V226</th>\n",
       "      <td>0</td>\n",
       "      <td>0.0</td>\n",
       "    </tr>\n",
       "    <tr>\n",
       "      <th>V225</th>\n",
       "      <td>0</td>\n",
       "      <td>0.0</td>\n",
       "    </tr>\n",
       "    <tr>\n",
       "      <th>V224</th>\n",
       "      <td>0</td>\n",
       "      <td>0.0</td>\n",
       "    </tr>\n",
       "    <tr>\n",
       "      <th>V223</th>\n",
       "      <td>0</td>\n",
       "      <td>0.0</td>\n",
       "    </tr>\n",
       "    <tr>\n",
       "      <th>V222</th>\n",
       "      <td>0</td>\n",
       "      <td>0.0</td>\n",
       "    </tr>\n",
       "    <tr>\n",
       "      <th>V221</th>\n",
       "      <td>0</td>\n",
       "      <td>0.0</td>\n",
       "    </tr>\n",
       "    <tr>\n",
       "      <th>V220</th>\n",
       "      <td>0</td>\n",
       "      <td>0.0</td>\n",
       "    </tr>\n",
       "    <tr>\n",
       "      <th>V219</th>\n",
       "      <td>0</td>\n",
       "      <td>0.0</td>\n",
       "    </tr>\n",
       "    <tr>\n",
       "      <th>V218</th>\n",
       "      <td>0</td>\n",
       "      <td>0.0</td>\n",
       "    </tr>\n",
       "    <tr>\n",
       "      <th>V217</th>\n",
       "      <td>0</td>\n",
       "      <td>0.0</td>\n",
       "    </tr>\n",
       "    <tr>\n",
       "      <th>V240</th>\n",
       "      <td>0</td>\n",
       "      <td>0.0</td>\n",
       "    </tr>\n",
       "    <tr>\n",
       "      <th>V241</th>\n",
       "      <td>0</td>\n",
       "      <td>0.0</td>\n",
       "    </tr>\n",
       "    <tr>\n",
       "      <th>V242</th>\n",
       "      <td>0</td>\n",
       "      <td>0.0</td>\n",
       "    </tr>\n",
       "    <tr>\n",
       "      <th>V255</th>\n",
       "      <td>0</td>\n",
       "      <td>0.0</td>\n",
       "    </tr>\n",
       "    <tr>\n",
       "      <th>V265</th>\n",
       "      <td>0</td>\n",
       "      <td>0.0</td>\n",
       "    </tr>\n",
       "    <tr>\n",
       "      <th>V264</th>\n",
       "      <td>0</td>\n",
       "      <td>0.0</td>\n",
       "    </tr>\n",
       "    <tr>\n",
       "      <th>V263</th>\n",
       "      <td>0</td>\n",
       "      <td>0.0</td>\n",
       "    </tr>\n",
       "    <tr>\n",
       "      <th>V262</th>\n",
       "      <td>0</td>\n",
       "      <td>0.0</td>\n",
       "    </tr>\n",
       "    <tr>\n",
       "      <th>V261</th>\n",
       "      <td>0</td>\n",
       "      <td>0.0</td>\n",
       "    </tr>\n",
       "    <tr>\n",
       "      <th>V260</th>\n",
       "      <td>0</td>\n",
       "      <td>0.0</td>\n",
       "    </tr>\n",
       "    <tr>\n",
       "      <th>V259</th>\n",
       "      <td>0</td>\n",
       "      <td>0.0</td>\n",
       "    </tr>\n",
       "    <tr>\n",
       "      <th>V258</th>\n",
       "      <td>0</td>\n",
       "      <td>0.0</td>\n",
       "    </tr>\n",
       "    <tr>\n",
       "      <th>V257</th>\n",
       "      <td>0</td>\n",
       "      <td>0.0</td>\n",
       "    </tr>\n",
       "    <tr>\n",
       "      <th>V256</th>\n",
       "      <td>0</td>\n",
       "      <td>0.0</td>\n",
       "    </tr>\n",
       "    <tr>\n",
       "      <th>V254</th>\n",
       "      <td>0</td>\n",
       "      <td>0.0</td>\n",
       "    </tr>\n",
       "    <tr>\n",
       "      <th>V243</th>\n",
       "      <td>0</td>\n",
       "      <td>0.0</td>\n",
       "    </tr>\n",
       "    <tr>\n",
       "      <th>V253</th>\n",
       "      <td>0</td>\n",
       "      <td>0.0</td>\n",
       "    </tr>\n",
       "    <tr>\n",
       "      <th>V252</th>\n",
       "      <td>0</td>\n",
       "      <td>0.0</td>\n",
       "    </tr>\n",
       "    <tr>\n",
       "      <th>V251</th>\n",
       "      <td>0</td>\n",
       "      <td>0.0</td>\n",
       "    </tr>\n",
       "    <tr>\n",
       "      <th>V250</th>\n",
       "      <td>0</td>\n",
       "      <td>0.0</td>\n",
       "    </tr>\n",
       "    <tr>\n",
       "      <th>V249</th>\n",
       "      <td>0</td>\n",
       "      <td>0.0</td>\n",
       "    </tr>\n",
       "    <tr>\n",
       "      <th>V248</th>\n",
       "      <td>0</td>\n",
       "      <td>0.0</td>\n",
       "    </tr>\n",
       "    <tr>\n",
       "      <th>V247</th>\n",
       "      <td>0</td>\n",
       "      <td>0.0</td>\n",
       "    </tr>\n",
       "    <tr>\n",
       "      <th>V246</th>\n",
       "      <td>0</td>\n",
       "      <td>0.0</td>\n",
       "    </tr>\n",
       "    <tr>\n",
       "      <th>V245</th>\n",
       "      <td>0</td>\n",
       "      <td>0.0</td>\n",
       "    </tr>\n",
       "    <tr>\n",
       "      <th>V244</th>\n",
       "      <td>0</td>\n",
       "      <td>0.0</td>\n",
       "    </tr>\n",
       "    <tr>\n",
       "      <th>V216</th>\n",
       "      <td>0</td>\n",
       "      <td>0.0</td>\n",
       "    </tr>\n",
       "    <tr>\n",
       "      <th>V215</th>\n",
       "      <td>0</td>\n",
       "      <td>0.0</td>\n",
       "    </tr>\n",
       "    <tr>\n",
       "      <th>V214</th>\n",
       "      <td>0</td>\n",
       "      <td>0.0</td>\n",
       "    </tr>\n",
       "    <tr>\n",
       "      <th>V176</th>\n",
       "      <td>0</td>\n",
       "      <td>0.0</td>\n",
       "    </tr>\n",
       "    <tr>\n",
       "      <th>V186</th>\n",
       "      <td>0</td>\n",
       "      <td>0.0</td>\n",
       "    </tr>\n",
       "    <tr>\n",
       "      <th>V185</th>\n",
       "      <td>0</td>\n",
       "      <td>0.0</td>\n",
       "    </tr>\n",
       "    <tr>\n",
       "      <th>V184</th>\n",
       "      <td>0</td>\n",
       "      <td>0.0</td>\n",
       "    </tr>\n",
       "    <tr>\n",
       "      <th>V183</th>\n",
       "      <td>0</td>\n",
       "      <td>0.0</td>\n",
       "    </tr>\n",
       "    <tr>\n",
       "      <th>V182</th>\n",
       "      <td>0</td>\n",
       "      <td>0.0</td>\n",
       "    </tr>\n",
       "    <tr>\n",
       "      <th>V181</th>\n",
       "      <td>0</td>\n",
       "      <td>0.0</td>\n",
       "    </tr>\n",
       "    <tr>\n",
       "      <th>V180</th>\n",
       "      <td>0</td>\n",
       "      <td>0.0</td>\n",
       "    </tr>\n",
       "    <tr>\n",
       "      <th>V179</th>\n",
       "      <td>0</td>\n",
       "      <td>0.0</td>\n",
       "    </tr>\n",
       "    <tr>\n",
       "      <th>V178</th>\n",
       "      <td>0</td>\n",
       "      <td>0.0</td>\n",
       "    </tr>\n",
       "    <tr>\n",
       "      <th>V177</th>\n",
       "      <td>0</td>\n",
       "      <td>0.0</td>\n",
       "    </tr>\n",
       "    <tr>\n",
       "      <th>V175</th>\n",
       "      <td>0</td>\n",
       "      <td>0.0</td>\n",
       "    </tr>\n",
       "    <tr>\n",
       "      <th>V188</th>\n",
       "      <td>0</td>\n",
       "      <td>0.0</td>\n",
       "    </tr>\n",
       "    <tr>\n",
       "      <th>V174</th>\n",
       "      <td>0</td>\n",
       "      <td>0.0</td>\n",
       "    </tr>\n",
       "    <tr>\n",
       "      <th>V173</th>\n",
       "      <td>0</td>\n",
       "      <td>0.0</td>\n",
       "    </tr>\n",
       "    <tr>\n",
       "      <th>V172</th>\n",
       "      <td>0</td>\n",
       "      <td>0.0</td>\n",
       "    </tr>\n",
       "    <tr>\n",
       "      <th>V171</th>\n",
       "      <td>0</td>\n",
       "      <td>0.0</td>\n",
       "    </tr>\n",
       "    <tr>\n",
       "      <th>V170</th>\n",
       "      <td>0</td>\n",
       "      <td>0.0</td>\n",
       "    </tr>\n",
       "    <tr>\n",
       "      <th>V169</th>\n",
       "      <td>0</td>\n",
       "      <td>0.0</td>\n",
       "    </tr>\n",
       "    <tr>\n",
       "      <th>V168</th>\n",
       "      <td>0</td>\n",
       "      <td>0.0</td>\n",
       "    </tr>\n",
       "    <tr>\n",
       "      <th>V167</th>\n",
       "      <td>0</td>\n",
       "      <td>0.0</td>\n",
       "    </tr>\n",
       "    <tr>\n",
       "      <th>V166</th>\n",
       "      <td>0</td>\n",
       "      <td>0.0</td>\n",
       "    </tr>\n",
       "    <tr>\n",
       "      <th>V165</th>\n",
       "      <td>0</td>\n",
       "      <td>0.0</td>\n",
       "    </tr>\n",
       "    <tr>\n",
       "      <th>V187</th>\n",
       "      <td>0</td>\n",
       "      <td>0.0</td>\n",
       "    </tr>\n",
       "    <tr>\n",
       "      <th>V189</th>\n",
       "      <td>0</td>\n",
       "      <td>0.0</td>\n",
       "    </tr>\n",
       "    <tr>\n",
       "      <th>V213</th>\n",
       "      <td>0</td>\n",
       "      <td>0.0</td>\n",
       "    </tr>\n",
       "    <tr>\n",
       "      <th>V202</th>\n",
       "      <td>0</td>\n",
       "      <td>0.0</td>\n",
       "    </tr>\n",
       "    <tr>\n",
       "      <th>V212</th>\n",
       "      <td>0</td>\n",
       "      <td>0.0</td>\n",
       "    </tr>\n",
       "    <tr>\n",
       "      <th>V211</th>\n",
       "      <td>0</td>\n",
       "      <td>0.0</td>\n",
       "    </tr>\n",
       "    <tr>\n",
       "      <th>V210</th>\n",
       "      <td>0</td>\n",
       "      <td>0.0</td>\n",
       "    </tr>\n",
       "    <tr>\n",
       "      <th>V209</th>\n",
       "      <td>0</td>\n",
       "      <td>0.0</td>\n",
       "    </tr>\n",
       "    <tr>\n",
       "      <th>V208</th>\n",
       "      <td>0</td>\n",
       "      <td>0.0</td>\n",
       "    </tr>\n",
       "    <tr>\n",
       "      <th>V207</th>\n",
       "      <td>0</td>\n",
       "      <td>0.0</td>\n",
       "    </tr>\n",
       "    <tr>\n",
       "      <th>V206</th>\n",
       "      <td>0</td>\n",
       "      <td>0.0</td>\n",
       "    </tr>\n",
       "    <tr>\n",
       "      <th>V205</th>\n",
       "      <td>0</td>\n",
       "      <td>0.0</td>\n",
       "    </tr>\n",
       "    <tr>\n",
       "      <th>V204</th>\n",
       "      <td>0</td>\n",
       "      <td>0.0</td>\n",
       "    </tr>\n",
       "    <tr>\n",
       "      <th>V203</th>\n",
       "      <td>0</td>\n",
       "      <td>0.0</td>\n",
       "    </tr>\n",
       "    <tr>\n",
       "      <th>V201</th>\n",
       "      <td>0</td>\n",
       "      <td>0.0</td>\n",
       "    </tr>\n",
       "    <tr>\n",
       "      <th>V190</th>\n",
       "      <td>0</td>\n",
       "      <td>0.0</td>\n",
       "    </tr>\n",
       "    <tr>\n",
       "      <th>V200</th>\n",
       "      <td>0</td>\n",
       "      <td>0.0</td>\n",
       "    </tr>\n",
       "    <tr>\n",
       "      <th>V199</th>\n",
       "      <td>0</td>\n",
       "      <td>0.0</td>\n",
       "    </tr>\n",
       "    <tr>\n",
       "      <th>V198</th>\n",
       "      <td>0</td>\n",
       "      <td>0.0</td>\n",
       "    </tr>\n",
       "    <tr>\n",
       "      <th>V197</th>\n",
       "      <td>0</td>\n",
       "      <td>0.0</td>\n",
       "    </tr>\n",
       "    <tr>\n",
       "      <th>V196</th>\n",
       "      <td>0</td>\n",
       "      <td>0.0</td>\n",
       "    </tr>\n",
       "    <tr>\n",
       "      <th>V195</th>\n",
       "      <td>0</td>\n",
       "      <td>0.0</td>\n",
       "    </tr>\n",
       "    <tr>\n",
       "      <th>V194</th>\n",
       "      <td>0</td>\n",
       "      <td>0.0</td>\n",
       "    </tr>\n",
       "  </tbody>\n",
       "</table>\n",
       "</div>"
      ],
      "text/plain": [
       "         count    %\n",
       "isFraud      0  0.0\n",
       "V267         0  0.0\n",
       "V239         0  0.0\n",
       "V238         0  0.0\n",
       "V237         0  0.0\n",
       "V236         0  0.0\n",
       "V235         0  0.0\n",
       "V234         0  0.0\n",
       "V233         0  0.0\n",
       "V232         0  0.0\n",
       "V231         0  0.0\n",
       "V230         0  0.0\n",
       "V229         0  0.0\n",
       "V228         0  0.0\n",
       "V227         0  0.0\n",
       "V226         0  0.0\n",
       "V225         0  0.0\n",
       "V224         0  0.0\n",
       "V223         0  0.0\n",
       "V222         0  0.0\n",
       "V221         0  0.0\n",
       "V220         0  0.0\n",
       "V219         0  0.0\n",
       "V218         0  0.0\n",
       "V217         0  0.0\n",
       "V240         0  0.0\n",
       "V241         0  0.0\n",
       "V242         0  0.0\n",
       "V255         0  0.0\n",
       "V265         0  0.0\n",
       "V264         0  0.0\n",
       "V263         0  0.0\n",
       "V262         0  0.0\n",
       "V261         0  0.0\n",
       "V260         0  0.0\n",
       "V259         0  0.0\n",
       "V258         0  0.0\n",
       "V257         0  0.0\n",
       "V256         0  0.0\n",
       "V254         0  0.0\n",
       "V243         0  0.0\n",
       "V253         0  0.0\n",
       "V252         0  0.0\n",
       "V251         0  0.0\n",
       "V250         0  0.0\n",
       "V249         0  0.0\n",
       "V248         0  0.0\n",
       "V247         0  0.0\n",
       "V246         0  0.0\n",
       "V245         0  0.0\n",
       "V244         0  0.0\n",
       "V216         0  0.0\n",
       "V215         0  0.0\n",
       "V214         0  0.0\n",
       "V176         0  0.0\n",
       "V186         0  0.0\n",
       "V185         0  0.0\n",
       "V184         0  0.0\n",
       "V183         0  0.0\n",
       "V182         0  0.0\n",
       "V181         0  0.0\n",
       "V180         0  0.0\n",
       "V179         0  0.0\n",
       "V178         0  0.0\n",
       "V177         0  0.0\n",
       "V175         0  0.0\n",
       "V188         0  0.0\n",
       "V174         0  0.0\n",
       "V173         0  0.0\n",
       "V172         0  0.0\n",
       "V171         0  0.0\n",
       "V170         0  0.0\n",
       "V169         0  0.0\n",
       "V168         0  0.0\n",
       "V167         0  0.0\n",
       "V166         0  0.0\n",
       "V165         0  0.0\n",
       "V187         0  0.0\n",
       "V189         0  0.0\n",
       "V213         0  0.0\n",
       "V202         0  0.0\n",
       "V212         0  0.0\n",
       "V211         0  0.0\n",
       "V210         0  0.0\n",
       "V209         0  0.0\n",
       "V208         0  0.0\n",
       "V207         0  0.0\n",
       "V206         0  0.0\n",
       "V205         0  0.0\n",
       "V204         0  0.0\n",
       "V203         0  0.0\n",
       "V201         0  0.0\n",
       "V190         0  0.0\n",
       "V200         0  0.0\n",
       "V199         0  0.0\n",
       "V198         0  0.0\n",
       "V197         0  0.0\n",
       "V196         0  0.0\n",
       "V195         0  0.0\n",
       "V194         0  0.0"
      ]
     },
     "execution_count": 34,
     "metadata": {},
     "output_type": "execute_result"
    }
   ],
   "source": [
    "# check for missing values in each column\n",
    "missing_values_pct(df)"
   ]
  },
  {
   "cell_type": "markdown",
   "metadata": {},
   "source": [
    "### 3.4.1 Train/Test Split<a id='3.4.1_Train/Test_Split'></a>"
   ]
  },
  {
   "cell_type": "code",
   "execution_count": 35,
   "metadata": {},
   "outputs": [],
   "source": [
    "# target and features\n",
    "X = df.drop(columns=['isFraud'], axis=1)\n",
    "y = df['isFraud']\n",
    "\n",
    "# create dummy features for X\n",
    "X = pd.get_dummies(X, drop_first=True)"
   ]
  },
  {
   "cell_type": "code",
   "execution_count": 36,
   "metadata": {},
   "outputs": [],
   "source": [
    "# split to train and test set\n",
    "X_train, X_test, y_train, y_test = train_test_split(X, y, test_size=0.25, random_state=42)"
   ]
  },
  {
   "cell_type": "code",
   "execution_count": 37,
   "metadata": {},
   "outputs": [],
   "source": [
    "# split the train set further to train and validation sets\n",
    "x_train, x_val, y_train, y_val = train_test_split(X_train, y_train, test_size=0.25, random_state=42)"
   ]
  },
  {
   "cell_type": "code",
   "execution_count": 38,
   "metadata": {},
   "outputs": [
    {
     "name": "stdout",
     "output_type": "stream",
     "text": [
      "Shape of x_train: (332178, 453)\n",
      "Shape of X_test: (147635, 453)\n",
      "Shape of x_val: (110727, 453)\n",
      "Shape of y_train: (332178,)\n",
      "Shape of y_test: (147635,)\n",
      "Shape of y_val: (110727,)\n"
     ]
    }
   ],
   "source": [
    "# check the shape of each new dataset created\n",
    "print(\"Shape of x_train:\",x_train.shape)\n",
    "print(\"Shape of X_test:\",X_test.shape)\n",
    "print(\"Shape of x_val:\",x_val.shape)\n",
    "print(\"Shape of y_train:\",y_train.shape)\n",
    "print(\"Shape of y_test:\",y_test.shape)\n",
    "print(\"Shape of y_val:\",y_val.shape)"
   ]
  },
  {
   "cell_type": "markdown",
   "metadata": {},
   "source": [
    "### 3.5 ML Models<a id='3.5_ML_Models'></a>"
   ]
  },
  {
   "cell_type": "markdown",
   "metadata": {},
   "source": [
    "#### 3.5.1 RandomForest Classifier<a id='3.5.1_RandomForest_Classifier'></a>"
   ]
  },
  {
   "cell_type": "code",
   "execution_count": 39,
   "metadata": {},
   "outputs": [
    {
     "name": "stdout",
     "output_type": "stream",
     "text": [
      "0.971659836759576\n"
     ]
    }
   ],
   "source": [
    "# instantiate RandomForestClassifier\n",
    "rf_clf = RandomForestClassifier(n_estimators=500, max_depth=8, min_samples_split=2, random_state=42)\n",
    "\n",
    "# fit to the training set\n",
    "rf_clf.fit(x_train, y_train)\n",
    "\n",
    "# predict on the test set\n",
    "y_pred_rf = rf_clf.predict(X_test)\n",
    "\n",
    "# check accuracy score\n",
    "print(accuracy_score(y_pred_rf, y_test))"
   ]
  },
  {
   "cell_type": "code",
   "execution_count": 44,
   "metadata": {},
   "outputs": [
    {
     "name": "stdout",
     "output_type": "stream",
     "text": [
      "Accuracy = 0.97\n",
      "Recall = 0.23\n",
      "\n"
     ]
    },
    {
     "data": {
      "image/png": "[encoded data removed]",
      "text/plain": [
       "<Figure size 576x432 with 2 Axes>"
      ]
     },
     "metadata": {
      "needs_background": "light"
     },
     "output_type": "display_data"
    }
   ],
   "source": [
    "from sklearn.metrics import confusion_matrix,recall_score\n",
    "print(f'Accuracy = {accuracy_score(y_test, y_pred_rf):.2f}\\nRecall = {recall_score(y_test, y_pred_rf):.2f}\\n')\n",
    "cm = confusion_matrix(y_test, y_pred_rf)\n",
    "plt.figure(figsize=(8, 6))\n",
    "plt.title('Confusion Matrix (without SMOTE)', size=16)\n",
    "sns.heatmap(cm, annot=True, cmap='Blues');"
   ]
  },
  {
   "cell_type": "markdown",
   "metadata": {},
   "source": [
    "#### 3.5.2 XGBoost Classier<a id='3.5.2_XGBoost_Classifier'></a>"
   ]
  },
  {
   "cell_type": "code",
   "execution_count": 45,
   "metadata": {},
   "outputs": [
    {
     "name": "stdout",
     "output_type": "stream",
     "text": [
      "0.9705964032919023\n"
     ]
    }
   ],
   "source": [
    "# instantiate the XGBClassifier\n",
    "xg_boost = XGBClassifier(random_state=42, n_estimators=50, learning_rate=0.05)\n",
    "\n",
    "# fit to the train set\n",
    "xg_model = xg_boost.fit(x_train, y_train)\n",
    "\n",
    "# predict on the test set\n",
    "y_pred_xg = xg_model.predict(X_test)\n",
    "\n",
    "# check for accuracy\n",
    "print(accuracy_score(y_pred_xg, y_test))"
   ]
  },
  {
   "cell_type": "code",
   "execution_count": 46,
   "metadata": {},
   "outputs": [
    {
     "name": "stdout",
     "output_type": "stream",
     "text": [
      "Accuracy = 0.97\n",
      "Recall = 0.21\n",
      "\n"
     ]
    },
    {
     "data": {
      "image/png": "[encoded data removed]",
      "text/plain": [
       "<Figure size 576x432 with 2 Axes>"
      ]
     },
     "metadata": {
      "needs_background": "light"
     },
     "output_type": "display_data"
    }
   ],
   "source": [
    "from sklearn.metrics import confusion_matrix,recall_score\n",
    "print(f'Accuracy = {accuracy_score(y_test, y_pred_xg):.2f}\\nRecall = {recall_score(y_test, y_pred_xg):.2f}\\n')\n",
    "cm = confusion_matrix(y_test, y_pred_xg)\n",
    "plt.figure(figsize=(8, 6))\n",
    "plt.title('Confusion Matrix (without SMOTE)', size=16)\n",
    "sns.heatmap(cm, annot=True, cmap='Blues');"
   ]
  },
  {
   "cell_type": "markdown",
   "metadata": {},
   "source": [
    "#### 3.5.3 Deep Learning Keras Model<a id='3.5.3_Deep_Learning_Keras_Model'></a>"
   ]
  },
  {
   "cell_type": "code",
   "execution_count": 47,
   "metadata": {},
   "outputs": [],
   "source": [
    "from keras.models import Sequential\n",
    "from keras.layers import Dense\n",
    "from keras.utils.np_utils import to_categorical"
   ]
  },
  {
   "cell_type": "code",
   "execution_count": 48,
   "metadata": {},
   "outputs": [],
   "source": [
    "# convert x_train, x_val and X_test to matrix\n",
    "x_train = x_train.values\n",
    "x_val = x_val.values\n",
    "X_test = X_test.values"
   ]
  },
  {
   "cell_type": "code",
   "execution_count": 49,
   "metadata": {},
   "outputs": [
    {
     "name": "stdout",
     "output_type": "stream",
     "text": [
      "Epoch 1/10\n",
      "5191/5191 [==============================] - 11s 2ms/step - loss: 36.0514 - accuracy: 0.9405 - val_loss: 27.8420 - val_accuracy: 0.9664\n",
      "Epoch 2/10\n",
      "5191/5191 [==============================] - 8s 2ms/step - loss: 16.5808 - accuracy: 0.9466 - val_loss: 4.5775 - val_accuracy: 0.9055\n",
      "Epoch 3/10\n",
      "5191/5191 [==============================] - 8s 2ms/step - loss: 9.1843 - accuracy: 0.9522 - val_loss: 7.5525 - val_accuracy: 0.9661\n",
      "Epoch 4/10\n",
      "5191/5191 [==============================] - 9s 2ms/step - loss: 3.4144 - accuracy: 0.9580 - val_loss: 0.4370 - val_accuracy: 0.9690\n",
      "Epoch 5/10\n",
      "5191/5191 [==============================] - 9s 2ms/step - loss: 0.4658 - accuracy: 0.9625 - val_loss: 0.1986 - val_accuracy: 0.9650\n",
      "Epoch 6/10\n",
      "5191/5191 [==============================] - 9s 2ms/step - loss: 0.1406 - accuracy: 0.9655 - val_loss: 0.1377 - val_accuracy: 0.9651\n",
      "Epoch 7/10\n",
      "5191/5191 [==============================] - 11s 2ms/step - loss: 0.1458 - accuracy: 0.9653 - val_loss: 0.1957 - val_accuracy: 0.9651\n",
      "Epoch 8/10\n",
      "5191/5191 [==============================] - 14s 3ms/step - loss: 0.1377 - accuracy: 0.9650 - val_loss: 0.1462 - val_accuracy: 0.9651\n",
      "Epoch 9/10\n",
      "5191/5191 [==============================] - 11s 2ms/step - loss: 0.1329 - accuracy: 0.9656 - val_loss: 0.1347 - val_accuracy: 0.9651\n",
      "Epoch 10/10\n",
      "5191/5191 [==============================] - 13s 3ms/step - loss: 0.1335 - accuracy: 0.9658 - val_loss: 0.1313 - val_accuracy: 0.9651\n"
     ]
    },
    {
     "data": {
      "text/plain": [
       "<tensorflow.python.keras.callbacks.History at 0x1542c82e8>"
      ]
     },
     "execution_count": 49,
     "metadata": {},
     "output_type": "execute_result"
    }
   ],
   "source": [
    "#Design the deep neural network [Small + 1 layer]\n",
    "model  = Sequential()\n",
    "model.add(Dense(256,input_dim = x_train.shape[1],activation=\"relu\"))\n",
    "model.add(Dense(1,activation = \"sigmoid\")) #activation = sigmoid for binary classification\n",
    "model.compile(optimizer = \"Adam\",loss=\"binary_crossentropy\", metrics=[\"accuracy\"])\n",
    "model.fit(x_train,y_train, validation_data = (x_val,y_val),epochs=10, batch_size=64)"
   ]
  },
  {
   "cell_type": "code",
   "execution_count": 50,
   "metadata": {},
   "outputs": [
    {
     "name": "stdout",
     "output_type": "stream",
     "text": [
      "4614/4614 [==============================] - 4s 768us/step - loss: 0.1307 - accuracy: 0.9641\n",
      "Metric  loss : 0.13\n",
      "Metric  accuracy : 0.96\n"
     ]
    }
   ],
   "source": [
    "# evaluate the model on the test set\n",
    "result = model.evaluate(X_test,y_test)\n",
    "\n",
    "for i in range(len(model.metrics_names)):\n",
    "    print(\"Metric \",model.metrics_names[i],\":\",str(round(result[i],2)))"
   ]
  },
  {
   "cell_type": "markdown",
   "metadata": {},
   "source": [
    "The overall accuracy after 10 epochs is 96.54% and the validation accuracy is 96.99%. The accuracy on the test set is about 96%"
   ]
  },
  {
   "cell_type": "code",
   "execution_count": 51,
   "metadata": {},
   "outputs": [
    {
     "name": "stdout",
     "output_type": "stream",
     "text": [
      "Epoch 1/10\n",
      "5191/5191 [==============================] - 12s 2ms/step - loss: 48.0872 - accuracy: 0.9418 - val_loss: 0.3963 - val_accuracy: 0.9659\n",
      "Epoch 2/10\n",
      "5191/5191 [==============================] - 11s 2ms/step - loss: 0.3766 - accuracy: 0.9632 - val_loss: 0.1903 - val_accuracy: 0.9653\n",
      "Epoch 3/10\n",
      "5191/5191 [==============================] - 11s 2ms/step - loss: 0.1672 - accuracy: 0.9648 - val_loss: 0.1663 - val_accuracy: 0.9651\n",
      "Epoch 4/10\n",
      "5191/5191 [==============================] - 11s 2ms/step - loss: 0.1906 - accuracy: 0.9649 - val_loss: 0.1807 - val_accuracy: 0.9651\n",
      "Epoch 5/10\n",
      "5191/5191 [==============================] - 11s 2ms/step - loss: 0.1675 - accuracy: 0.9652 - val_loss: 0.1404 - val_accuracy: 0.9650\n",
      "Epoch 6/10\n",
      "5191/5191 [==============================] - 11s 2ms/step - loss: 0.1639 - accuracy: 0.9650 - val_loss: 0.2864 - val_accuracy: 0.9651\n",
      "Epoch 7/10\n",
      "5191/5191 [==============================] - 11s 2ms/step - loss: 0.1434 - accuracy: 0.9656 - val_loss: 0.1384 - val_accuracy: 0.9650\n",
      "Epoch 8/10\n",
      "5191/5191 [==============================] - 11s 2ms/step - loss: 0.1570 - accuracy: 0.9651 - val_loss: 0.3584 - val_accuracy: 0.9638\n",
      "Epoch 9/10\n",
      "5191/5191 [==============================] - 13s 2ms/step - loss: 0.1402 - accuracy: 0.9651 - val_loss: 0.1507 - val_accuracy: 0.9651\n",
      "Epoch 10/10\n",
      "5191/5191 [==============================] - 13s 2ms/step - loss: 0.1680 - accuracy: 0.9658 - val_loss: 0.1526 - val_accuracy: 0.9651\n"
     ]
    }
   ],
   "source": [
    "#Design the deep neural network [Small + 2 layers]\n",
    "model2  = Sequential()\n",
    "model2.add(Dense(256,input_dim = x_train.shape[1],activation=\"relu\"))\n",
    "model2.add(Dense(256,activation=\"relu\"))\n",
    "model2.add(Dense(1,activation = \"sigmoid\"))\n",
    "model2.compile(optimizer = \"Adam\",loss=\"binary_crossentropy\", metrics=[\"accuracy\"])\n",
    "history = model2.fit(x_train,y_train, validation_data = (x_val,y_val), epochs=10, batch_size=64)"
   ]
  },
  {
   "cell_type": "code",
   "execution_count": 52,
   "metadata": {},
   "outputs": [
    {
     "name": "stdout",
     "output_type": "stream",
     "text": [
      "Model: \"sequential_1\"\n",
      "_________________________________________________________________\n",
      "Layer (type)                 Output Shape              Param #   \n",
      "=================================================================\n",
      "dense_2 (Dense)              (None, 256)               116224    \n",
      "_________________________________________________________________\n",
      "dense_3 (Dense)              (None, 256)               65792     \n",
      "_________________________________________________________________\n",
      "dense_4 (Dense)              (None, 1)                 257       \n",
      "=================================================================\n",
      "Total params: 182,273\n",
      "Trainable params: 182,273\n",
      "Non-trainable params: 0\n",
      "_________________________________________________________________\n"
     ]
    }
   ],
   "source": [
    "model2.summary()"
   ]
  },
  {
   "cell_type": "code",
   "execution_count": 53,
   "metadata": {},
   "outputs": [
    {
     "name": "stdout",
     "output_type": "stream",
     "text": [
      "4614/4614 [==============================] - 4s 857us/step - loss: 0.1460 - accuracy: 0.9640\n",
      "Metric  loss : 0.15\n",
      "Metric  accuracy : 0.96\n"
     ]
    }
   ],
   "source": [
    "# evaluate the model on the test set\n",
    "result = model2.evaluate(X_test,y_test)\n",
    "\n",
    "for i in range(len(model2.metrics_names)):\n",
    "    print(\"Metric \",model2.metrics_names[i],\":\",str(round(result[i],2)))"
   ]
  },
  {
   "cell_type": "markdown",
   "metadata": {},
   "source": [
    "We see an a slight improvement in the overall accuracy and the validation accuracy with 96.58% for training. The test score didn't change, with the same 96% accuracy."
   ]
  },
  {
   "cell_type": "code",
   "execution_count": 54,
   "metadata": {},
   "outputs": [
    {
     "data": {
      "image/png": "[encoded data removed]",
      "text/plain": [
       "<Figure size 432x288 with 1 Axes>"
      ]
     },
     "metadata": {
      "needs_background": "light"
     },
     "output_type": "display_data"
    }
   ],
   "source": [
    "# Model's Training & Validation loss across epochs\n",
    "plt.plot(history.history['loss'])\n",
    "plt.plot(history.history['val_loss'])\n",
    "plt.title(\"Model's Training & Validation loss across epochs\")\n",
    "plt.ylabel('Loss')\n",
    "plt.xlabel('Epochs')\n",
    "plt.legend(['Train', 'Validation'], loc='upper right')\n",
    "plt.show()"
   ]
  },
  {
   "cell_type": "code",
   "execution_count": null,
   "metadata": {},
   "outputs": [],
   "source": []
  },
  {
   "cell_type": "code",
   "execution_count": 55,
   "metadata": {},
   "outputs": [
    {
     "data": {
      "image/png": "[encoded data removed]",
      "text/plain": [
       "<Figure size 432x288 with 1 Axes>"
      ]
     },
     "metadata": {
      "needs_background": "light"
     },
     "output_type": "display_data"
    }
   ],
   "source": [
    "# Model's Training & Validation Accuracy across epochs\n",
    "plt.plot(history.history['accuracy']) \n",
    "plt.plot(history.history['val_accuracy'])\n",
    "plt.title(\"Model's Training & Validation Accuracy across epochs\") \n",
    "plt.ylabel('Accuracy')\n",
    "plt.xlabel('Epochs')\n",
    "plt.legend(['Train', 'Validation'], loc='upper right') \n",
    "plt.show()"
   ]
  },
  {
   "cell_type": "markdown",
   "metadata": {},
   "source": [
    "#### 3.6 SMOTE for Imbalanced target variable<a id='3.6_SMOTE_for_Imbalanced_target_variable'></a>"
   ]
  },
  {
   "cell_type": "code",
   "execution_count": 56,
   "metadata": {},
   "outputs": [
    {
     "name": "stdout",
     "output_type": "stream",
     "text": [
      "Shape of X before SMOTE: (590540, 453)\n",
      "Shape of X after SMOTE: (1139754, 453)\n",
      "\n",
      "Balance of positive and negative classes (%):\n"
     ]
    },
    {
     "data": {
      "text/plain": [
       "0    50.0\n",
       "1    50.0\n",
       "Name: isFraud, dtype: float64"
      ]
     },
     "execution_count": 56,
     "metadata": {},
     "output_type": "execute_result"
    }
   ],
   "source": [
    "# applying SMOTE to make sure the model is not overfitting\n",
    "from imblearn.over_sampling import SMOTE \n",
    "\n",
    "sm = SMOTE(random_state=42)\n",
    "\n",
    "X_sm, y_sm = sm.fit_resample(X, y)\n",
    "\n",
    "print(f'''Shape of X before SMOTE: {X.shape}\n",
    "Shape of X after SMOTE: {X_sm.shape}''')\n",
    "\n",
    "print('\\nBalance of positive and negative classes (%):')\n",
    "y_sm.value_counts(normalize=True) * 100"
   ]
  },
  {
   "cell_type": "code",
   "execution_count": 57,
   "metadata": {},
   "outputs": [],
   "source": [
    "# scale training and test set\n",
    "scaler = StandardScaler()\n",
    "scaler.fit(X_sm)\n",
    "X_scaled_sm = scaler.transform(X_sm)"
   ]
  },
  {
   "cell_type": "code",
   "execution_count": 58,
   "metadata": {},
   "outputs": [],
   "source": [
    "# split to train and test sets\n",
    "X_train_sm, X_test_sm, y_train_sm, y_test_sm = train_test_split(\n",
    "    X_scaled_sm, y_sm, test_size=0.25, random_state=42\n",
    ")"
   ]
  },
  {
   "cell_type": "code",
   "execution_count": 60,
   "metadata": {},
   "outputs": [],
   "source": [
    "# further split to train and validation sets\n",
    "x_train_sm, x_val_sm, y_train_sm, y_val_sm = train_test_split(\n",
    "    X_train_sm, y_train_sm, test_size=0.25, random_state=42\n",
    ")"
   ]
  },
  {
   "cell_type": "markdown",
   "metadata": {},
   "source": [
    "#### 3.6.1 RandomForest Classifier<a id='3.6.1_RandomForest_Classifier'></a>"
   ]
  },
  {
   "cell_type": "code",
   "execution_count": 61,
   "metadata": {},
   "outputs": [
    {
     "name": "stdout",
     "output_type": "stream",
     "text": [
      "0.9065554381815055\n",
      "Accuracy = 0.91\n",
      "Recall = 0.87\n",
      "\n"
     ]
    },
    {
     "data": {
      "image/png": "[encoded data removed]",
      "text/plain": [
       "<Figure size 576x432 with 2 Axes>"
      ]
     },
     "metadata": {
      "needs_background": "light"
     },
     "output_type": "display_data"
    }
   ],
   "source": [
    "from sklearn.metrics import classification_report,confusion_matrix,roc_curve,roc_auc_score,recall_score\n",
    "\n",
    "# instantiate RandomForestClassifier\n",
    "rf_clf1 = RandomForestClassifier(n_estimators=500, max_depth=8, min_samples_split=2, random_state=42)\n",
    "\n",
    "# fit to the training set\n",
    "rf_clf1.fit(x_train_sm, y_train_sm)\n",
    "\n",
    "# predict on the test set\n",
    "y_pred_rf1 = rf_clf1.predict(X_test_sm)\n",
    "\n",
    "# check accuracy score\n",
    "print(accuracy_score(y_pred_rf1, y_test_sm))\n",
    "\n",
    "print(f'Accuracy = {accuracy_score(y_test_sm, y_pred_rf1):.2f}\\nRecall = {recall_score(y_test_sm, y_pred_rf1):.2f}\\n')\n",
    "cm = confusion_matrix(y_test_sm, y_pred_rf1)\n",
    "plt.figure(figsize=(8, 6))\n",
    "plt.title('Confusion Matrix (with SMOTE)', size=16)\n",
    "sns.heatmap(cm, annot=True, cmap='Blues');"
   ]
  },
  {
   "cell_type": "markdown",
   "metadata": {},
   "source": [
    "#### 3.6.2 XGBoost Classifier<a id='3.6.2_XGBoost_Classifier'></a>"
   ]
  },
  {
   "cell_type": "code",
   "execution_count": 62,
   "metadata": {},
   "outputs": [
    {
     "name": "stdout",
     "output_type": "stream",
     "text": [
      "0.8866810089176982\n",
      "Accuracy = 0.89\n",
      "Recall = 0.87\n",
      "\n"
     ]
    },
    {
     "data": {
      "image/png": "[encoded data removed]",
      "text/plain": [
       "<Figure size 576x432 with 2 Axes>"
      ]
     },
     "metadata": {
      "needs_background": "light"
     },
     "output_type": "display_data"
    }
   ],
   "source": [
    "# instantiate the XGBClassifier\n",
    "xg_boost1 = XGBClassifier(random_state=42, n_estimators=50, learning_rate=0.05)\n",
    "\n",
    "# fit to the train set\n",
    "xg_model1 = xg_boost1.fit(x_train_sm, y_train_sm)\n",
    "\n",
    "# predict on the test set\n",
    "y_pred_xg1 = xg_model1.predict(X_test_sm)\n",
    "\n",
    "# check for accuracy\n",
    "print(accuracy_score(y_pred_xg1, y_test_sm))\n",
    "\n",
    "print(f'Accuracy = {accuracy_score(y_test_sm, y_pred_xg1):.2f}\\nRecall = {recall_score(y_test_sm, y_pred_xg1):.2f}\\n')\n",
    "cm = confusion_matrix(y_test_sm, y_pred_xg1)\n",
    "plt.figure(figsize=(8, 6))\n",
    "plt.title('Confusion Matrix (with SMOTE)', size=16)\n",
    "sns.heatmap(cm, annot=True, cmap='Blues');"
   ]
  },
  {
   "cell_type": "markdown",
   "metadata": {},
   "source": [
    "#### 3.6.2 Deeplearning with Keras<a id='3.6.2_Deeplearning_with_Keras'></a>"
   ]
  },
  {
   "cell_type": "code",
   "execution_count": 63,
   "metadata": {},
   "outputs": [
    {
     "name": "stdout",
     "output_type": "stream",
     "text": [
      "Epoch 1/10\n",
      "10018/10018 [==============================] - 32s 3ms/step - loss: 0.1723 - accuracy: 0.9345 - val_loss: 0.0971 - val_accuracy: 0.9660\n",
      "Epoch 2/10\n",
      "10018/10018 [==============================] - 23s 2ms/step - loss: 0.0864 - accuracy: 0.9702 - val_loss: 0.0708 - val_accuracy: 0.9762\n",
      "Epoch 3/10\n",
      "10018/10018 [==============================] - 21s 2ms/step - loss: 0.0674 - accuracy: 0.9773 - val_loss: 0.0674 - val_accuracy: 0.9771\n",
      "Epoch 4/10\n",
      "10018/10018 [==============================] - 21s 2ms/step - loss: 0.0588 - accuracy: 0.9804 - val_loss: 0.0594 - val_accuracy: 0.9807\n",
      "Epoch 5/10\n",
      "10018/10018 [==============================] - 22s 2ms/step - loss: 0.0508 - accuracy: 0.9834 - val_loss: 0.0560 - val_accuracy: 0.9820\n",
      "Epoch 6/10\n",
      "10018/10018 [==============================] - 23s 2ms/step - loss: 0.0466 - accuracy: 0.9849 - val_loss: 0.0547 - val_accuracy: 0.9830\n",
      "Epoch 7/10\n",
      "10018/10018 [==============================] - 22s 2ms/step - loss: 0.0428 - accuracy: 0.9860 - val_loss: 0.0569 - val_accuracy: 0.9832\n",
      "Epoch 8/10\n",
      "10018/10018 [==============================] - 22s 2ms/step - loss: 0.0400 - accuracy: 0.9869 - val_loss: 0.0488 - val_accuracy: 0.9855\n",
      "Epoch 9/10\n",
      "10018/10018 [==============================] - 23s 2ms/step - loss: 0.0371 - accuracy: 0.9882 - val_loss: 0.0506 - val_accuracy: 0.9847\n",
      "Epoch 10/10\n",
      "10018/10018 [==============================] - 22s 2ms/step - loss: 0.0344 - accuracy: 0.9890 - val_loss: 0.0517 - val_accuracy: 0.9849\n"
     ]
    }
   ],
   "source": [
    "#Design the deep neural network [Small + 2 layers]\n",
    "model3  = Sequential()\n",
    "model3.add(Dense(256,input_dim = x_train_sm.shape[1],activation=\"relu\"))\n",
    "model3.add(Dense(256,activation=\"relu\"))\n",
    "model3.add(Dense(1,activation = \"sigmoid\"))\n",
    "model3.compile(optimizer = \"Adam\",loss=\"binary_crossentropy\", metrics=[\"accuracy\"])\n",
    "history = model3.fit(x_train_sm, y_train_sm, validation_data = (x_val_sm,y_val_sm), epochs=10, batch_size=64)"
   ]
  },
  {
   "cell_type": "code",
   "execution_count": 65,
   "metadata": {},
   "outputs": [
    {
     "name": "stdout",
     "output_type": "stream",
     "text": [
      "8905/8905 [==============================] - 10s 1ms/step - loss: 0.0523 - accuracy: 0.9846\n",
      "Metric  loss : 0.05\n",
      "Metric  accuracy : 0.98\n"
     ]
    }
   ],
   "source": [
    "# evaluate the model on the test set\n",
    "result = model3.evaluate(X_test_sm,y_test_sm)\n",
    "\n",
    "for i in range(len(model3.metrics_names)):\n",
    "    print(\"Metric \",model3.metrics_names[i],\":\",str(round(result[i],2)))"
   ]
  },
  {
   "cell_type": "markdown",
   "metadata": {},
   "source": [
    "### 3.7 Test Data for Submission<a id='3.7_Test Data for Submission'></a>"
   ]
  },
  {
   "cell_type": "code",
   "execution_count": 66,
   "metadata": {},
   "outputs": [],
   "source": [
    "test_identity = pd.read_csv('/ieee-fraud-detection/test_identity.csv')\n",
    "test_transaction = pd.read_csv('/ieee-fraud-detection/test_transaction.csv')"
   ]
  },
  {
   "cell_type": "code",
   "execution_count": 67,
   "metadata": {},
   "outputs": [],
   "source": [
    "# merge transaction and identity datasets\n",
    "test_data = pd.merge(test_transaction, test_identity, on='TransactionID', how='left')"
   ]
  },
  {
   "cell_type": "code",
   "execution_count": 68,
   "metadata": {},
   "outputs": [],
   "source": [
    "test_data.columns = [x.replace('-','_') for x in test_data.columns]"
   ]
  },
  {
   "cell_type": "code",
   "execution_count": 69,
   "metadata": {},
   "outputs": [
    {
     "name": "stdout",
     "output_type": "stream",
     "text": [
      "Mem. usage decreased to 2211.13 Mb (0.3% reduction)\n"
     ]
    }
   ],
   "source": [
    "test_data = reduce_mem_usage(test_data)"
   ]
  },
  {
   "cell_type": "code",
   "execution_count": 70,
   "metadata": {},
   "outputs": [],
   "source": [
    "# mapping email address to check the percent\n",
    "# of fraud by email addresses\n",
    "emails = {'gmail': 'google', 'att.net': 'att', 'twc.com': 'spectrum', 'scranton.edu': 'other', \n",
    "          'optonline.net': 'other', 'hotmail.co.uk': 'microsoft', 'comcast.net': 'other', \n",
    "          'yahoo.com.mx': 'yahoo', 'yahoo.fr': 'yahoo', 'yahoo.es': 'yahoo', 'charter.net': \n",
    "          'spectrum', 'live.com': 'microsoft', 'aim.com': 'aol', 'hotmail.de': 'microsoft', \n",
    "          'centurylink.net': 'centurylink', 'gmail.com': 'google', 'me.com': 'apple', \n",
    "          'earthlink.net': 'other', 'gmx.de': 'other', 'web.de': 'other', 'cfl.rr.com': 'other', \n",
    "          'hotmail.com': 'microsoft', 'protonmail.com': 'other', 'hotmail.fr': 'microsoft', \n",
    "          'windstream.net': 'other', 'outlook.es': 'microsoft', 'yahoo.co.jp': 'yahoo', \n",
    "          'yahoo.de': 'yahoo', 'servicios-ta.com': 'other', 'netzero.net': 'other', \n",
    "          'suddenlink.net': 'other', 'roadrunner.com': 'other', 'sc.rr.com': 'other', \n",
    "          'live.fr': 'microsoft', 'verizon.net': 'yahoo', 'msn.com': 'microsoft', 'q.com': 'centurylink', \n",
    "          'prodigy.net.mx': 'att', 'frontier.com': 'yahoo', 'anonymous.com': 'other', \n",
    "          'rocketmail.com': 'yahoo', 'sbcglobal.net': 'att', 'frontiernet.net': 'yahoo', \n",
    "          'ymail.com': 'yahoo', 'outlook.com': 'microsoft', 'mail.com': 'other', 'bellsouth.net': 'other', \n",
    "          'embarqmail.com': 'centurylink', 'cableone.net': 'other', 'hotmail.es': 'microsoft',\n",
    "          'mac.com': 'apple', 'yahoo.co.uk': 'yahoo', 'netzero.com': 'other', 'yahoo.com': 'yahoo', \n",
    "          'live.com.mx': 'microsoft', 'ptd.net': 'other', 'cox.net': 'other', 'aol.com': 'aol', \n",
    "          'juno.com': 'other', 'icloud.com': 'apple'}\n",
    "us_emails = ['gmail', 'net', 'edu']\n",
    "\n",
    "for c in ['P_emaildomain', 'R_emaildomain']:\n",
    "    test_data[c + '_bin'] = test_data[c].map(emails)\n",
    "    #df1[c + '_suffix'] = df1[c].map(lambda x: str(x).split('.')[-1])\n",
    "    #df1[c + '_suffix'] = df1[c + '_suffix'].map(lambda x: x if str(x) not in us_emails else 'us')"
   ]
  },
  {
   "cell_type": "code",
   "execution_count": 71,
   "metadata": {},
   "outputs": [],
   "source": [
    "# convert TransactionDT to datetime\n",
    "# was believed the starting date was in 2017\n",
    "import datetime\n",
    "startdate = datetime.datetime.strptime('2017-12-01', '%Y-%m-%d')\n",
    "test_data['TransactionDT'] = test_data['TransactionDT'].apply(lambda x: (startdate + datetime.timedelta(seconds = x)))"
   ]
  },
  {
   "cell_type": "code",
   "execution_count": 72,
   "metadata": {},
   "outputs": [],
   "source": [
    "# extract year, month, day, hour, minutes and seconds from 'TransactionDT'\n",
    "test_data['TransactionDT_Month'] = test_data.TransactionDT.dt.month\n",
    "test_data['TransactionDT_Day'] = test_data.TransactionDT.dt.day\n",
    "test_data['TransactionDT_Year'] = test_data.TransactionDT.dt.year\n",
    "test_data['TransactionDT_Week Number'] = test_data.TransactionDT.dt.isocalendar().week \n",
    "test_data['TransactionDT_Day Of Week'] = test_data.TransactionDT.dt.dayofweek\n",
    "test_data['TransactionDT_Day Name']= pd.to_datetime(test_data['TransactionDT']).dt.day_name() \n",
    "test_data['TransactionDT_Month Name']=pd.to_datetime(test_data['TransactionDT']).dt.month_name()\n",
    "test_data['TransactionDT_Hour'] = test_data.TransactionDT.dt.hour\n",
    "test_data['TransactionDT_Minute'] = test_data.TransactionDT.dt.minute\n",
    "test_data['TransactionDT_Second'] = test_data.TransactionDT.dt.second"
   ]
  },
  {
   "cell_type": "code",
   "execution_count": 73,
   "metadata": {},
   "outputs": [
    {
     "data": {
      "text/plain": [
       "(506691, 445)"
      ]
     },
     "execution_count": 73,
     "metadata": {},
     "output_type": "execute_result"
    }
   ],
   "source": [
    "test_data.shape"
   ]
  },
  {
   "cell_type": "code",
   "execution_count": 74,
   "metadata": {},
   "outputs": [],
   "source": [
    "trans_id = test_data['TransactionID']"
   ]
  },
  {
   "cell_type": "code",
   "execution_count": 55,
   "metadata": {},
   "outputs": [],
   "source": [
    "#cols_1 = ['id-24', 'id-25', 'id-08', 'id-07', 'id-21', 'id-26', 'id-27', 'id-22', 'id-23', 'dist2', 'D7', 'id-18',\n",
    "            # 'TransactionID', 'TransactionDT', 'P_emaildomain', 'R_emaildomain', 'R_emaildomain_bin', 'DeviceInfo',\n",
    "                # 'card6']\n",
    "#test_data = test_data.drop(columns=cols_1, axis=1)"
   ]
  },
  {
   "cell_type": "code",
   "execution_count": null,
   "metadata": {},
   "outputs": [],
   "source": []
  },
  {
   "cell_type": "code",
   "execution_count": 75,
   "metadata": {},
   "outputs": [],
   "source": [
    "test_col = X_train.columns.tolist()"
   ]
  },
  {
   "cell_type": "code",
   "execution_count": 97,
   "metadata": {},
   "outputs": [],
   "source": [
    "#test_col"
   ]
  },
  {
   "cell_type": "code",
   "execution_count": 76,
   "metadata": {},
   "outputs": [
    {
     "data": {
      "text/plain": [
       "453"
      ]
     },
     "execution_count": 76,
     "metadata": {},
     "output_type": "execute_result"
    }
   ],
   "source": [
    "len(test_col)"
   ]
  },
  {
   "cell_type": "code",
   "execution_count": 149,
   "metadata": {},
   "outputs": [],
   "source": [
    "#test_col = test_col[1:]"
   ]
  },
  {
   "cell_type": "code",
   "execution_count": 128,
   "metadata": {},
   "outputs": [],
   "source": [
    "#test_col.append('TransactionID')"
   ]
  },
  {
   "cell_type": "code",
   "execution_count": 35,
   "metadata": {},
   "outputs": [],
   "source": [
    "#len(test_col)"
   ]
  },
  {
   "cell_type": "code",
   "execution_count": 150,
   "metadata": {},
   "outputs": [],
   "source": [
    "#test_df = test_data[test_col]"
   ]
  },
  {
   "cell_type": "code",
   "execution_count": 36,
   "metadata": {},
   "outputs": [],
   "source": [
    "#len(test_df.columns)"
   ]
  },
  {
   "cell_type": "code",
   "execution_count": 77,
   "metadata": {},
   "outputs": [],
   "source": [
    "# fillna for numeric columns\n",
    "test_data.fillna(test_data.select_dtypes(include='number').median().iloc[0], inplace=True)\n",
    "\n",
    "# fillna for categorical columns\n",
    "test_data.fillna(test_data.select_dtypes(include='object').mode().iloc[0], inplace=True)"
   ]
  },
  {
   "cell_type": "code",
   "execution_count": 78,
   "metadata": {},
   "outputs": [],
   "source": [
    "test_df = pd.get_dummies(test_data, drop_first=True)"
   ]
  },
  {
   "cell_type": "code",
   "execution_count": 111,
   "metadata": {},
   "outputs": [
    {
     "data": {
      "text/plain": [
       "(506691, 3454)"
      ]
     },
     "execution_count": 111,
     "metadata": {},
     "output_type": "execute_result"
    }
   ],
   "source": [
    "test_df.shape"
   ]
  },
  {
   "cell_type": "code",
   "execution_count": 79,
   "metadata": {},
   "outputs": [],
   "source": [
    "test_df = test_df[test_col]"
   ]
  },
  {
   "cell_type": "code",
   "execution_count": 80,
   "metadata": {},
   "outputs": [
    {
     "data": {
      "text/plain": [
       "(506691, 453)"
      ]
     },
     "execution_count": 80,
     "metadata": {},
     "output_type": "execute_result"
    }
   ],
   "source": [
    "test_df.shape"
   ]
  },
  {
   "cell_type": "code",
   "execution_count": 81,
   "metadata": {},
   "outputs": [],
   "source": [
    "# scale training and test set\n",
    "scaler = StandardScaler()\n",
    "scaler.fit(test_df)\n",
    "test_df_scaled = scaler.transform(test_df)"
   ]
  },
  {
   "cell_type": "code",
   "execution_count": 82,
   "metadata": {},
   "outputs": [],
   "source": [
    "y_pred = model3.predict(test_df_scaled)"
   ]
  },
  {
   "cell_type": "code",
   "execution_count": 83,
   "metadata": {},
   "outputs": [
    {
     "data": {
      "text/plain": [
       "array([[1.0000000e+00],\n",
       "       [9.9596393e-01],\n",
       "       [9.9868500e-01],\n",
       "       ...,\n",
       "       [6.0400464e-05],\n",
       "       [2.4244189e-04],\n",
       "       [7.2847921e-01]], dtype=float32)"
      ]
     },
     "execution_count": 83,
     "metadata": {},
     "output_type": "execute_result"
    }
   ],
   "source": [
    "y_pred"
   ]
  },
  {
   "cell_type": "code",
   "execution_count": 99,
   "metadata": {},
   "outputs": [
    {
     "ename": "ValueError",
     "evalue": "Data must be 1-dimensional",
     "output_type": "error",
     "traceback": [
      "\u001b[0;31m---------------------------------------------------------------------------\u001b[0m",
      "\u001b[0;31mValueError\u001b[0m                                Traceback (most recent call last)",
      "\u001b[0;32m<ipython-input-99-24090fe21c06>\u001b[0m in \u001b[0;36m<module>\u001b[0;34m\u001b[0m\n\u001b[1;32m      1\u001b[0m \u001b[0;31m# Write dataframe to csv\u001b[0m\u001b[0;34m\u001b[0m\u001b[0;34m\u001b[0m\u001b[0;34m\u001b[0m\u001b[0m\n\u001b[1;32m      2\u001b[0m \u001b[0;31m# for submission\u001b[0m\u001b[0;34m\u001b[0m\u001b[0;34m\u001b[0m\u001b[0;34m\u001b[0m\u001b[0m\n\u001b[0;32m----> 3\u001b[0;31m \u001b[0msubmission\u001b[0m \u001b[0;34m=\u001b[0m \u001b[0mpd\u001b[0m\u001b[0;34m.\u001b[0m\u001b[0mDataFrame\u001b[0m\u001b[0;34m(\u001b[0m\u001b[0;34m{\u001b[0m\u001b[0;34m\"TransactionID\"\u001b[0m\u001b[0;34m:\u001b[0m\u001b[0mtrans_id\u001b[0m\u001b[0;34m,\u001b[0m \u001b[0;34m\"isFraud\"\u001b[0m\u001b[0;34m:\u001b[0m \u001b[0my_pred_array\u001b[0m\u001b[0;34m}\u001b[0m\u001b[0;34m)\u001b[0m\u001b[0;34m\u001b[0m\u001b[0;34m\u001b[0m\u001b[0m\n\u001b[0m\u001b[1;32m      4\u001b[0m \u001b[0msubmission\u001b[0m\u001b[0;34m.\u001b[0m\u001b[0mto_csv\u001b[0m\u001b[0;34m(\u001b[0m\u001b[0;34m'/Users/felixoffei/Desktop/Springboard/Capstone/Capstone Project3/iee_prediction.csv'\u001b[0m\u001b[0;34m,\u001b[0m \u001b[0mindex\u001b[0m\u001b[0;34m=\u001b[0m\u001b[0;32mFalse\u001b[0m\u001b[0;34m)\u001b[0m\u001b[0;34m\u001b[0m\u001b[0;34m\u001b[0m\u001b[0m\n",
      "\u001b[0;32m/usr/local/lib/python3.7/site-packages/pandas/core/frame.py\u001b[0m in \u001b[0;36m__init__\u001b[0;34m(self, data, index, columns, dtype, copy)\u001b[0m\n\u001b[1;32m    527\u001b[0m \u001b[0;34m\u001b[0m\u001b[0m\n\u001b[1;32m    528\u001b[0m         \u001b[0;32melif\u001b[0m \u001b[0misinstance\u001b[0m\u001b[0;34m(\u001b[0m\u001b[0mdata\u001b[0m\u001b[0;34m,\u001b[0m \u001b[0mdict\u001b[0m\u001b[0;34m)\u001b[0m\u001b[0;34m:\u001b[0m\u001b[0;34m\u001b[0m\u001b[0;34m\u001b[0m\u001b[0m\n\u001b[0;32m--> 529\u001b[0;31m             \u001b[0mmgr\u001b[0m \u001b[0;34m=\u001b[0m \u001b[0minit_dict\u001b[0m\u001b[0;34m(\u001b[0m\u001b[0mdata\u001b[0m\u001b[0;34m,\u001b[0m \u001b[0mindex\u001b[0m\u001b[0;34m,\u001b[0m \u001b[0mcolumns\u001b[0m\u001b[0;34m,\u001b[0m \u001b[0mdtype\u001b[0m\u001b[0;34m=\u001b[0m\u001b[0mdtype\u001b[0m\u001b[0;34m)\u001b[0m\u001b[0;34m\u001b[0m\u001b[0;34m\u001b[0m\u001b[0m\n\u001b[0m\u001b[1;32m    530\u001b[0m         \u001b[0;32melif\u001b[0m \u001b[0misinstance\u001b[0m\u001b[0;34m(\u001b[0m\u001b[0mdata\u001b[0m\u001b[0;34m,\u001b[0m \u001b[0mma\u001b[0m\u001b[0;34m.\u001b[0m\u001b[0mMaskedArray\u001b[0m\u001b[0;34m)\u001b[0m\u001b[0;34m:\u001b[0m\u001b[0;34m\u001b[0m\u001b[0;34m\u001b[0m\u001b[0m\n\u001b[1;32m    531\u001b[0m             \u001b[0;32mimport\u001b[0m \u001b[0mnumpy\u001b[0m\u001b[0;34m.\u001b[0m\u001b[0mma\u001b[0m\u001b[0;34m.\u001b[0m\u001b[0mmrecords\u001b[0m \u001b[0;32mas\u001b[0m \u001b[0mmrecords\u001b[0m\u001b[0;34m\u001b[0m\u001b[0;34m\u001b[0m\u001b[0m\n",
      "\u001b[0;32m/usr/local/lib/python3.7/site-packages/pandas/core/internals/construction.py\u001b[0m in \u001b[0;36minit_dict\u001b[0;34m(data, index, columns, dtype)\u001b[0m\n\u001b[1;32m    285\u001b[0m             \u001b[0marr\u001b[0m \u001b[0;32mif\u001b[0m \u001b[0;32mnot\u001b[0m \u001b[0mis_datetime64tz_dtype\u001b[0m\u001b[0;34m(\u001b[0m\u001b[0marr\u001b[0m\u001b[0;34m)\u001b[0m \u001b[0;32melse\u001b[0m \u001b[0marr\u001b[0m\u001b[0;34m.\u001b[0m\u001b[0mcopy\u001b[0m\u001b[0;34m(\u001b[0m\u001b[0;34m)\u001b[0m \u001b[0;32mfor\u001b[0m \u001b[0marr\u001b[0m \u001b[0;32min\u001b[0m \u001b[0marrays\u001b[0m\u001b[0;34m\u001b[0m\u001b[0;34m\u001b[0m\u001b[0m\n\u001b[1;32m    286\u001b[0m         ]\n\u001b[0;32m--> 287\u001b[0;31m     \u001b[0;32mreturn\u001b[0m \u001b[0marrays_to_mgr\u001b[0m\u001b[0;34m(\u001b[0m\u001b[0marrays\u001b[0m\u001b[0;34m,\u001b[0m \u001b[0mdata_names\u001b[0m\u001b[0;34m,\u001b[0m \u001b[0mindex\u001b[0m\u001b[0;34m,\u001b[0m \u001b[0mcolumns\u001b[0m\u001b[0;34m,\u001b[0m \u001b[0mdtype\u001b[0m\u001b[0;34m=\u001b[0m\u001b[0mdtype\u001b[0m\u001b[0;34m)\u001b[0m\u001b[0;34m\u001b[0m\u001b[0;34m\u001b[0m\u001b[0m\n\u001b[0m\u001b[1;32m    288\u001b[0m \u001b[0;34m\u001b[0m\u001b[0m\n\u001b[1;32m    289\u001b[0m \u001b[0;34m\u001b[0m\u001b[0m\n",
      "\u001b[0;32m/usr/local/lib/python3.7/site-packages/pandas/core/internals/construction.py\u001b[0m in \u001b[0;36marrays_to_mgr\u001b[0;34m(arrays, arr_names, index, columns, dtype, verify_integrity)\u001b[0m\n\u001b[1;32m     83\u001b[0m \u001b[0;34m\u001b[0m\u001b[0m\n\u001b[1;32m     84\u001b[0m         \u001b[0;31m# don't force copy because getting jammed in an ndarray anyway\u001b[0m\u001b[0;34m\u001b[0m\u001b[0;34m\u001b[0m\u001b[0;34m\u001b[0m\u001b[0m\n\u001b[0;32m---> 85\u001b[0;31m         \u001b[0marrays\u001b[0m \u001b[0;34m=\u001b[0m \u001b[0m_homogenize\u001b[0m\u001b[0;34m(\u001b[0m\u001b[0marrays\u001b[0m\u001b[0;34m,\u001b[0m \u001b[0mindex\u001b[0m\u001b[0;34m,\u001b[0m \u001b[0mdtype\u001b[0m\u001b[0;34m)\u001b[0m\u001b[0;34m\u001b[0m\u001b[0;34m\u001b[0m\u001b[0m\n\u001b[0m\u001b[1;32m     86\u001b[0m \u001b[0;34m\u001b[0m\u001b[0m\n\u001b[1;32m     87\u001b[0m         \u001b[0mcolumns\u001b[0m \u001b[0;34m=\u001b[0m \u001b[0mensure_index\u001b[0m\u001b[0;34m(\u001b[0m\u001b[0mcolumns\u001b[0m\u001b[0;34m)\u001b[0m\u001b[0;34m\u001b[0m\u001b[0;34m\u001b[0m\u001b[0m\n",
      "\u001b[0;32m/usr/local/lib/python3.7/site-packages/pandas/core/internals/construction.py\u001b[0m in \u001b[0;36m_homogenize\u001b[0;34m(data, index, dtype)\u001b[0m\n\u001b[1;32m    354\u001b[0m                 \u001b[0mval\u001b[0m \u001b[0;34m=\u001b[0m \u001b[0mlib\u001b[0m\u001b[0;34m.\u001b[0m\u001b[0mfast_multiget\u001b[0m\u001b[0;34m(\u001b[0m\u001b[0mval\u001b[0m\u001b[0;34m,\u001b[0m \u001b[0moindex\u001b[0m\u001b[0;34m.\u001b[0m\u001b[0m_values\u001b[0m\u001b[0;34m,\u001b[0m \u001b[0mdefault\u001b[0m\u001b[0;34m=\u001b[0m\u001b[0mnp\u001b[0m\u001b[0;34m.\u001b[0m\u001b[0mnan\u001b[0m\u001b[0;34m)\u001b[0m\u001b[0;34m\u001b[0m\u001b[0;34m\u001b[0m\u001b[0m\n\u001b[1;32m    355\u001b[0m             val = sanitize_array(\n\u001b[0;32m--> 356\u001b[0;31m                 \u001b[0mval\u001b[0m\u001b[0;34m,\u001b[0m \u001b[0mindex\u001b[0m\u001b[0;34m,\u001b[0m \u001b[0mdtype\u001b[0m\u001b[0;34m=\u001b[0m\u001b[0mdtype\u001b[0m\u001b[0;34m,\u001b[0m \u001b[0mcopy\u001b[0m\u001b[0;34m=\u001b[0m\u001b[0;32mFalse\u001b[0m\u001b[0;34m,\u001b[0m \u001b[0mraise_cast_failure\u001b[0m\u001b[0;34m=\u001b[0m\u001b[0;32mFalse\u001b[0m\u001b[0;34m\u001b[0m\u001b[0;34m\u001b[0m\u001b[0m\n\u001b[0m\u001b[1;32m    357\u001b[0m             )\n\u001b[1;32m    358\u001b[0m \u001b[0;34m\u001b[0m\u001b[0m\n",
      "\u001b[0;32m/usr/local/lib/python3.7/site-packages/pandas/core/construction.py\u001b[0m in \u001b[0;36msanitize_array\u001b[0;34m(data, index, dtype, copy, raise_cast_failure)\u001b[0m\n\u001b[1;32m    527\u001b[0m     \u001b[0;32melif\u001b[0m \u001b[0msubarr\u001b[0m\u001b[0;34m.\u001b[0m\u001b[0mndim\u001b[0m \u001b[0;34m>\u001b[0m \u001b[0;36m1\u001b[0m\u001b[0;34m:\u001b[0m\u001b[0;34m\u001b[0m\u001b[0;34m\u001b[0m\u001b[0m\n\u001b[1;32m    528\u001b[0m         \u001b[0;32mif\u001b[0m \u001b[0misinstance\u001b[0m\u001b[0;34m(\u001b[0m\u001b[0mdata\u001b[0m\u001b[0;34m,\u001b[0m \u001b[0mnp\u001b[0m\u001b[0;34m.\u001b[0m\u001b[0mndarray\u001b[0m\u001b[0;34m)\u001b[0m\u001b[0;34m:\u001b[0m\u001b[0;34m\u001b[0m\u001b[0;34m\u001b[0m\u001b[0m\n\u001b[0;32m--> 529\u001b[0;31m             \u001b[0;32mraise\u001b[0m \u001b[0mValueError\u001b[0m\u001b[0;34m(\u001b[0m\u001b[0;34m\"Data must be 1-dimensional\"\u001b[0m\u001b[0;34m)\u001b[0m\u001b[0;34m\u001b[0m\u001b[0;34m\u001b[0m\u001b[0m\n\u001b[0m\u001b[1;32m    530\u001b[0m         \u001b[0;32melse\u001b[0m\u001b[0;34m:\u001b[0m\u001b[0;34m\u001b[0m\u001b[0;34m\u001b[0m\u001b[0m\n\u001b[1;32m    531\u001b[0m             \u001b[0msubarr\u001b[0m \u001b[0;34m=\u001b[0m \u001b[0mcom\u001b[0m\u001b[0;34m.\u001b[0m\u001b[0masarray_tuplesafe\u001b[0m\u001b[0;34m(\u001b[0m\u001b[0mdata\u001b[0m\u001b[0;34m,\u001b[0m \u001b[0mdtype\u001b[0m\u001b[0;34m=\u001b[0m\u001b[0mdtype\u001b[0m\u001b[0;34m)\u001b[0m\u001b[0;34m\u001b[0m\u001b[0;34m\u001b[0m\u001b[0m\n",
      "\u001b[0;31mValueError\u001b[0m: Data must be 1-dimensional"
     ]
    }
   ],
   "source": [
    "# Write dataframe to csv\n",
    "# for submission\n",
    "submission = pd.DataFrame({\"TransactionID\":trans_id, \"isFraud\": y_pred_array})\n",
    "submission.to_csv('/iee_prediction.csv', index=False)"
   ]
  },
  {
   "cell_type": "code",
   "execution_count": 186,
   "metadata": {},
   "outputs": [],
   "source": [
    "y_pred_proba = xg_model.predict_proba(test_df)[:,1]"
   ]
  },
  {
   "cell_type": "code",
   "execution_count": 194,
   "metadata": {},
   "outputs": [
    {
     "data": {
      "text/plain": [
       "0.87613463"
      ]
     },
     "execution_count": 194,
     "metadata": {},
     "output_type": "execute_result"
    }
   ],
   "source": [
    "y_pred_proba.max()"
   ]
  },
  {
   "cell_type": "code",
   "execution_count": null,
   "metadata": {},
   "outputs": [],
   "source": []
  }
 ],
 "metadata": {
  "kernelspec": {
   "display_name": "Python 3",
   "language": "python",
   "name": "python3"
  },
  "language_info": {
   "codemirror_mode": {
    "name": "ipython",
    "version": 3
   },
   "file_extension": ".py",
   "mimetype": "text/x-python",
   "name": "python",
   "nbconvert_exporter": "python",
   "pygments_lexer": "ipython3",
   "version": "3.7.3"
  }
 },
 "nbformat": 4,
 "nbformat_minor": 2
}
